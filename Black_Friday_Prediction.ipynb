{
  "nbformat": 4,
  "nbformat_minor": 0,
  "metadata": {
    "colab": {
      "name": "Black Friday Prediction.ipynb",
      "provenance": [],
      "include_colab_link": true
    },
    "kernelspec": {
      "name": "python3",
      "display_name": "Python 3"
    },
    "language_info": {
      "name": "python"
    }
  },
  "cells": [
    {
      "cell_type": "markdown",
      "metadata": {
        "id": "view-in-github",
        "colab_type": "text"
      },
      "source": [
        "<a href=\"https://colab.research.google.com/github/Blutronics/MultipleRegression/blob/main/Black_Friday_Prediction.ipynb\" target=\"_parent\"><img src=\"https://colab.research.google.com/assets/colab-badge.svg\" alt=\"Open In Colab\"/></a>"
      ]
    },
    {
      "cell_type": "code",
      "execution_count": 30,
      "metadata": {
        "id": "ZnvAK50R3yZl"
      },
      "outputs": [],
      "source": [
        "import pandas as pd\n",
        "import numpy as np\n",
        "import seaborn as sns\n",
        "import matplotlib.pyplot as plt \n",
        "from scipy import stats\n",
        "import pylab\n",
        "import statsmodels.formula.api as smf # for regression model\n",
        "import statsmodels.api as sm\n",
        "from sklearn.model_selection import train_test_split\n",
        "from sklearn.preprocessing import MinMaxScaler\n"
      ]
    },
    {
      "cell_type": "markdown",
      "source": [
        "Female = 0 | Male = 1\n",
        "\n",
        "City Category A = 0 | City Category B = 1 | City Category C = 2"
      ],
      "metadata": {
        "id": "8qDOatBWDQCr"
      }
    },
    {
      "cell_type": "code",
      "source": [
        "df=pd.read_csv(\"blackfriday_train.csv\")\n",
        "df.head()"
      ],
      "metadata": {
        "colab": {
          "base_uri": "https://localhost:8080/",
          "height": 206
        },
        "id": "618AC_G439rA",
        "outputId": "723ae817-c672-44ff-ee11-fdf57e22e4da"
      },
      "execution_count": 40,
      "outputs": [
        {
          "output_type": "execute_result",
          "data": {
            "text/plain": [
              "   User_ID Product_ID Gender   Age  Occupation City_Category  \\\n",
              "0  1000001  P00069042      F  0-17          10             A   \n",
              "1  1000001  P00248942      F  0-17          10             A   \n",
              "2  1000001  P00087842      F  0-17          10             A   \n",
              "3  1000001  P00085442      F  0-17          10             A   \n",
              "4  1000002  P00285442      M   55+          16             C   \n",
              "\n",
              "  Stay_In_Current_City_Years  Marital_Status  Product_Category_1  \\\n",
              "0                          2               0                   3   \n",
              "1                          2               0                   1   \n",
              "2                          2               0                  12   \n",
              "3                          2               0                  12   \n",
              "4                         4+               0                   8   \n",
              "\n",
              "   Product_Category_2  Product_Category_3  Purchase  \n",
              "0                 NaN                 NaN      8370  \n",
              "1                 6.0                14.0     15200  \n",
              "2                 NaN                 NaN      1422  \n",
              "3                14.0                 NaN      1057  \n",
              "4                 NaN                 NaN      7969  "
            ],
            "text/html": [
              "\n",
              "  <div id=\"df-e4c2c892-7ee2-4926-8b70-16a7c886006e\">\n",
              "    <div class=\"colab-df-container\">\n",
              "      <div>\n",
              "<style scoped>\n",
              "    .dataframe tbody tr th:only-of-type {\n",
              "        vertical-align: middle;\n",
              "    }\n",
              "\n",
              "    .dataframe tbody tr th {\n",
              "        vertical-align: top;\n",
              "    }\n",
              "\n",
              "    .dataframe thead th {\n",
              "        text-align: right;\n",
              "    }\n",
              "</style>\n",
              "<table border=\"1\" class=\"dataframe\">\n",
              "  <thead>\n",
              "    <tr style=\"text-align: right;\">\n",
              "      <th></th>\n",
              "      <th>User_ID</th>\n",
              "      <th>Product_ID</th>\n",
              "      <th>Gender</th>\n",
              "      <th>Age</th>\n",
              "      <th>Occupation</th>\n",
              "      <th>City_Category</th>\n",
              "      <th>Stay_In_Current_City_Years</th>\n",
              "      <th>Marital_Status</th>\n",
              "      <th>Product_Category_1</th>\n",
              "      <th>Product_Category_2</th>\n",
              "      <th>Product_Category_3</th>\n",
              "      <th>Purchase</th>\n",
              "    </tr>\n",
              "  </thead>\n",
              "  <tbody>\n",
              "    <tr>\n",
              "      <th>0</th>\n",
              "      <td>1000001</td>\n",
              "      <td>P00069042</td>\n",
              "      <td>F</td>\n",
              "      <td>0-17</td>\n",
              "      <td>10</td>\n",
              "      <td>A</td>\n",
              "      <td>2</td>\n",
              "      <td>0</td>\n",
              "      <td>3</td>\n",
              "      <td>NaN</td>\n",
              "      <td>NaN</td>\n",
              "      <td>8370</td>\n",
              "    </tr>\n",
              "    <tr>\n",
              "      <th>1</th>\n",
              "      <td>1000001</td>\n",
              "      <td>P00248942</td>\n",
              "      <td>F</td>\n",
              "      <td>0-17</td>\n",
              "      <td>10</td>\n",
              "      <td>A</td>\n",
              "      <td>2</td>\n",
              "      <td>0</td>\n",
              "      <td>1</td>\n",
              "      <td>6.0</td>\n",
              "      <td>14.0</td>\n",
              "      <td>15200</td>\n",
              "    </tr>\n",
              "    <tr>\n",
              "      <th>2</th>\n",
              "      <td>1000001</td>\n",
              "      <td>P00087842</td>\n",
              "      <td>F</td>\n",
              "      <td>0-17</td>\n",
              "      <td>10</td>\n",
              "      <td>A</td>\n",
              "      <td>2</td>\n",
              "      <td>0</td>\n",
              "      <td>12</td>\n",
              "      <td>NaN</td>\n",
              "      <td>NaN</td>\n",
              "      <td>1422</td>\n",
              "    </tr>\n",
              "    <tr>\n",
              "      <th>3</th>\n",
              "      <td>1000001</td>\n",
              "      <td>P00085442</td>\n",
              "      <td>F</td>\n",
              "      <td>0-17</td>\n",
              "      <td>10</td>\n",
              "      <td>A</td>\n",
              "      <td>2</td>\n",
              "      <td>0</td>\n",
              "      <td>12</td>\n",
              "      <td>14.0</td>\n",
              "      <td>NaN</td>\n",
              "      <td>1057</td>\n",
              "    </tr>\n",
              "    <tr>\n",
              "      <th>4</th>\n",
              "      <td>1000002</td>\n",
              "      <td>P00285442</td>\n",
              "      <td>M</td>\n",
              "      <td>55+</td>\n",
              "      <td>16</td>\n",
              "      <td>C</td>\n",
              "      <td>4+</td>\n",
              "      <td>0</td>\n",
              "      <td>8</td>\n",
              "      <td>NaN</td>\n",
              "      <td>NaN</td>\n",
              "      <td>7969</td>\n",
              "    </tr>\n",
              "  </tbody>\n",
              "</table>\n",
              "</div>\n",
              "      <button class=\"colab-df-convert\" onclick=\"convertToInteractive('df-e4c2c892-7ee2-4926-8b70-16a7c886006e')\"\n",
              "              title=\"Convert this dataframe to an interactive table.\"\n",
              "              style=\"display:none;\">\n",
              "        \n",
              "  <svg xmlns=\"http://www.w3.org/2000/svg\" height=\"24px\"viewBox=\"0 0 24 24\"\n",
              "       width=\"24px\">\n",
              "    <path d=\"M0 0h24v24H0V0z\" fill=\"none\"/>\n",
              "    <path d=\"M18.56 5.44l.94 2.06.94-2.06 2.06-.94-2.06-.94-.94-2.06-.94 2.06-2.06.94zm-11 1L8.5 8.5l.94-2.06 2.06-.94-2.06-.94L8.5 2.5l-.94 2.06-2.06.94zm10 10l.94 2.06.94-2.06 2.06-.94-2.06-.94-.94-2.06-.94 2.06-2.06.94z\"/><path d=\"M17.41 7.96l-1.37-1.37c-.4-.4-.92-.59-1.43-.59-.52 0-1.04.2-1.43.59L10.3 9.45l-7.72 7.72c-.78.78-.78 2.05 0 2.83L4 21.41c.39.39.9.59 1.41.59.51 0 1.02-.2 1.41-.59l7.78-7.78 2.81-2.81c.8-.78.8-2.07 0-2.86zM5.41 20L4 18.59l7.72-7.72 1.47 1.35L5.41 20z\"/>\n",
              "  </svg>\n",
              "      </button>\n",
              "      \n",
              "  <style>\n",
              "    .colab-df-container {\n",
              "      display:flex;\n",
              "      flex-wrap:wrap;\n",
              "      gap: 12px;\n",
              "    }\n",
              "\n",
              "    .colab-df-convert {\n",
              "      background-color: #E8F0FE;\n",
              "      border: none;\n",
              "      border-radius: 50%;\n",
              "      cursor: pointer;\n",
              "      display: none;\n",
              "      fill: #1967D2;\n",
              "      height: 32px;\n",
              "      padding: 0 0 0 0;\n",
              "      width: 32px;\n",
              "    }\n",
              "\n",
              "    .colab-df-convert:hover {\n",
              "      background-color: #E2EBFA;\n",
              "      box-shadow: 0px 1px 2px rgba(60, 64, 67, 0.3), 0px 1px 3px 1px rgba(60, 64, 67, 0.15);\n",
              "      fill: #174EA6;\n",
              "    }\n",
              "\n",
              "    [theme=dark] .colab-df-convert {\n",
              "      background-color: #3B4455;\n",
              "      fill: #D2E3FC;\n",
              "    }\n",
              "\n",
              "    [theme=dark] .colab-df-convert:hover {\n",
              "      background-color: #434B5C;\n",
              "      box-shadow: 0px 1px 3px 1px rgba(0, 0, 0, 0.15);\n",
              "      filter: drop-shadow(0px 1px 2px rgba(0, 0, 0, 0.3));\n",
              "      fill: #FFFFFF;\n",
              "    }\n",
              "  </style>\n",
              "\n",
              "      <script>\n",
              "        const buttonEl =\n",
              "          document.querySelector('#df-e4c2c892-7ee2-4926-8b70-16a7c886006e button.colab-df-convert');\n",
              "        buttonEl.style.display =\n",
              "          google.colab.kernel.accessAllowed ? 'block' : 'none';\n",
              "\n",
              "        async function convertToInteractive(key) {\n",
              "          const element = document.querySelector('#df-e4c2c892-7ee2-4926-8b70-16a7c886006e');\n",
              "          const dataTable =\n",
              "            await google.colab.kernel.invokeFunction('convertToInteractive',\n",
              "                                                     [key], {});\n",
              "          if (!dataTable) return;\n",
              "\n",
              "          const docLinkHtml = 'Like what you see? Visit the ' +\n",
              "            '<a target=\"_blank\" href=https://colab.research.google.com/notebooks/data_table.ipynb>data table notebook</a>'\n",
              "            + ' to learn more about interactive tables.';\n",
              "          element.innerHTML = '';\n",
              "          dataTable['output_type'] = 'display_data';\n",
              "          await google.colab.output.renderOutput(dataTable, element);\n",
              "          const docLink = document.createElement('div');\n",
              "          docLink.innerHTML = docLinkHtml;\n",
              "          element.appendChild(docLink);\n",
              "        }\n",
              "      </script>\n",
              "    </div>\n",
              "  </div>\n",
              "  "
            ]
          },
          "metadata": {},
          "execution_count": 40
        }
      ]
    },
    {
      "cell_type": "code",
      "source": [
        "df.isnull().sum()"
      ],
      "metadata": {
        "colab": {
          "base_uri": "https://localhost:8080/"
        },
        "id": "SZPyY5kM4GYW",
        "outputId": "d0476ad0-a948-4031-96c3-112f5f307148"
      },
      "execution_count": 41,
      "outputs": [
        {
          "output_type": "execute_result",
          "data": {
            "text/plain": [
              "User_ID                            0\n",
              "Product_ID                         0\n",
              "Gender                             0\n",
              "Age                                0\n",
              "Occupation                         0\n",
              "City_Category                      0\n",
              "Stay_In_Current_City_Years         0\n",
              "Marital_Status                     0\n",
              "Product_Category_1                 0\n",
              "Product_Category_2            173638\n",
              "Product_Category_3            383247\n",
              "Purchase                           0\n",
              "dtype: int64"
            ]
          },
          "metadata": {},
          "execution_count": 41
        }
      ]
    },
    {
      "cell_type": "code",
      "source": [
        "df.shape"
      ],
      "metadata": {
        "colab": {
          "base_uri": "https://localhost:8080/"
        },
        "id": "rsHeAlMk4onQ",
        "outputId": "3ba23a69-0ee7-472b-d04c-d658e4f9ec23"
      },
      "execution_count": 42,
      "outputs": [
        {
          "output_type": "execute_result",
          "data": {
            "text/plain": [
              "(550068, 12)"
            ]
          },
          "metadata": {},
          "execution_count": 42
        }
      ]
    },
    {
      "cell_type": "code",
      "source": [
        "df.info()"
      ],
      "metadata": {
        "colab": {
          "base_uri": "https://localhost:8080/"
        },
        "id": "BXYwKD4K4pkH",
        "outputId": "8f4c8f94-c0d9-47a6-ad5a-54e670d83029"
      },
      "execution_count": 43,
      "outputs": [
        {
          "output_type": "stream",
          "name": "stdout",
          "text": [
            "<class 'pandas.core.frame.DataFrame'>\n",
            "RangeIndex: 550068 entries, 0 to 550067\n",
            "Data columns (total 12 columns):\n",
            " #   Column                      Non-Null Count   Dtype  \n",
            "---  ------                      --------------   -----  \n",
            " 0   User_ID                     550068 non-null  int64  \n",
            " 1   Product_ID                  550068 non-null  object \n",
            " 2   Gender                      550068 non-null  object \n",
            " 3   Age                         550068 non-null  object \n",
            " 4   Occupation                  550068 non-null  int64  \n",
            " 5   City_Category               550068 non-null  object \n",
            " 6   Stay_In_Current_City_Years  550068 non-null  object \n",
            " 7   Marital_Status              550068 non-null  int64  \n",
            " 8   Product_Category_1          550068 non-null  int64  \n",
            " 9   Product_Category_2          376430 non-null  float64\n",
            " 10  Product_Category_3          166821 non-null  float64\n",
            " 11  Purchase                    550068 non-null  int64  \n",
            "dtypes: float64(2), int64(5), object(5)\n",
            "memory usage: 50.4+ MB\n"
          ]
        }
      ]
    },
    {
      "cell_type": "code",
      "source": [
        "df.Product_Category_2.value_counts()"
      ],
      "metadata": {
        "colab": {
          "base_uri": "https://localhost:8080/"
        },
        "id": "oxbRBU3_4yn4",
        "outputId": "da699932-0901-4a04-8baa-7c919a08cb8e"
      },
      "execution_count": 44,
      "outputs": [
        {
          "output_type": "execute_result",
          "data": {
            "text/plain": [
              "8.0     64088\n",
              "14.0    55108\n",
              "2.0     49217\n",
              "16.0    43255\n",
              "15.0    37855\n",
              "5.0     26235\n",
              "4.0     25677\n",
              "6.0     16466\n",
              "11.0    14134\n",
              "17.0    13320\n",
              "13.0    10531\n",
              "9.0      5693\n",
              "12.0     5528\n",
              "10.0     3043\n",
              "3.0      2884\n",
              "18.0     2770\n",
              "7.0       626\n",
              "Name: Product_Category_2, dtype: int64"
            ]
          },
          "metadata": {},
          "execution_count": 44
        }
      ]
    },
    {
      "cell_type": "code",
      "source": [
        "df.describe()"
      ],
      "metadata": {
        "colab": {
          "base_uri": "https://localhost:8080/",
          "height": 300
        },
        "id": "RsXAPiNJ5KI3",
        "outputId": "148fbdd5-b7fa-4e33-d520-cf9e1ea1c3b6"
      },
      "execution_count": 45,
      "outputs": [
        {
          "output_type": "execute_result",
          "data": {
            "text/plain": [
              "            User_ID     Occupation  Marital_Status  Product_Category_1  \\\n",
              "count  5.500680e+05  550068.000000   550068.000000       550068.000000   \n",
              "mean   1.003029e+06       8.076707        0.409653            5.404270   \n",
              "std    1.727592e+03       6.522660        0.491770            3.936211   \n",
              "min    1.000001e+06       0.000000        0.000000            1.000000   \n",
              "25%    1.001516e+06       2.000000        0.000000            1.000000   \n",
              "50%    1.003077e+06       7.000000        0.000000            5.000000   \n",
              "75%    1.004478e+06      14.000000        1.000000            8.000000   \n",
              "max    1.006040e+06      20.000000        1.000000           20.000000   \n",
              "\n",
              "       Product_Category_2  Product_Category_3       Purchase  \n",
              "count       376430.000000       166821.000000  550068.000000  \n",
              "mean             9.842329           12.668243    9263.968713  \n",
              "std              5.086590            4.125338    5023.065394  \n",
              "min              2.000000            3.000000      12.000000  \n",
              "25%              5.000000            9.000000    5823.000000  \n",
              "50%              9.000000           14.000000    8047.000000  \n",
              "75%             15.000000           16.000000   12054.000000  \n",
              "max             18.000000           18.000000   23961.000000  "
            ],
            "text/html": [
              "\n",
              "  <div id=\"df-810d2653-1232-4677-ab6f-addbfd21312c\">\n",
              "    <div class=\"colab-df-container\">\n",
              "      <div>\n",
              "<style scoped>\n",
              "    .dataframe tbody tr th:only-of-type {\n",
              "        vertical-align: middle;\n",
              "    }\n",
              "\n",
              "    .dataframe tbody tr th {\n",
              "        vertical-align: top;\n",
              "    }\n",
              "\n",
              "    .dataframe thead th {\n",
              "        text-align: right;\n",
              "    }\n",
              "</style>\n",
              "<table border=\"1\" class=\"dataframe\">\n",
              "  <thead>\n",
              "    <tr style=\"text-align: right;\">\n",
              "      <th></th>\n",
              "      <th>User_ID</th>\n",
              "      <th>Occupation</th>\n",
              "      <th>Marital_Status</th>\n",
              "      <th>Product_Category_1</th>\n",
              "      <th>Product_Category_2</th>\n",
              "      <th>Product_Category_3</th>\n",
              "      <th>Purchase</th>\n",
              "    </tr>\n",
              "  </thead>\n",
              "  <tbody>\n",
              "    <tr>\n",
              "      <th>count</th>\n",
              "      <td>5.500680e+05</td>\n",
              "      <td>550068.000000</td>\n",
              "      <td>550068.000000</td>\n",
              "      <td>550068.000000</td>\n",
              "      <td>376430.000000</td>\n",
              "      <td>166821.000000</td>\n",
              "      <td>550068.000000</td>\n",
              "    </tr>\n",
              "    <tr>\n",
              "      <th>mean</th>\n",
              "      <td>1.003029e+06</td>\n",
              "      <td>8.076707</td>\n",
              "      <td>0.409653</td>\n",
              "      <td>5.404270</td>\n",
              "      <td>9.842329</td>\n",
              "      <td>12.668243</td>\n",
              "      <td>9263.968713</td>\n",
              "    </tr>\n",
              "    <tr>\n",
              "      <th>std</th>\n",
              "      <td>1.727592e+03</td>\n",
              "      <td>6.522660</td>\n",
              "      <td>0.491770</td>\n",
              "      <td>3.936211</td>\n",
              "      <td>5.086590</td>\n",
              "      <td>4.125338</td>\n",
              "      <td>5023.065394</td>\n",
              "    </tr>\n",
              "    <tr>\n",
              "      <th>min</th>\n",
              "      <td>1.000001e+06</td>\n",
              "      <td>0.000000</td>\n",
              "      <td>0.000000</td>\n",
              "      <td>1.000000</td>\n",
              "      <td>2.000000</td>\n",
              "      <td>3.000000</td>\n",
              "      <td>12.000000</td>\n",
              "    </tr>\n",
              "    <tr>\n",
              "      <th>25%</th>\n",
              "      <td>1.001516e+06</td>\n",
              "      <td>2.000000</td>\n",
              "      <td>0.000000</td>\n",
              "      <td>1.000000</td>\n",
              "      <td>5.000000</td>\n",
              "      <td>9.000000</td>\n",
              "      <td>5823.000000</td>\n",
              "    </tr>\n",
              "    <tr>\n",
              "      <th>50%</th>\n",
              "      <td>1.003077e+06</td>\n",
              "      <td>7.000000</td>\n",
              "      <td>0.000000</td>\n",
              "      <td>5.000000</td>\n",
              "      <td>9.000000</td>\n",
              "      <td>14.000000</td>\n",
              "      <td>8047.000000</td>\n",
              "    </tr>\n",
              "    <tr>\n",
              "      <th>75%</th>\n",
              "      <td>1.004478e+06</td>\n",
              "      <td>14.000000</td>\n",
              "      <td>1.000000</td>\n",
              "      <td>8.000000</td>\n",
              "      <td>15.000000</td>\n",
              "      <td>16.000000</td>\n",
              "      <td>12054.000000</td>\n",
              "    </tr>\n",
              "    <tr>\n",
              "      <th>max</th>\n",
              "      <td>1.006040e+06</td>\n",
              "      <td>20.000000</td>\n",
              "      <td>1.000000</td>\n",
              "      <td>20.000000</td>\n",
              "      <td>18.000000</td>\n",
              "      <td>18.000000</td>\n",
              "      <td>23961.000000</td>\n",
              "    </tr>\n",
              "  </tbody>\n",
              "</table>\n",
              "</div>\n",
              "      <button class=\"colab-df-convert\" onclick=\"convertToInteractive('df-810d2653-1232-4677-ab6f-addbfd21312c')\"\n",
              "              title=\"Convert this dataframe to an interactive table.\"\n",
              "              style=\"display:none;\">\n",
              "        \n",
              "  <svg xmlns=\"http://www.w3.org/2000/svg\" height=\"24px\"viewBox=\"0 0 24 24\"\n",
              "       width=\"24px\">\n",
              "    <path d=\"M0 0h24v24H0V0z\" fill=\"none\"/>\n",
              "    <path d=\"M18.56 5.44l.94 2.06.94-2.06 2.06-.94-2.06-.94-.94-2.06-.94 2.06-2.06.94zm-11 1L8.5 8.5l.94-2.06 2.06-.94-2.06-.94L8.5 2.5l-.94 2.06-2.06.94zm10 10l.94 2.06.94-2.06 2.06-.94-2.06-.94-.94-2.06-.94 2.06-2.06.94z\"/><path d=\"M17.41 7.96l-1.37-1.37c-.4-.4-.92-.59-1.43-.59-.52 0-1.04.2-1.43.59L10.3 9.45l-7.72 7.72c-.78.78-.78 2.05 0 2.83L4 21.41c.39.39.9.59 1.41.59.51 0 1.02-.2 1.41-.59l7.78-7.78 2.81-2.81c.8-.78.8-2.07 0-2.86zM5.41 20L4 18.59l7.72-7.72 1.47 1.35L5.41 20z\"/>\n",
              "  </svg>\n",
              "      </button>\n",
              "      \n",
              "  <style>\n",
              "    .colab-df-container {\n",
              "      display:flex;\n",
              "      flex-wrap:wrap;\n",
              "      gap: 12px;\n",
              "    }\n",
              "\n",
              "    .colab-df-convert {\n",
              "      background-color: #E8F0FE;\n",
              "      border: none;\n",
              "      border-radius: 50%;\n",
              "      cursor: pointer;\n",
              "      display: none;\n",
              "      fill: #1967D2;\n",
              "      height: 32px;\n",
              "      padding: 0 0 0 0;\n",
              "      width: 32px;\n",
              "    }\n",
              "\n",
              "    .colab-df-convert:hover {\n",
              "      background-color: #E2EBFA;\n",
              "      box-shadow: 0px 1px 2px rgba(60, 64, 67, 0.3), 0px 1px 3px 1px rgba(60, 64, 67, 0.15);\n",
              "      fill: #174EA6;\n",
              "    }\n",
              "\n",
              "    [theme=dark] .colab-df-convert {\n",
              "      background-color: #3B4455;\n",
              "      fill: #D2E3FC;\n",
              "    }\n",
              "\n",
              "    [theme=dark] .colab-df-convert:hover {\n",
              "      background-color: #434B5C;\n",
              "      box-shadow: 0px 1px 3px 1px rgba(0, 0, 0, 0.15);\n",
              "      filter: drop-shadow(0px 1px 2px rgba(0, 0, 0, 0.3));\n",
              "      fill: #FFFFFF;\n",
              "    }\n",
              "  </style>\n",
              "\n",
              "      <script>\n",
              "        const buttonEl =\n",
              "          document.querySelector('#df-810d2653-1232-4677-ab6f-addbfd21312c button.colab-df-convert');\n",
              "        buttonEl.style.display =\n",
              "          google.colab.kernel.accessAllowed ? 'block' : 'none';\n",
              "\n",
              "        async function convertToInteractive(key) {\n",
              "          const element = document.querySelector('#df-810d2653-1232-4677-ab6f-addbfd21312c');\n",
              "          const dataTable =\n",
              "            await google.colab.kernel.invokeFunction('convertToInteractive',\n",
              "                                                     [key], {});\n",
              "          if (!dataTable) return;\n",
              "\n",
              "          const docLinkHtml = 'Like what you see? Visit the ' +\n",
              "            '<a target=\"_blank\" href=https://colab.research.google.com/notebooks/data_table.ipynb>data table notebook</a>'\n",
              "            + ' to learn more about interactive tables.';\n",
              "          element.innerHTML = '';\n",
              "          dataTable['output_type'] = 'display_data';\n",
              "          await google.colab.output.renderOutput(dataTable, element);\n",
              "          const docLink = document.createElement('div');\n",
              "          docLink.innerHTML = docLinkHtml;\n",
              "          element.appendChild(docLink);\n",
              "        }\n",
              "      </script>\n",
              "    </div>\n",
              "  </div>\n",
              "  "
            ]
          },
          "metadata": {},
          "execution_count": 45
        }
      ]
    },
    {
      "cell_type": "markdown",
      "source": [
        "**EDA**"
      ],
      "metadata": {
        "id": "3H5E5WUxMUBv"
      }
    },
    {
      "cell_type": "markdown",
      "source": [
        "droppDuppiesDf eliminates duplicate userID's. Of coarse this will only be useful for EDA, speiciafly for columns like Age, Occupation Ect. It also takes a minutes to run, just fyi."
      ],
      "metadata": {
        "id": "kaoSuxeHLe4q"
      }
    },
    {
      "cell_type": "code",
      "source": [
        "droppDuppies = []\n",
        "tempInstances =[]\n",
        "for index, row in df.iterrows():\n",
        "    # print(row['User_ID'])\n",
        "    if row['User_ID'] not in tempInstances:\n",
        "      tempInstances.append(row['User_ID'])\n",
        "      droppDuppies.append(row)\n",
        " "
      ],
      "metadata": {
        "id": "MA3AoaWEGBf8"
      },
      "execution_count": 46,
      "outputs": []
    },
    {
      "cell_type": "code",
      "source": [
        "droppDuppiesDf = pd.DataFrame(droppDuppies)"
      ],
      "metadata": {
        "id": "SycWM2eSH23z"
      },
      "execution_count": 47,
      "outputs": []
    },
    {
      "cell_type": "code",
      "source": [
        "ageInterval = ['0-17','18-25','26-35','36-45','46-50','51-55','55+']"
      ],
      "metadata": {
        "id": "wwS7WQw1_Bzc"
      },
      "execution_count": 48,
      "outputs": []
    },
    {
      "cell_type": "code",
      "source": [
        "dfAgeCounts = [218,1069,2053,1167,531,481,372]"
      ],
      "metadata": {
        "id": "YheJAidi_SOM"
      },
      "execution_count": 49,
      "outputs": []
    },
    {
      "cell_type": "code",
      "source": [
        "\n",
        "fig = plt.figure(figsize = (15, 15))\n",
        "\n",
        "colors1 = ['#267A4C','#99FBC5','#4DFA9B','#3E7A61','#3EC77C']\n",
        "\n",
        "plt.subplot(2, 1, 1)\n",
        "# fig = plt.figure()\n",
        "# ax = fig.add_axes([0,0,1,1])\n",
        "plt.bar(ageInterval, dfAgeCounts, color=(colors1[3]),  edgecolor=(colors1[4]))\n",
        "plt.xlabel(\"Age Interval\")\n",
        "plt.ylabel(\"Count\")\n",
        "plt.title(\"Frequency of Age Groups\")\n",
        "\n",
        "\n",
        "plt.subplot(2, 1, 2)\n",
        "# ax = fig.add_axes([0,0,1,1])\n",
        "plt.bar(droppDuppiesDf.Occupation.unique(), droppDuppiesDf.Occupation.value_counts(), color=(colors1[3]),  edgecolor=(colors1[4]))\n",
        "plt.xlabel(\"Occupation Number\")\n",
        "plt.ylabel(\"Count\")\n",
        "plt.title(\"Frequency of Occupation Groups\")\n",
        "\n",
        "\n",
        "plt.show()\n"
      ],
      "metadata": {
        "id": "Uq3CSrTI8erR",
        "outputId": "530cddc6-bc6c-455d-b95d-c1c8f122cae0",
        "colab": {
          "base_uri": "https://localhost:8080/",
          "height": 893
        }
      },
      "execution_count": 103,
      "outputs": [
        {
          "output_type": "display_data",
          "data": {
            "text/plain": [
              "<Figure size 1080x1080 with 2 Axes>"
            ],
            "image/png": "[encoded data removed]"
          },
          "metadata": {
            "needs_background": "light"
          }
        }
      ]
    },
    {
      "cell_type": "code",
      "source": [
        "yearInCityVal = [772,2086,1145,979,909]\n",
        "yearsInCityLabel = ['0','1','2','3','4+']"
      ],
      "metadata": {
        "id": "k1WgvB_1D3Hs"
      },
      "execution_count": 51,
      "outputs": []
    },
    {
      "cell_type": "code",
      "source": [
        "droppDuppiesDf.Gender.unique()\n",
        "droppDuppiesDf.Gender.value_counts()"
      ],
      "metadata": {
        "id": "gi_3KySQWvbO",
        "outputId": "949924a9-5c2d-4b0a-9315-9569aa23c6f8",
        "colab": {
          "base_uri": "https://localhost:8080/"
        }
      },
      "execution_count": 68,
      "outputs": [
        {
          "output_type": "execute_result",
          "data": {
            "text/plain": [
              "M    4225\n",
              "F    1666\n",
              "Name: Gender, dtype: int64"
            ]
          },
          "metadata": {},
          "execution_count": 68
        }
      ]
    },
    {
      "cell_type": "code",
      "source": [
        "colorrr = [\"#C781FD\", \"#9474E3\",\"#8E8CFA\", \"#748FE3\",'#81C0FD']\n",
        "colorrr2 = [\"#4791FD\", \"#40ADE3\",\"#52EFFA\", \"#40E3C0\",'#47FDA3']\n",
        "colorrr3 = [\"#8EFDB1\", \"#7FE383\",\"#B5FA98\", \"#C0E37F\",'#FCFD8E']\n",
        "colorrr4 = [\"#FDD556\", \"#E3B04D\",\"#FAB461\", \"#E38A4D\",'#FD8156']\n",
        "fig = plt.figure(figsize = (20, 17))\n",
        "plt.subplot(2, 2, 1)\n",
        "plt.pie(yearInCityVal,\n",
        "        labels = yearsInCityLabel,\n",
        "        startangle = 45,\n",
        "        autopct = '%1.2f%%',\n",
        "        colors = colorrr,\n",
        "        shadow = True,\n",
        "        explode = [0,.05,0,0,0],\n",
        "        textprops={'color':\"black\",'fontsize': 14}\n",
        "        )\n",
        "plt.title('Years In Current City',color='black',fontsize= 16)\n",
        "plt.plot()\n",
        "\n",
        "\n",
        "plt.subplot(2, 2, 2)\n",
        "\n",
        "\n",
        "plt.pie(droppDuppiesDf.Gender.value_counts(),\n",
        "        labels = droppDuppiesDf.Gender.unique(),\n",
        "        textprops={'color':\"black\",'fontsize': 14},\n",
        "        startangle = 45,\n",
        "        autopct = '%1.2f%%',\n",
        "        colors = colorrr3,\n",
        "        shadow = True,\n",
        "        explode = [0.07,.0]\n",
        "        )\n",
        "plt.plot()\n",
        "plt.title('Gender',color='black',fontsize= 16)\n",
        "\n",
        "\n",
        "plt.subplot(2, 2, 3)\n",
        "plt.pie(droppDuppiesDf.City_Category.value_counts(),\n",
        "        labels = droppDuppiesDf.City_Category.unique(),\n",
        "        startangle = 45,\n",
        "        autopct = '%1.2f%%',\n",
        "        colors = colorrr2,\n",
        "        shadow = True,\n",
        "        explode = [0.05,.0,0],\n",
        "        textprops={'color':\"black\",'fontsize': 14}\n",
        "        )\n",
        "plt.title('City Category',color='black',fontsize= 16)\n",
        "plt.plot()\n",
        "\n",
        "\n",
        "plt.subplot(2, 2, 4)\n",
        "\n",
        "\n",
        "plt.pie(droppDuppiesDf.Marital_Status.value_counts(),\n",
        "        labels = droppDuppiesDf.Marital_Status.unique(),\n",
        "        textprops={'color':\"black\",'fontsize': 14},\n",
        "        startangle = 45,\n",
        "        autopct = '%1.2f%%',\n",
        "        colors = colorrr4,\n",
        "        shadow = True,\n",
        "        explode = [0.05,.0,]\n",
        "        )\n",
        "plt.plot()\n",
        "plt.title('Marital Status',color='black',fontsize= 16)\n",
        "\n",
        "plt.show()"
      ],
      "metadata": {
        "id": "m3NkuKlqU4fH",
        "outputId": "fd4a3201-a4a6-4864-d5b2-0b3b611d6f98",
        "colab": {
          "base_uri": "https://localhost:8080/",
          "height": 973
        }
      },
      "execution_count": 85,
      "outputs": [
        {
          "output_type": "display_data",
          "data": {
            "text/plain": [
              "<Figure size 1440x1224 with 4 Axes>"
            ],
            "image/png": "[encoded data removed]"
          },
          "metadata": {}
        }
      ]
    },
    {
      "cell_type": "code",
      "source": [
        "groupDf.columns"
      ],
      "metadata": {
        "id": "9iFBY-DoctHP",
        "outputId": "03a349b0-bcef-4726-c40a-64ed985fcbe5",
        "colab": {
          "base_uri": "https://localhost:8080/"
        }
      },
      "execution_count": 110,
      "outputs": [
        {
          "output_type": "execute_result",
          "data": {
            "text/plain": [
              "Index(['Occupation', 'Marital_Status', 'Product_Category_1',\n",
              "       'Product_Category_2', 'Product_Category_3', 'Purchase'],\n",
              "      dtype='object')"
            ]
          },
          "metadata": {},
          "execution_count": 110
        }
      ]
    },
    {
      "cell_type": "code",
      "source": [
        "tempx = np.arange(len(groupDf))"
      ],
      "metadata": {
        "id": "vpqzf-PWc0PG"
      },
      "execution_count": 122,
      "outputs": []
    },
    {
      "cell_type": "code",
      "source": [
        "groupDf = df.groupby(['User_ID']).mean()\n",
        "groupDf"
      ],
      "metadata": {
        "id": "5MUbO-OqbWU_",
        "outputId": "9dcd7a9f-ef24-422e-c41a-07f7bd0b5766",
        "colab": {
          "base_uri": "https://localhost:8080/",
          "height": 455
        }
      },
      "execution_count": 123,
      "outputs": [
        {
          "output_type": "execute_result",
          "data": {
            "text/plain": [
              "         Occupation  Marital_Status  Product_Category_1  Product_Category_2  \\\n",
              "User_ID                                                                       \n",
              "1000001        10.0             0.0            6.085714            6.285714   \n",
              "1000002        16.0             0.0            4.597403            9.981481   \n",
              "1000003        15.0             0.0            3.206897            5.086957   \n",
              "1000004         7.0             1.0            2.357143            8.500000   \n",
              "1000005        20.0             1.0            6.216981           11.068966   \n",
              "...             ...             ...                 ...                 ...   \n",
              "1006036        15.0             1.0            6.225681           10.667712   \n",
              "1006037         1.0             0.0            7.688525           12.081081   \n",
              "1006038         1.0             0.0            6.916667           10.333333   \n",
              "1006039         0.0             1.0            5.932432            9.666667   \n",
              "1006040         6.0             0.0            6.338889           10.776699   \n",
              "\n",
              "         Product_Category_3      Purchase  \n",
              "User_ID                                    \n",
              "1000001           10.571429   9545.514286  \n",
              "1000002           13.807692  10525.610390  \n",
              "1000003           11.384615  11780.517241  \n",
              "1000004           14.111111  14747.714286  \n",
              "1000005           12.937500   7745.292453  \n",
              "...                     ...           ...  \n",
              "1006036           13.718182   8007.894942  \n",
              "1006037           13.818182   9176.540984  \n",
              "1006038           17.000000   7502.833333  \n",
              "1006039           12.000000   7977.283784  \n",
              "1006040           13.382353   9184.994444  \n",
              "\n",
              "[5891 rows x 6 columns]"
            ],
            "text/html": [
              "\n",
              "  <div id=\"df-07aac88d-ee83-4000-a3f0-1f7f8d167ef1\">\n",
              "    <div class=\"colab-df-container\">\n",
              "      <div>\n",
              "<style scoped>\n",
              "    .dataframe tbody tr th:only-of-type {\n",
              "        vertical-align: middle;\n",
              "    }\n",
              "\n",
              "    .dataframe tbody tr th {\n",
              "        vertical-align: top;\n",
              "    }\n",
              "\n",
              "    .dataframe thead th {\n",
              "        text-align: right;\n",
              "    }\n",
              "</style>\n",
              "<table border=\"1\" class=\"dataframe\">\n",
              "  <thead>\n",
              "    <tr style=\"text-align: right;\">\n",
              "      <th></th>\n",
              "      <th>Occupation</th>\n",
              "      <th>Marital_Status</th>\n",
              "      <th>Product_Category_1</th>\n",
              "      <th>Product_Category_2</th>\n",
              "      <th>Product_Category_3</th>\n",
              "      <th>Purchase</th>\n",
              "    </tr>\n",
              "    <tr>\n",
              "      <th>User_ID</th>\n",
              "      <th></th>\n",
              "      <th></th>\n",
              "      <th></th>\n",
              "      <th></th>\n",
              "      <th></th>\n",
              "      <th></th>\n",
              "    </tr>\n",
              "  </thead>\n",
              "  <tbody>\n",
              "    <tr>\n",
              "      <th>1000001</th>\n",
              "      <td>10.0</td>\n",
              "      <td>0.0</td>\n",
              "      <td>6.085714</td>\n",
              "      <td>6.285714</td>\n",
              "      <td>10.571429</td>\n",
              "      <td>9545.514286</td>\n",
              "    </tr>\n",
              "    <tr>\n",
              "      <th>1000002</th>\n",
              "      <td>16.0</td>\n",
              "      <td>0.0</td>\n",
              "      <td>4.597403</td>\n",
              "      <td>9.981481</td>\n",
              "      <td>13.807692</td>\n",
              "      <td>10525.610390</td>\n",
              "    </tr>\n",
              "    <tr>\n",
              "      <th>1000003</th>\n",
              "      <td>15.0</td>\n",
              "      <td>0.0</td>\n",
              "      <td>3.206897</td>\n",
              "      <td>5.086957</td>\n",
              "      <td>11.384615</td>\n",
              "      <td>11780.517241</td>\n",
              "    </tr>\n",
              "    <tr>\n",
              "      <th>1000004</th>\n",
              "      <td>7.0</td>\n",
              "      <td>1.0</td>\n",
              "      <td>2.357143</td>\n",
              "      <td>8.500000</td>\n",
              "      <td>14.111111</td>\n",
              "      <td>14747.714286</td>\n",
              "    </tr>\n",
              "    <tr>\n",
              "      <th>1000005</th>\n",
              "      <td>20.0</td>\n",
              "      <td>1.0</td>\n",
              "      <td>6.216981</td>\n",
              "      <td>11.068966</td>\n",
              "      <td>12.937500</td>\n",
              "      <td>7745.292453</td>\n",
              "    </tr>\n",
              "    <tr>\n",
              "      <th>...</th>\n",
              "      <td>...</td>\n",
              "      <td>...</td>\n",
              "      <td>...</td>\n",
              "      <td>...</td>\n",
              "      <td>...</td>\n",
              "      <td>...</td>\n",
              "    </tr>\n",
              "    <tr>\n",
              "      <th>1006036</th>\n",
              "      <td>15.0</td>\n",
              "      <td>1.0</td>\n",
              "      <td>6.225681</td>\n",
              "      <td>10.667712</td>\n",
              "      <td>13.718182</td>\n",
              "      <td>8007.894942</td>\n",
              "    </tr>\n",
              "    <tr>\n",
              "      <th>1006037</th>\n",
              "      <td>1.0</td>\n",
              "      <td>0.0</td>\n",
              "      <td>7.688525</td>\n",
              "      <td>12.081081</td>\n",
              "      <td>13.818182</td>\n",
              "      <td>9176.540984</td>\n",
              "    </tr>\n",
              "    <tr>\n",
              "      <th>1006038</th>\n",
              "      <td>1.0</td>\n",
              "      <td>0.0</td>\n",
              "      <td>6.916667</td>\n",
              "      <td>10.333333</td>\n",
              "      <td>17.000000</td>\n",
              "      <td>7502.833333</td>\n",
              "    </tr>\n",
              "    <tr>\n",
              "      <th>1006039</th>\n",
              "      <td>0.0</td>\n",
              "      <td>1.0</td>\n",
              "      <td>5.932432</td>\n",
              "      <td>9.666667</td>\n",
              "      <td>12.000000</td>\n",
              "      <td>7977.283784</td>\n",
              "    </tr>\n",
              "    <tr>\n",
              "      <th>1006040</th>\n",
              "      <td>6.0</td>\n",
              "      <td>0.0</td>\n",
              "      <td>6.338889</td>\n",
              "      <td>10.776699</td>\n",
              "      <td>13.382353</td>\n",
              "      <td>9184.994444</td>\n",
              "    </tr>\n",
              "  </tbody>\n",
              "</table>\n",
              "<p>5891 rows × 6 columns</p>\n",
              "</div>\n",
              "      <button class=\"colab-df-convert\" onclick=\"convertToInteractive('df-07aac88d-ee83-4000-a3f0-1f7f8d167ef1')\"\n",
              "              title=\"Convert this dataframe to an interactive table.\"\n",
              "              style=\"display:none;\">\n",
              "        \n",
              "  <svg xmlns=\"http://www.w3.org/2000/svg\" height=\"24px\"viewBox=\"0 0 24 24\"\n",
              "       width=\"24px\">\n",
              "    <path d=\"M0 0h24v24H0V0z\" fill=\"none\"/>\n",
              "    <path d=\"M18.56 5.44l.94 2.06.94-2.06 2.06-.94-2.06-.94-.94-2.06-.94 2.06-2.06.94zm-11 1L8.5 8.5l.94-2.06 2.06-.94-2.06-.94L8.5 2.5l-.94 2.06-2.06.94zm10 10l.94 2.06.94-2.06 2.06-.94-2.06-.94-.94-2.06-.94 2.06-2.06.94z\"/><path d=\"M17.41 7.96l-1.37-1.37c-.4-.4-.92-.59-1.43-.59-.52 0-1.04.2-1.43.59L10.3 9.45l-7.72 7.72c-.78.78-.78 2.05 0 2.83L4 21.41c.39.39.9.59 1.41.59.51 0 1.02-.2 1.41-.59l7.78-7.78 2.81-2.81c.8-.78.8-2.07 0-2.86zM5.41 20L4 18.59l7.72-7.72 1.47 1.35L5.41 20z\"/>\n",
              "  </svg>\n",
              "      </button>\n",
              "      \n",
              "  <style>\n",
              "    .colab-df-container {\n",
              "      display:flex;\n",
              "      flex-wrap:wrap;\n",
              "      gap: 12px;\n",
              "    }\n",
              "\n",
              "    .colab-df-convert {\n",
              "      background-color: #E8F0FE;\n",
              "      border: none;\n",
              "      border-radius: 50%;\n",
              "      cursor: pointer;\n",
              "      display: none;\n",
              "      fill: #1967D2;\n",
              "      height: 32px;\n",
              "      padding: 0 0 0 0;\n",
              "      width: 32px;\n",
              "    }\n",
              "\n",
              "    .colab-df-convert:hover {\n",
              "      background-color: #E2EBFA;\n",
              "      box-shadow: 0px 1px 2px rgba(60, 64, 67, 0.3), 0px 1px 3px 1px rgba(60, 64, 67, 0.15);\n",
              "      fill: #174EA6;\n",
              "    }\n",
              "\n",
              "    [theme=dark] .colab-df-convert {\n",
              "      background-color: #3B4455;\n",
              "      fill: #D2E3FC;\n",
              "    }\n",
              "\n",
              "    [theme=dark] .colab-df-convert:hover {\n",
              "      background-color: #434B5C;\n",
              "      box-shadow: 0px 1px 3px 1px rgba(0, 0, 0, 0.15);\n",
              "      filter: drop-shadow(0px 1px 2px rgba(0, 0, 0, 0.3));\n",
              "      fill: #FFFFFF;\n",
              "    }\n",
              "  </style>\n",
              "\n",
              "      <script>\n",
              "        const buttonEl =\n",
              "          document.querySelector('#df-07aac88d-ee83-4000-a3f0-1f7f8d167ef1 button.colab-df-convert');\n",
              "        buttonEl.style.display =\n",
              "          google.colab.kernel.accessAllowed ? 'block' : 'none';\n",
              "\n",
              "        async function convertToInteractive(key) {\n",
              "          const element = document.querySelector('#df-07aac88d-ee83-4000-a3f0-1f7f8d167ef1');\n",
              "          const dataTable =\n",
              "            await google.colab.kernel.invokeFunction('convertToInteractive',\n",
              "                                                     [key], {});\n",
              "          if (!dataTable) return;\n",
              "\n",
              "          const docLinkHtml = 'Like what you see? Visit the ' +\n",
              "            '<a target=\"_blank\" href=https://colab.research.google.com/notebooks/data_table.ipynb>data table notebook</a>'\n",
              "            + ' to learn more about interactive tables.';\n",
              "          element.innerHTML = '';\n",
              "          dataTable['output_type'] = 'display_data';\n",
              "          await google.colab.output.renderOutput(dataTable, element);\n",
              "          const docLink = document.createElement('div');\n",
              "          docLink.innerHTML = docLinkHtml;\n",
              "          element.appendChild(docLink);\n",
              "        }\n",
              "      </script>\n",
              "    </div>\n",
              "  </div>\n",
              "  "
            ]
          },
          "metadata": {},
          "execution_count": 123
        }
      ]
    },
    {
      "cell_type": "code",
      "source": [
        ""
      ],
      "metadata": {
        "id": "RcT_Jpv1kCQu"
      },
      "execution_count": null,
      "outputs": []
    },
    {
      "cell_type": "code",
      "source": [
        "groupDf2 = groupDf[0:500]"
      ],
      "metadata": {
        "id": "G-9ITjMAj9iv"
      },
      "execution_count": 146,
      "outputs": []
    },
    {
      "cell_type": "code",
      "source": [
        "tempx2 = np.arange(len(groupDf2))"
      ],
      "metadata": {
        "id": "KHWbhQlckD4P"
      },
      "execution_count": 147,
      "outputs": []
    },
    {
      "cell_type": "code",
      "source": [
        "sns.set(rc = {'figure.figsize':(25,10)})\n",
        "# sns.color_palette(\"ch:start=.2,rot=-.3\", as_cmap=True)\n",
        "ax = sns.barplot(x=tempx2, y=\"Purchase\", data=groupDf2, palette = ('dark:salmon_r'), edgecolor=\"none\")\n",
        "ax.set_xlabel('Customer',fontsize=20)\n",
        "ax.set_ylabel('Total Purchase Value',fontsize=20)\n",
        "plt.xticks([])\n",
        "plt.title(\"Total Purchase Value by Individual Customer\", fontsize=20)\n",
        "plt.show()"
      ],
      "metadata": {
        "id": "3e1Al7P6cJ3-",
        "outputId": "f889b558-0f3f-45a2-ca18-75ff136e68ec",
        "colab": {
          "base_uri": "https://localhost:8080/",
          "height": 619
        }
      },
      "execution_count": 154,
      "outputs": [
        {
          "output_type": "display_data",
          "data": {
            "text/plain": [
              "<Figure size 1800x720 with 1 Axes>"
            ],
            "image/png": "[encoded data removed]"
          },
          "metadata": {}
        }
      ]
    },
    {
      "cell_type": "markdown",
      "source": [
        "**Encoding Data**"
      ],
      "metadata": {
        "id": "-o9E0hKTMLwL"
      }
    },
    {
      "cell_type": "code",
      "source": [
        "df.Age.replace({'0-17':0,'18-25':1,'26-35':2,'36-45':3,'46-50':4,'51-55':5,'55+':6},inplace=True)"
      ],
      "metadata": {
        "id": "sRv1O7vv7K6Z"
      },
      "execution_count": null,
      "outputs": []
    },
    {
      "cell_type": "code",
      "source": [
        "df.Product_Category_2.fillna(0,inplace=True)\n",
        "df.Product_Category_3.fillna(0,inplace=True)\n"
      ],
      "metadata": {
        "id": "rqnPgtPm8DdB"
      },
      "execution_count": null,
      "outputs": []
    },
    {
      "cell_type": "code",
      "source": [
        "df.head()"
      ],
      "metadata": {
        "colab": {
          "base_uri": "https://localhost:8080/",
          "height": 270
        },
        "id": "QXJAkJp38NAx",
        "outputId": "b88e7a3a-1130-4d55-efd5-eef43acbbc89"
      },
      "execution_count": null,
      "outputs": [
        {
          "output_type": "execute_result",
          "data": {
            "text/plain": [
              "   User_ID Product_ID Gender  Age  Occupation City_Category  \\\n",
              "0  1000001  P00069042      F    0          10             A   \n",
              "1  1000001  P00248942      F    0          10             A   \n",
              "2  1000001  P00087842      F    0          10             A   \n",
              "3  1000001  P00085442      F    0          10             A   \n",
              "4  1000002  P00285442      M    6          16             C   \n",
              "\n",
              "  Stay_In_Current_City_Years  Marital_Status  Product_Category_1  \\\n",
              "0                          2               0                   3   \n",
              "1                          2               0                   1   \n",
              "2                          2               0                  12   \n",
              "3                          2               0                  12   \n",
              "4                         4+               0                   8   \n",
              "\n",
              "   Product_Category_2  Product_Category_3  Purchase  \n",
              "0                 0.0                 0.0      8370  \n",
              "1                 6.0                14.0     15200  \n",
              "2                 0.0                 0.0      1422  \n",
              "3                14.0                 0.0      1057  \n",
              "4                 0.0                 0.0      7969  "
            ],
            "text/html": [
              "\n",
              "  <div id=\"df-abfe7f25-8129-4087-9886-d50eceac43aa\">\n",
              "    <div class=\"colab-df-container\">\n",
              "      <div>\n",
              "<style scoped>\n",
              "    .dataframe tbody tr th:only-of-type {\n",
              "        vertical-align: middle;\n",
              "    }\n",
              "\n",
              "    .dataframe tbody tr th {\n",
              "        vertical-align: top;\n",
              "    }\n",
              "\n",
              "    .dataframe thead th {\n",
              "        text-align: right;\n",
              "    }\n",
              "</style>\n",
              "<table border=\"1\" class=\"dataframe\">\n",
              "  <thead>\n",
              "    <tr style=\"text-align: right;\">\n",
              "      <th></th>\n",
              "      <th>User_ID</th>\n",
              "      <th>Product_ID</th>\n",
              "      <th>Gender</th>\n",
              "      <th>Age</th>\n",
              "      <th>Occupation</th>\n",
              "      <th>City_Category</th>\n",
              "      <th>Stay_In_Current_City_Years</th>\n",
              "      <th>Marital_Status</th>\n",
              "      <th>Product_Category_1</th>\n",
              "      <th>Product_Category_2</th>\n",
              "      <th>Product_Category_3</th>\n",
              "      <th>Purchase</th>\n",
              "    </tr>\n",
              "  </thead>\n",
              "  <tbody>\n",
              "    <tr>\n",
              "      <th>0</th>\n",
              "      <td>1000001</td>\n",
              "      <td>P00069042</td>\n",
              "      <td>F</td>\n",
              "      <td>0</td>\n",
              "      <td>10</td>\n",
              "      <td>A</td>\n",
              "      <td>2</td>\n",
              "      <td>0</td>\n",
              "      <td>3</td>\n",
              "      <td>0.0</td>\n",
              "      <td>0.0</td>\n",
              "      <td>8370</td>\n",
              "    </tr>\n",
              "    <tr>\n",
              "      <th>1</th>\n",
              "      <td>1000001</td>\n",
              "      <td>P00248942</td>\n",
              "      <td>F</td>\n",
              "      <td>0</td>\n",
              "      <td>10</td>\n",
              "      <td>A</td>\n",
              "      <td>2</td>\n",
              "      <td>0</td>\n",
              "      <td>1</td>\n",
              "      <td>6.0</td>\n",
              "      <td>14.0</td>\n",
              "      <td>15200</td>\n",
              "    </tr>\n",
              "    <tr>\n",
              "      <th>2</th>\n",
              "      <td>1000001</td>\n",
              "      <td>P00087842</td>\n",
              "      <td>F</td>\n",
              "      <td>0</td>\n",
              "      <td>10</td>\n",
              "      <td>A</td>\n",
              "      <td>2</td>\n",
              "      <td>0</td>\n",
              "      <td>12</td>\n",
              "      <td>0.0</td>\n",
              "      <td>0.0</td>\n",
              "      <td>1422</td>\n",
              "    </tr>\n",
              "    <tr>\n",
              "      <th>3</th>\n",
              "      <td>1000001</td>\n",
              "      <td>P00085442</td>\n",
              "      <td>F</td>\n",
              "      <td>0</td>\n",
              "      <td>10</td>\n",
              "      <td>A</td>\n",
              "      <td>2</td>\n",
              "      <td>0</td>\n",
              "      <td>12</td>\n",
              "      <td>14.0</td>\n",
              "      <td>0.0</td>\n",
              "      <td>1057</td>\n",
              "    </tr>\n",
              "    <tr>\n",
              "      <th>4</th>\n",
              "      <td>1000002</td>\n",
              "      <td>P00285442</td>\n",
              "      <td>M</td>\n",
              "      <td>6</td>\n",
              "      <td>16</td>\n",
              "      <td>C</td>\n",
              "      <td>4+</td>\n",
              "      <td>0</td>\n",
              "      <td>8</td>\n",
              "      <td>0.0</td>\n",
              "      <td>0.0</td>\n",
              "      <td>7969</td>\n",
              "    </tr>\n",
              "  </tbody>\n",
              "</table>\n",
              "</div>\n",
              "      <button class=\"colab-df-convert\" onclick=\"convertToInteractive('df-abfe7f25-8129-4087-9886-d50eceac43aa')\"\n",
              "              title=\"Convert this dataframe to an interactive table.\"\n",
              "              style=\"display:none;\">\n",
              "        \n",
              "  <svg xmlns=\"http://www.w3.org/2000/svg\" height=\"24px\"viewBox=\"0 0 24 24\"\n",
              "       width=\"24px\">\n",
              "    <path d=\"M0 0h24v24H0V0z\" fill=\"none\"/>\n",
              "    <path d=\"M18.56 5.44l.94 2.06.94-2.06 2.06-.94-2.06-.94-.94-2.06-.94 2.06-2.06.94zm-11 1L8.5 8.5l.94-2.06 2.06-.94-2.06-.94L8.5 2.5l-.94 2.06-2.06.94zm10 10l.94 2.06.94-2.06 2.06-.94-2.06-.94-.94-2.06-.94 2.06-2.06.94z\"/><path d=\"M17.41 7.96l-1.37-1.37c-.4-.4-.92-.59-1.43-.59-.52 0-1.04.2-1.43.59L10.3 9.45l-7.72 7.72c-.78.78-.78 2.05 0 2.83L4 21.41c.39.39.9.59 1.41.59.51 0 1.02-.2 1.41-.59l7.78-7.78 2.81-2.81c.8-.78.8-2.07 0-2.86zM5.41 20L4 18.59l7.72-7.72 1.47 1.35L5.41 20z\"/>\n",
              "  </svg>\n",
              "      </button>\n",
              "      \n",
              "  <style>\n",
              "    .colab-df-container {\n",
              "      display:flex;\n",
              "      flex-wrap:wrap;\n",
              "      gap: 12px;\n",
              "    }\n",
              "\n",
              "    .colab-df-convert {\n",
              "      background-color: #E8F0FE;\n",
              "      border: none;\n",
              "      border-radius: 50%;\n",
              "      cursor: pointer;\n",
              "      display: none;\n",
              "      fill: #1967D2;\n",
              "      height: 32px;\n",
              "      padding: 0 0 0 0;\n",
              "      width: 32px;\n",
              "    }\n",
              "\n",
              "    .colab-df-convert:hover {\n",
              "      background-color: #E2EBFA;\n",
              "      box-shadow: 0px 1px 2px rgba(60, 64, 67, 0.3), 0px 1px 3px 1px rgba(60, 64, 67, 0.15);\n",
              "      fill: #174EA6;\n",
              "    }\n",
              "\n",
              "    [theme=dark] .colab-df-convert {\n",
              "      background-color: #3B4455;\n",
              "      fill: #D2E3FC;\n",
              "    }\n",
              "\n",
              "    [theme=dark] .colab-df-convert:hover {\n",
              "      background-color: #434B5C;\n",
              "      box-shadow: 0px 1px 3px 1px rgba(0, 0, 0, 0.15);\n",
              "      filter: drop-shadow(0px 1px 2px rgba(0, 0, 0, 0.3));\n",
              "      fill: #FFFFFF;\n",
              "    }\n",
              "  </style>\n",
              "\n",
              "      <script>\n",
              "        const buttonEl =\n",
              "          document.querySelector('#df-abfe7f25-8129-4087-9886-d50eceac43aa button.colab-df-convert');\n",
              "        buttonEl.style.display =\n",
              "          google.colab.kernel.accessAllowed ? 'block' : 'none';\n",
              "\n",
              "        async function convertToInteractive(key) {\n",
              "          const element = document.querySelector('#df-abfe7f25-8129-4087-9886-d50eceac43aa');\n",
              "          const dataTable =\n",
              "            await google.colab.kernel.invokeFunction('convertToInteractive',\n",
              "                                                     [key], {});\n",
              "          if (!dataTable) return;\n",
              "\n",
              "          const docLinkHtml = 'Like what you see? Visit the ' +\n",
              "            '<a target=\"_blank\" href=https://colab.research.google.com/notebooks/data_table.ipynb>data table notebook</a>'\n",
              "            + ' to learn more about interactive tables.';\n",
              "          element.innerHTML = '';\n",
              "          dataTable['output_type'] = 'display_data';\n",
              "          await google.colab.output.renderOutput(dataTable, element);\n",
              "          const docLink = document.createElement('div');\n",
              "          docLink.innerHTML = docLinkHtml;\n",
              "          element.appendChild(docLink);\n",
              "        }\n",
              "      </script>\n",
              "    </div>\n",
              "  </div>\n",
              "  "
            ]
          },
          "metadata": {},
          "execution_count": 17
        }
      ]
    },
    {
      "cell_type": "markdown",
      "source": [
        "Cleasnsing Data"
      ],
      "metadata": {
        "id": "NoTVVe6d8HfI"
      }
    },
    {
      "cell_type": "code",
      "source": [
        "df.Stay_In_Current_City_Years.replace({'4+':4},inplace=True)"
      ],
      "metadata": {
        "id": "WKYK4bQr8ynh"
      },
      "execution_count": null,
      "outputs": []
    },
    {
      "cell_type": "code",
      "source": [
        "df.Gender.replace({'F':0,'M':1},inplace=True) "
      ],
      "metadata": {
        "id": "2NRhbrDa9WoJ"
      },
      "execution_count": null,
      "outputs": []
    },
    {
      "cell_type": "code",
      "source": [
        "df.City_Category.replace({'A':0,'B':1,'C':2},inplace=True)"
      ],
      "metadata": {
        "id": "MT1Pemu49tfI"
      },
      "execution_count": null,
      "outputs": []
    },
    {
      "cell_type": "code",
      "source": [
        "df.Stay_In_Current_City_Years=df.Stay_In_Current_City_Years.astype(str).astype(int)"
      ],
      "metadata": {
        "id": "67H4VCEq-jUQ"
      },
      "execution_count": null,
      "outputs": []
    },
    {
      "cell_type": "code",
      "source": [
        "df[\"Product_ID\"]=df[\"Product_ID\"].str[1:]"
      ],
      "metadata": {
        "id": "TJ9L8ARA-9Kh"
      },
      "execution_count": null,
      "outputs": []
    },
    {
      "cell_type": "code",
      "source": [
        "df[\"Product_ID\"]=df[\"Product_ID\"].astype(str).astype(int)"
      ],
      "metadata": {
        "id": "tZfmurFXAPPS"
      },
      "execution_count": null,
      "outputs": []
    },
    {
      "cell_type": "code",
      "source": [
        "df.head()"
      ],
      "metadata": {
        "colab": {
          "base_uri": "https://localhost:8080/",
          "height": 206
        },
        "id": "QJkbPsU0AYCC",
        "outputId": "75ce875b-61eb-4b2a-9db4-08cdb67bfeb0"
      },
      "execution_count": null,
      "outputs": [
        {
          "output_type": "execute_result",
          "data": {
            "text/plain": [
              "   User_ID  Product_ID  Gender  Age  Occupation  City_Category  \\\n",
              "0  1000001       69042       0    0          10              0   \n",
              "1  1000001      248942       0    0          10              0   \n",
              "2  1000001       87842       0    0          10              0   \n",
              "3  1000001       85442       0    0          10              0   \n",
              "4  1000002      285442       1    6          16              2   \n",
              "\n",
              "   Stay_In_Current_City_Years  Marital_Status  Product_Category_1  \\\n",
              "0                           2               0                   3   \n",
              "1                           2               0                   1   \n",
              "2                           2               0                  12   \n",
              "3                           2               0                  12   \n",
              "4                           4               0                   8   \n",
              "\n",
              "   Product_Category_2  Product_Category_3  Purchase  \n",
              "0                 0.0                 0.0      8370  \n",
              "1                 6.0                14.0     15200  \n",
              "2                 0.0                 0.0      1422  \n",
              "3                14.0                 0.0      1057  \n",
              "4                 0.0                 0.0      7969  "
            ],
            "text/html": [
              "\n",
              "  <div id=\"df-c01ea72e-c427-4457-adc3-333ab053caf7\">\n",
              "    <div class=\"colab-df-container\">\n",
              "      <div>\n",
              "<style scoped>\n",
              "    .dataframe tbody tr th:only-of-type {\n",
              "        vertical-align: middle;\n",
              "    }\n",
              "\n",
              "    .dataframe tbody tr th {\n",
              "        vertical-align: top;\n",
              "    }\n",
              "\n",
              "    .dataframe thead th {\n",
              "        text-align: right;\n",
              "    }\n",
              "</style>\n",
              "<table border=\"1\" class=\"dataframe\">\n",
              "  <thead>\n",
              "    <tr style=\"text-align: right;\">\n",
              "      <th></th>\n",
              "      <th>User_ID</th>\n",
              "      <th>Product_ID</th>\n",
              "      <th>Gender</th>\n",
              "      <th>Age</th>\n",
              "      <th>Occupation</th>\n",
              "      <th>City_Category</th>\n",
              "      <th>Stay_In_Current_City_Years</th>\n",
              "      <th>Marital_Status</th>\n",
              "      <th>Product_Category_1</th>\n",
              "      <th>Product_Category_2</th>\n",
              "      <th>Product_Category_3</th>\n",
              "      <th>Purchase</th>\n",
              "    </tr>\n",
              "  </thead>\n",
              "  <tbody>\n",
              "    <tr>\n",
              "      <th>0</th>\n",
              "      <td>1000001</td>\n",
              "      <td>69042</td>\n",
              "      <td>0</td>\n",
              "      <td>0</td>\n",
              "      <td>10</td>\n",
              "      <td>0</td>\n",
              "      <td>2</td>\n",
              "      <td>0</td>\n",
              "      <td>3</td>\n",
              "      <td>0.0</td>\n",
              "      <td>0.0</td>\n",
              "      <td>8370</td>\n",
              "    </tr>\n",
              "    <tr>\n",
              "      <th>1</th>\n",
              "      <td>1000001</td>\n",
              "      <td>248942</td>\n",
              "      <td>0</td>\n",
              "      <td>0</td>\n",
              "      <td>10</td>\n",
              "      <td>0</td>\n",
              "      <td>2</td>\n",
              "      <td>0</td>\n",
              "      <td>1</td>\n",
              "      <td>6.0</td>\n",
              "      <td>14.0</td>\n",
              "      <td>15200</td>\n",
              "    </tr>\n",
              "    <tr>\n",
              "      <th>2</th>\n",
              "      <td>1000001</td>\n",
              "      <td>87842</td>\n",
              "      <td>0</td>\n",
              "      <td>0</td>\n",
              "      <td>10</td>\n",
              "      <td>0</td>\n",
              "      <td>2</td>\n",
              "      <td>0</td>\n",
              "      <td>12</td>\n",
              "      <td>0.0</td>\n",
              "      <td>0.0</td>\n",
              "      <td>1422</td>\n",
              "    </tr>\n",
              "    <tr>\n",
              "      <th>3</th>\n",
              "      <td>1000001</td>\n",
              "      <td>85442</td>\n",
              "      <td>0</td>\n",
              "      <td>0</td>\n",
              "      <td>10</td>\n",
              "      <td>0</td>\n",
              "      <td>2</td>\n",
              "      <td>0</td>\n",
              "      <td>12</td>\n",
              "      <td>14.0</td>\n",
              "      <td>0.0</td>\n",
              "      <td>1057</td>\n",
              "    </tr>\n",
              "    <tr>\n",
              "      <th>4</th>\n",
              "      <td>1000002</td>\n",
              "      <td>285442</td>\n",
              "      <td>1</td>\n",
              "      <td>6</td>\n",
              "      <td>16</td>\n",
              "      <td>2</td>\n",
              "      <td>4</td>\n",
              "      <td>0</td>\n",
              "      <td>8</td>\n",
              "      <td>0.0</td>\n",
              "      <td>0.0</td>\n",
              "      <td>7969</td>\n",
              "    </tr>\n",
              "  </tbody>\n",
              "</table>\n",
              "</div>\n",
              "      <button class=\"colab-df-convert\" onclick=\"convertToInteractive('df-c01ea72e-c427-4457-adc3-333ab053caf7')\"\n",
              "              title=\"Convert this dataframe to an interactive table.\"\n",
              "              style=\"display:none;\">\n",
              "        \n",
              "  <svg xmlns=\"http://www.w3.org/2000/svg\" height=\"24px\"viewBox=\"0 0 24 24\"\n",
              "       width=\"24px\">\n",
              "    <path d=\"M0 0h24v24H0V0z\" fill=\"none\"/>\n",
              "    <path d=\"M18.56 5.44l.94 2.06.94-2.06 2.06-.94-2.06-.94-.94-2.06-.94 2.06-2.06.94zm-11 1L8.5 8.5l.94-2.06 2.06-.94-2.06-.94L8.5 2.5l-.94 2.06-2.06.94zm10 10l.94 2.06.94-2.06 2.06-.94-2.06-.94-.94-2.06-.94 2.06-2.06.94z\"/><path d=\"M17.41 7.96l-1.37-1.37c-.4-.4-.92-.59-1.43-.59-.52 0-1.04.2-1.43.59L10.3 9.45l-7.72 7.72c-.78.78-.78 2.05 0 2.83L4 21.41c.39.39.9.59 1.41.59.51 0 1.02-.2 1.41-.59l7.78-7.78 2.81-2.81c.8-.78.8-2.07 0-2.86zM5.41 20L4 18.59l7.72-7.72 1.47 1.35L5.41 20z\"/>\n",
              "  </svg>\n",
              "      </button>\n",
              "      \n",
              "  <style>\n",
              "    .colab-df-container {\n",
              "      display:flex;\n",
              "      flex-wrap:wrap;\n",
              "      gap: 12px;\n",
              "    }\n",
              "\n",
              "    .colab-df-convert {\n",
              "      background-color: #E8F0FE;\n",
              "      border: none;\n",
              "      border-radius: 50%;\n",
              "      cursor: pointer;\n",
              "      display: none;\n",
              "      fill: #1967D2;\n",
              "      height: 32px;\n",
              "      padding: 0 0 0 0;\n",
              "      width: 32px;\n",
              "    }\n",
              "\n",
              "    .colab-df-convert:hover {\n",
              "      background-color: #E2EBFA;\n",
              "      box-shadow: 0px 1px 2px rgba(60, 64, 67, 0.3), 0px 1px 3px 1px rgba(60, 64, 67, 0.15);\n",
              "      fill: #174EA6;\n",
              "    }\n",
              "\n",
              "    [theme=dark] .colab-df-convert {\n",
              "      background-color: #3B4455;\n",
              "      fill: #D2E3FC;\n",
              "    }\n",
              "\n",
              "    [theme=dark] .colab-df-convert:hover {\n",
              "      background-color: #434B5C;\n",
              "      box-shadow: 0px 1px 3px 1px rgba(0, 0, 0, 0.15);\n",
              "      filter: drop-shadow(0px 1px 2px rgba(0, 0, 0, 0.3));\n",
              "      fill: #FFFFFF;\n",
              "    }\n",
              "  </style>\n",
              "\n",
              "      <script>\n",
              "        const buttonEl =\n",
              "          document.querySelector('#df-c01ea72e-c427-4457-adc3-333ab053caf7 button.colab-df-convert');\n",
              "        buttonEl.style.display =\n",
              "          google.colab.kernel.accessAllowed ? 'block' : 'none';\n",
              "\n",
              "        async function convertToInteractive(key) {\n",
              "          const element = document.querySelector('#df-c01ea72e-c427-4457-adc3-333ab053caf7');\n",
              "          const dataTable =\n",
              "            await google.colab.kernel.invokeFunction('convertToInteractive',\n",
              "                                                     [key], {});\n",
              "          if (!dataTable) return;\n",
              "\n",
              "          const docLinkHtml = 'Like what you see? Visit the ' +\n",
              "            '<a target=\"_blank\" href=https://colab.research.google.com/notebooks/data_table.ipynb>data table notebook</a>'\n",
              "            + ' to learn more about interactive tables.';\n",
              "          element.innerHTML = '';\n",
              "          dataTable['output_type'] = 'display_data';\n",
              "          await google.colab.output.renderOutput(dataTable, element);\n",
              "          const docLink = document.createElement('div');\n",
              "          docLink.innerHTML = docLinkHtml;\n",
              "          element.appendChild(docLink);\n",
              "        }\n",
              "      </script>\n",
              "    </div>\n",
              "  </div>\n",
              "  "
            ]
          },
          "metadata": {},
          "execution_count": 18
        }
      ]
    },
    {
      "cell_type": "code",
      "source": [
        "df.corr()"
      ],
      "metadata": {
        "colab": {
          "base_uri": "https://localhost:8080/",
          "height": 426
        },
        "id": "etXSIlGGAfNJ",
        "outputId": "8f47de90-7cff-4ce6-b70a-a0182d9fb896"
      },
      "execution_count": null,
      "outputs": [
        {
          "output_type": "execute_result",
          "data": {
            "text/plain": [
              "                             User_ID  Product_ID    Gender       Age  \\\n",
              "User_ID                     1.000000   -0.017619 -0.033474  0.032698   \n",
              "Product_ID                 -0.017619    1.000000  0.021084  0.028892   \n",
              "Gender                     -0.033474    0.021084  1.000000 -0.004262   \n",
              "Age                         0.032698    0.028892 -0.004262  1.000000   \n",
              "Occupation                 -0.023971    0.009344  0.117291  0.091463   \n",
              "City_Category               0.022859    0.010162 -0.004515  0.123079   \n",
              "Stay_In_Current_City_Years -0.030737   -0.003162  0.014660 -0.004712   \n",
              "Marital_Status              0.020443    0.013194 -0.011603  0.311738   \n",
              "Product_Category_1          0.003825    0.090193 -0.045594  0.061197   \n",
              "Product_Category_2          0.003896   -0.090600 -0.000954  0.018770   \n",
              "Product_Category_3          0.003605   -0.144360  0.036146 -0.007422   \n",
              "Purchase                    0.004716   -0.103961  0.060346  0.015839   \n",
              "\n",
              "                            Occupation  City_Category  \\\n",
              "User_ID                      -0.023971       0.022859   \n",
              "Product_ID                    0.009344       0.010162   \n",
              "Gender                        0.117291      -0.004515   \n",
              "Age                           0.091463       0.123079   \n",
              "Occupation                    1.000000       0.034479   \n",
              "City_Category                 0.034479       1.000000   \n",
              "Stay_In_Current_City_Years    0.030005       0.019946   \n",
              "Marital_Status                0.024280       0.039790   \n",
              "Product_Category_1           -0.007618      -0.014364   \n",
              "Product_Category_2            0.006712       0.016003   \n",
              "Product_Category_3            0.012269       0.035525   \n",
              "Purchase                      0.020833       0.061914   \n",
              "\n",
              "                            Stay_In_Current_City_Years  Marital_Status  \\\n",
              "User_ID                                      -0.030737        0.020443   \n",
              "Product_ID                                   -0.003162        0.013194   \n",
              "Gender                                        0.014660       -0.011603   \n",
              "Age                                          -0.004712        0.311738   \n",
              "Occupation                                    0.030005        0.024280   \n",
              "City_Category                                 0.019946        0.039790   \n",
              "Stay_In_Current_City_Years                    1.000000       -0.012819   \n",
              "Marital_Status                               -0.012819        1.000000   \n",
              "Product_Category_1                           -0.004213        0.019888   \n",
              "Product_Category_2                            0.001262        0.001099   \n",
              "Product_Category_3                            0.001977       -0.004629   \n",
              "Purchase                                      0.005422       -0.000463   \n",
              "\n",
              "                            Product_Category_1  Product_Category_2  \\\n",
              "User_ID                               0.003825            0.003896   \n",
              "Product_ID                            0.090193           -0.090600   \n",
              "Gender                               -0.045594           -0.000954   \n",
              "Age                                   0.061197            0.018770   \n",
              "Occupation                           -0.007618            0.006712   \n",
              "City_Category                        -0.014364            0.016003   \n",
              "Stay_In_Current_City_Years           -0.004213            0.001262   \n",
              "Marital_Status                        0.019888            0.001099   \n",
              "Product_Category_1                    1.000000           -0.067877   \n",
              "Product_Category_2                   -0.067877            1.000000   \n",
              "Product_Category_3                   -0.385534            0.094750   \n",
              "Purchase                             -0.343703            0.052288   \n",
              "\n",
              "                            Product_Category_3  Purchase  \n",
              "User_ID                               0.003605  0.004716  \n",
              "Product_ID                           -0.144360 -0.103961  \n",
              "Gender                                0.036146  0.060346  \n",
              "Age                                  -0.007422  0.015839  \n",
              "Occupation                            0.012269  0.020833  \n",
              "City_Category                         0.035525  0.061914  \n",
              "Stay_In_Current_City_Years            0.001977  0.005422  \n",
              "Marital_Status                       -0.004629 -0.000463  \n",
              "Product_Category_1                   -0.385534 -0.343703  \n",
              "Product_Category_2                    0.094750  0.052288  \n",
              "Product_Category_3                    1.000000  0.288501  \n",
              "Purchase                              0.288501  1.000000  "
            ],
            "text/html": [
              "\n",
              "  <div id=\"df-8b99ad91-dba5-42f5-8bfb-ac33cfbb3d6b\">\n",
              "    <div class=\"colab-df-container\">\n",
              "      <div>\n",
              "<style scoped>\n",
              "    .dataframe tbody tr th:only-of-type {\n",
              "        vertical-align: middle;\n",
              "    }\n",
              "\n",
              "    .dataframe tbody tr th {\n",
              "        vertical-align: top;\n",
              "    }\n",
              "\n",
              "    .dataframe thead th {\n",
              "        text-align: right;\n",
              "    }\n",
              "</style>\n",
              "<table border=\"1\" class=\"dataframe\">\n",
              "  <thead>\n",
              "    <tr style=\"text-align: right;\">\n",
              "      <th></th>\n",
              "      <th>User_ID</th>\n",
              "      <th>Product_ID</th>\n",
              "      <th>Gender</th>\n",
              "      <th>Age</th>\n",
              "      <th>Occupation</th>\n",
              "      <th>City_Category</th>\n",
              "      <th>Stay_In_Current_City_Years</th>\n",
              "      <th>Marital_Status</th>\n",
              "      <th>Product_Category_1</th>\n",
              "      <th>Product_Category_2</th>\n",
              "      <th>Product_Category_3</th>\n",
              "      <th>Purchase</th>\n",
              "    </tr>\n",
              "  </thead>\n",
              "  <tbody>\n",
              "    <tr>\n",
              "      <th>User_ID</th>\n",
              "      <td>1.000000</td>\n",
              "      <td>-0.017619</td>\n",
              "      <td>-0.033474</td>\n",
              "      <td>0.032698</td>\n",
              "      <td>-0.023971</td>\n",
              "      <td>0.022859</td>\n",
              "      <td>-0.030737</td>\n",
              "      <td>0.020443</td>\n",
              "      <td>0.003825</td>\n",
              "      <td>0.003896</td>\n",
              "      <td>0.003605</td>\n",
              "      <td>0.004716</td>\n",
              "    </tr>\n",
              "    <tr>\n",
              "      <th>Product_ID</th>\n",
              "      <td>-0.017619</td>\n",
              "      <td>1.000000</td>\n",
              "      <td>0.021084</td>\n",
              "      <td>0.028892</td>\n",
              "      <td>0.009344</td>\n",
              "      <td>0.010162</td>\n",
              "      <td>-0.003162</td>\n",
              "      <td>0.013194</td>\n",
              "      <td>0.090193</td>\n",
              "      <td>-0.090600</td>\n",
              "      <td>-0.144360</td>\n",
              "      <td>-0.103961</td>\n",
              "    </tr>\n",
              "    <tr>\n",
              "      <th>Gender</th>\n",
              "      <td>-0.033474</td>\n",
              "      <td>0.021084</td>\n",
              "      <td>1.000000</td>\n",
              "      <td>-0.004262</td>\n",
              "      <td>0.117291</td>\n",
              "      <td>-0.004515</td>\n",
              "      <td>0.014660</td>\n",
              "      <td>-0.011603</td>\n",
              "      <td>-0.045594</td>\n",
              "      <td>-0.000954</td>\n",
              "      <td>0.036146</td>\n",
              "      <td>0.060346</td>\n",
              "    </tr>\n",
              "    <tr>\n",
              "      <th>Age</th>\n",
              "      <td>0.032698</td>\n",
              "      <td>0.028892</td>\n",
              "      <td>-0.004262</td>\n",
              "      <td>1.000000</td>\n",
              "      <td>0.091463</td>\n",
              "      <td>0.123079</td>\n",
              "      <td>-0.004712</td>\n",
              "      <td>0.311738</td>\n",
              "      <td>0.061197</td>\n",
              "      <td>0.018770</td>\n",
              "      <td>-0.007422</td>\n",
              "      <td>0.015839</td>\n",
              "    </tr>\n",
              "    <tr>\n",
              "      <th>Occupation</th>\n",
              "      <td>-0.023971</td>\n",
              "      <td>0.009344</td>\n",
              "      <td>0.117291</td>\n",
              "      <td>0.091463</td>\n",
              "      <td>1.000000</td>\n",
              "      <td>0.034479</td>\n",
              "      <td>0.030005</td>\n",
              "      <td>0.024280</td>\n",
              "      <td>-0.007618</td>\n",
              "      <td>0.006712</td>\n",
              "      <td>0.012269</td>\n",
              "      <td>0.020833</td>\n",
              "    </tr>\n",
              "    <tr>\n",
              "      <th>City_Category</th>\n",
              "      <td>0.022859</td>\n",
              "      <td>0.010162</td>\n",
              "      <td>-0.004515</td>\n",
              "      <td>0.123079</td>\n",
              "      <td>0.034479</td>\n",
              "      <td>1.000000</td>\n",
              "      <td>0.019946</td>\n",
              "      <td>0.039790</td>\n",
              "      <td>-0.014364</td>\n",
              "      <td>0.016003</td>\n",
              "      <td>0.035525</td>\n",
              "      <td>0.061914</td>\n",
              "    </tr>\n",
              "    <tr>\n",
              "      <th>Stay_In_Current_City_Years</th>\n",
              "      <td>-0.030737</td>\n",
              "      <td>-0.003162</td>\n",
              "      <td>0.014660</td>\n",
              "      <td>-0.004712</td>\n",
              "      <td>0.030005</td>\n",
              "      <td>0.019946</td>\n",
              "      <td>1.000000</td>\n",
              "      <td>-0.012819</td>\n",
              "      <td>-0.004213</td>\n",
              "      <td>0.001262</td>\n",
              "      <td>0.001977</td>\n",
              "      <td>0.005422</td>\n",
              "    </tr>\n",
              "    <tr>\n",
              "      <th>Marital_Status</th>\n",
              "      <td>0.020443</td>\n",
              "      <td>0.013194</td>\n",
              "      <td>-0.011603</td>\n",
              "      <td>0.311738</td>\n",
              "      <td>0.024280</td>\n",
              "      <td>0.039790</td>\n",
              "      <td>-0.012819</td>\n",
              "      <td>1.000000</td>\n",
              "      <td>0.019888</td>\n",
              "      <td>0.001099</td>\n",
              "      <td>-0.004629</td>\n",
              "      <td>-0.000463</td>\n",
              "    </tr>\n",
              "    <tr>\n",
              "      <th>Product_Category_1</th>\n",
              "      <td>0.003825</td>\n",
              "      <td>0.090193</td>\n",
              "      <td>-0.045594</td>\n",
              "      <td>0.061197</td>\n",
              "      <td>-0.007618</td>\n",
              "      <td>-0.014364</td>\n",
              "      <td>-0.004213</td>\n",
              "      <td>0.019888</td>\n",
              "      <td>1.000000</td>\n",
              "      <td>-0.067877</td>\n",
              "      <td>-0.385534</td>\n",
              "      <td>-0.343703</td>\n",
              "    </tr>\n",
              "    <tr>\n",
              "      <th>Product_Category_2</th>\n",
              "      <td>0.003896</td>\n",
              "      <td>-0.090600</td>\n",
              "      <td>-0.000954</td>\n",
              "      <td>0.018770</td>\n",
              "      <td>0.006712</td>\n",
              "      <td>0.016003</td>\n",
              "      <td>0.001262</td>\n",
              "      <td>0.001099</td>\n",
              "      <td>-0.067877</td>\n",
              "      <td>1.000000</td>\n",
              "      <td>0.094750</td>\n",
              "      <td>0.052288</td>\n",
              "    </tr>\n",
              "    <tr>\n",
              "      <th>Product_Category_3</th>\n",
              "      <td>0.003605</td>\n",
              "      <td>-0.144360</td>\n",
              "      <td>0.036146</td>\n",
              "      <td>-0.007422</td>\n",
              "      <td>0.012269</td>\n",
              "      <td>0.035525</td>\n",
              "      <td>0.001977</td>\n",
              "      <td>-0.004629</td>\n",
              "      <td>-0.385534</td>\n",
              "      <td>0.094750</td>\n",
              "      <td>1.000000</td>\n",
              "      <td>0.288501</td>\n",
              "    </tr>\n",
              "    <tr>\n",
              "      <th>Purchase</th>\n",
              "      <td>0.004716</td>\n",
              "      <td>-0.103961</td>\n",
              "      <td>0.060346</td>\n",
              "      <td>0.015839</td>\n",
              "      <td>0.020833</td>\n",
              "      <td>0.061914</td>\n",
              "      <td>0.005422</td>\n",
              "      <td>-0.000463</td>\n",
              "      <td>-0.343703</td>\n",
              "      <td>0.052288</td>\n",
              "      <td>0.288501</td>\n",
              "      <td>1.000000</td>\n",
              "    </tr>\n",
              "  </tbody>\n",
              "</table>\n",
              "</div>\n",
              "      <button class=\"colab-df-convert\" onclick=\"convertToInteractive('df-8b99ad91-dba5-42f5-8bfb-ac33cfbb3d6b')\"\n",
              "              title=\"Convert this dataframe to an interactive table.\"\n",
              "              style=\"display:none;\">\n",
              "        \n",
              "  <svg xmlns=\"http://www.w3.org/2000/svg\" height=\"24px\"viewBox=\"0 0 24 24\"\n",
              "       width=\"24px\">\n",
              "    <path d=\"M0 0h24v24H0V0z\" fill=\"none\"/>\n",
              "    <path d=\"M18.56 5.44l.94 2.06.94-2.06 2.06-.94-2.06-.94-.94-2.06-.94 2.06-2.06.94zm-11 1L8.5 8.5l.94-2.06 2.06-.94-2.06-.94L8.5 2.5l-.94 2.06-2.06.94zm10 10l.94 2.06.94-2.06 2.06-.94-2.06-.94-.94-2.06-.94 2.06-2.06.94z\"/><path d=\"M17.41 7.96l-1.37-1.37c-.4-.4-.92-.59-1.43-.59-.52 0-1.04.2-1.43.59L10.3 9.45l-7.72 7.72c-.78.78-.78 2.05 0 2.83L4 21.41c.39.39.9.59 1.41.59.51 0 1.02-.2 1.41-.59l7.78-7.78 2.81-2.81c.8-.78.8-2.07 0-2.86zM5.41 20L4 18.59l7.72-7.72 1.47 1.35L5.41 20z\"/>\n",
              "  </svg>\n",
              "      </button>\n",
              "      \n",
              "  <style>\n",
              "    .colab-df-container {\n",
              "      display:flex;\n",
              "      flex-wrap:wrap;\n",
              "      gap: 12px;\n",
              "    }\n",
              "\n",
              "    .colab-df-convert {\n",
              "      background-color: #E8F0FE;\n",
              "      border: none;\n",
              "      border-radius: 50%;\n",
              "      cursor: pointer;\n",
              "      display: none;\n",
              "      fill: #1967D2;\n",
              "      height: 32px;\n",
              "      padding: 0 0 0 0;\n",
              "      width: 32px;\n",
              "    }\n",
              "\n",
              "    .colab-df-convert:hover {\n",
              "      background-color: #E2EBFA;\n",
              "      box-shadow: 0px 1px 2px rgba(60, 64, 67, 0.3), 0px 1px 3px 1px rgba(60, 64, 67, 0.15);\n",
              "      fill: #174EA6;\n",
              "    }\n",
              "\n",
              "    [theme=dark] .colab-df-convert {\n",
              "      background-color: #3B4455;\n",
              "      fill: #D2E3FC;\n",
              "    }\n",
              "\n",
              "    [theme=dark] .colab-df-convert:hover {\n",
              "      background-color: #434B5C;\n",
              "      box-shadow: 0px 1px 3px 1px rgba(0, 0, 0, 0.15);\n",
              "      filter: drop-shadow(0px 1px 2px rgba(0, 0, 0, 0.3));\n",
              "      fill: #FFFFFF;\n",
              "    }\n",
              "  </style>\n",
              "\n",
              "      <script>\n",
              "        const buttonEl =\n",
              "          document.querySelector('#df-8b99ad91-dba5-42f5-8bfb-ac33cfbb3d6b button.colab-df-convert');\n",
              "        buttonEl.style.display =\n",
              "          google.colab.kernel.accessAllowed ? 'block' : 'none';\n",
              "\n",
              "        async function convertToInteractive(key) {\n",
              "          const element = document.querySelector('#df-8b99ad91-dba5-42f5-8bfb-ac33cfbb3d6b');\n",
              "          const dataTable =\n",
              "            await google.colab.kernel.invokeFunction('convertToInteractive',\n",
              "                                                     [key], {});\n",
              "          if (!dataTable) return;\n",
              "\n",
              "          const docLinkHtml = 'Like what you see? Visit the ' +\n",
              "            '<a target=\"_blank\" href=https://colab.research.google.com/notebooks/data_table.ipynb>data table notebook</a>'\n",
              "            + ' to learn more about interactive tables.';\n",
              "          element.innerHTML = '';\n",
              "          dataTable['output_type'] = 'display_data';\n",
              "          await google.colab.output.renderOutput(dataTable, element);\n",
              "          const docLink = document.createElement('div');\n",
              "          docLink.innerHTML = docLinkHtml;\n",
              "          element.appendChild(docLink);\n",
              "        }\n",
              "      </script>\n",
              "    </div>\n",
              "  </div>\n",
              "  "
            ]
          },
          "metadata": {},
          "execution_count": 19
        }
      ]
    },
    {
      "cell_type": "code",
      "source": [
        "sns.heatmap(df.corr())"
      ],
      "metadata": {
        "colab": {
          "base_uri": "https://localhost:8080/",
          "height": 411
        },
        "id": "Y7LX3jSmAkeZ",
        "outputId": "8dc5f295-249a-4874-d7bb-75d9a13a3504"
      },
      "execution_count": null,
      "outputs": [
        {
          "output_type": "execute_result",
          "data": {
            "text/plain": [
              "<matplotlib.axes._subplots.AxesSubplot at 0x7fb8d5700ed0>"
            ]
          },
          "metadata": {},
          "execution_count": 20
        },
        {
          "output_type": "display_data",
          "data": {
            "text/plain": [
              "<Figure size 432x288 with 2 Axes>"
            ],
            "image/png": "[encoded data removed]"
          },
          "metadata": {
            "needs_background": "light"
          }
        }
      ]
    },
    {
      "cell_type": "code",
      "source": [
        "plt.hist(df.Product_ID) #histogram"
      ],
      "metadata": {
        "colab": {
          "base_uri": "https://localhost:8080/",
          "height": 372
        },
        "id": "Is9qph1fAsEZ",
        "outputId": "6755b691-a6f3-44a7-c374-62c85353d6d4"
      },
      "execution_count": null,
      "outputs": [
        {
          "output_type": "execute_result",
          "data": {
            "text/plain": [
              "(array([60327., 48459., 66463., 76687., 54864., 57198., 52979., 52154.,\n",
              "        44289., 36648.]),\n",
              " array([1.420000e+02, 3.767140e+04, 7.520080e+04, 1.127302e+05,\n",
              "        1.502596e+05, 1.877890e+05, 2.253184e+05, 2.628478e+05,\n",
              "        3.003772e+05, 3.379066e+05, 3.754360e+05]),\n",
              " <a list of 10 Patch objects>)"
            ]
          },
          "metadata": {},
          "execution_count": 21
        },
        {
          "output_type": "display_data",
          "data": {
            "text/plain": [
              "<Figure size 432x288 with 1 Axes>"
            ],
            "image/png": "[encoded data removed]"
          },
          "metadata": {
            "needs_background": "light"
          }
        }
      ]
    },
    {
      "cell_type": "code",
      "source": [
        "plt.boxplot(df.Product_ID)"
      ],
      "metadata": {
        "colab": {
          "base_uri": "https://localhost:8080/",
          "height": 404
        },
        "id": "MXdBSWw0GDIo",
        "outputId": "14b1fd45-eec6-4edb-91a9-64a5dc9dea0d"
      },
      "execution_count": null,
      "outputs": [
        {
          "output_type": "execute_result",
          "data": {
            "text/plain": [
              "{'whiskers': [<matplotlib.lines.Line2D at 0x7fb8d5b2fe10>,\n",
              "  <matplotlib.lines.Line2D at 0x7fb8d5b36390>],\n",
              " 'caps': [<matplotlib.lines.Line2D at 0x7fb8d5b368d0>,\n",
              "  <matplotlib.lines.Line2D at 0x7fb8d5b36e10>],\n",
              " 'boxes': [<matplotlib.lines.Line2D at 0x7fb8d5b2f810>],\n",
              " 'medians': [<matplotlib.lines.Line2D at 0x7fb8d5b3e3d0>],\n",
              " 'fliers': [<matplotlib.lines.Line2D at 0x7fb8d5b3e910>],\n",
              " 'means': []}"
            ]
          },
          "metadata": {},
          "execution_count": 22
        },
        {
          "output_type": "display_data",
          "data": {
            "text/plain": [
              "<Figure size 432x288 with 1 Axes>"
            ],
            "image/png": "[encoded data removed]"
          },
          "metadata": {
            "needs_background": "light"
          }
        }
      ]
    },
    {
      "cell_type": "code",
      "source": [
        "stats.probplot(df.Purchase, dist = \"norm\", plot = pylab)\n",
        "plt.show()"
      ],
      "metadata": {
        "colab": {
          "base_uri": "https://localhost:8080/",
          "height": 295
        },
        "id": "BpPaPSIaGxNi",
        "outputId": "9d6c0ed7-c36e-47c8-bea5-118db11e39db"
      },
      "execution_count": null,
      "outputs": [
        {
          "output_type": "display_data",
          "data": {
            "text/plain": [
              "<Figure size 432x288 with 1 Axes>"
            ],
            "image/png": "[encoded data removed]"
          },
          "metadata": {
            "needs_background": "light"
          }
        }
      ]
    },
    {
      "cell_type": "code",
      "source": [
        "#sns.pairplot(df.iloc[:, :])"
      ],
      "metadata": {
        "id": "UaJhjXwZHCzq"
      },
      "execution_count": null,
      "outputs": []
    },
    {
      "cell_type": "code",
      "source": [
        "mlr_model_df=df.drop(columns=['User_ID','Product_ID'])\n",
        "mlr_model_df.head()"
      ],
      "metadata": {
        "id": "wjpxxztSsR1D",
        "outputId": "7bea2703-efa9-4775-b741-98f93ba3262c",
        "colab": {
          "base_uri": "https://localhost:8080/",
          "height": 206
        }
      },
      "execution_count": null,
      "outputs": [
        {
          "output_type": "execute_result",
          "data": {
            "text/plain": [
              "   Gender  Age  Occupation  City_Category  Stay_In_Current_City_Years  \\\n",
              "0       0    0          10              0                           2   \n",
              "1       0    0          10              0                           2   \n",
              "2       0    0          10              0                           2   \n",
              "3       0    0          10              0                           2   \n",
              "4       1    6          16              2                           4   \n",
              "\n",
              "   Marital_Status  Product_Category_1  Product_Category_2  Product_Category_3  \\\n",
              "0               0                   3                 0.0                 0.0   \n",
              "1               0                   1                 6.0                14.0   \n",
              "2               0                  12                 0.0                 0.0   \n",
              "3               0                  12                14.0                 0.0   \n",
              "4               0                   8                 0.0                 0.0   \n",
              "\n",
              "   Purchase  \n",
              "0      8370  \n",
              "1     15200  \n",
              "2      1422  \n",
              "3      1057  \n",
              "4      7969  "
            ],
            "text/html": [
              "\n",
              "  <div id=\"df-84bc9688-fb1e-45e0-8fb0-d0b2889b4ab5\">\n",
              "    <div class=\"colab-df-container\">\n",
              "      <div>\n",
              "<style scoped>\n",
              "    .dataframe tbody tr th:only-of-type {\n",
              "        vertical-align: middle;\n",
              "    }\n",
              "\n",
              "    .dataframe tbody tr th {\n",
              "        vertical-align: top;\n",
              "    }\n",
              "\n",
              "    .dataframe thead th {\n",
              "        text-align: right;\n",
              "    }\n",
              "</style>\n",
              "<table border=\"1\" class=\"dataframe\">\n",
              "  <thead>\n",
              "    <tr style=\"text-align: right;\">\n",
              "      <th></th>\n",
              "      <th>Gender</th>\n",
              "      <th>Age</th>\n",
              "      <th>Occupation</th>\n",
              "      <th>City_Category</th>\n",
              "      <th>Stay_In_Current_City_Years</th>\n",
              "      <th>Marital_Status</th>\n",
              "      <th>Product_Category_1</th>\n",
              "      <th>Product_Category_2</th>\n",
              "      <th>Product_Category_3</th>\n",
              "      <th>Purchase</th>\n",
              "    </tr>\n",
              "  </thead>\n",
              "  <tbody>\n",
              "    <tr>\n",
              "      <th>0</th>\n",
              "      <td>0</td>\n",
              "      <td>0</td>\n",
              "      <td>10</td>\n",
              "      <td>0</td>\n",
              "      <td>2</td>\n",
              "      <td>0</td>\n",
              "      <td>3</td>\n",
              "      <td>0.0</td>\n",
              "      <td>0.0</td>\n",
              "      <td>8370</td>\n",
              "    </tr>\n",
              "    <tr>\n",
              "      <th>1</th>\n",
              "      <td>0</td>\n",
              "      <td>0</td>\n",
              "      <td>10</td>\n",
              "      <td>0</td>\n",
              "      <td>2</td>\n",
              "      <td>0</td>\n",
              "      <td>1</td>\n",
              "      <td>6.0</td>\n",
              "      <td>14.0</td>\n",
              "      <td>15200</td>\n",
              "    </tr>\n",
              "    <tr>\n",
              "      <th>2</th>\n",
              "      <td>0</td>\n",
              "      <td>0</td>\n",
              "      <td>10</td>\n",
              "      <td>0</td>\n",
              "      <td>2</td>\n",
              "      <td>0</td>\n",
              "      <td>12</td>\n",
              "      <td>0.0</td>\n",
              "      <td>0.0</td>\n",
              "      <td>1422</td>\n",
              "    </tr>\n",
              "    <tr>\n",
              "      <th>3</th>\n",
              "      <td>0</td>\n",
              "      <td>0</td>\n",
              "      <td>10</td>\n",
              "      <td>0</td>\n",
              "      <td>2</td>\n",
              "      <td>0</td>\n",
              "      <td>12</td>\n",
              "      <td>14.0</td>\n",
              "      <td>0.0</td>\n",
              "      <td>1057</td>\n",
              "    </tr>\n",
              "    <tr>\n",
              "      <th>4</th>\n",
              "      <td>1</td>\n",
              "      <td>6</td>\n",
              "      <td>16</td>\n",
              "      <td>2</td>\n",
              "      <td>4</td>\n",
              "      <td>0</td>\n",
              "      <td>8</td>\n",
              "      <td>0.0</td>\n",
              "      <td>0.0</td>\n",
              "      <td>7969</td>\n",
              "    </tr>\n",
              "  </tbody>\n",
              "</table>\n",
              "</div>\n",
              "      <button class=\"colab-df-convert\" onclick=\"convertToInteractive('df-84bc9688-fb1e-45e0-8fb0-d0b2889b4ab5')\"\n",
              "              title=\"Convert this dataframe to an interactive table.\"\n",
              "              style=\"display:none;\">\n",
              "        \n",
              "  <svg xmlns=\"http://www.w3.org/2000/svg\" height=\"24px\"viewBox=\"0 0 24 24\"\n",
              "       width=\"24px\">\n",
              "    <path d=\"M0 0h24v24H0V0z\" fill=\"none\"/>\n",
              "    <path d=\"M18.56 5.44l.94 2.06.94-2.06 2.06-.94-2.06-.94-.94-2.06-.94 2.06-2.06.94zm-11 1L8.5 8.5l.94-2.06 2.06-.94-2.06-.94L8.5 2.5l-.94 2.06-2.06.94zm10 10l.94 2.06.94-2.06 2.06-.94-2.06-.94-.94-2.06-.94 2.06-2.06.94z\"/><path d=\"M17.41 7.96l-1.37-1.37c-.4-.4-.92-.59-1.43-.59-.52 0-1.04.2-1.43.59L10.3 9.45l-7.72 7.72c-.78.78-.78 2.05 0 2.83L4 21.41c.39.39.9.59 1.41.59.51 0 1.02-.2 1.41-.59l7.78-7.78 2.81-2.81c.8-.78.8-2.07 0-2.86zM5.41 20L4 18.59l7.72-7.72 1.47 1.35L5.41 20z\"/>\n",
              "  </svg>\n",
              "      </button>\n",
              "      \n",
              "  <style>\n",
              "    .colab-df-container {\n",
              "      display:flex;\n",
              "      flex-wrap:wrap;\n",
              "      gap: 12px;\n",
              "    }\n",
              "\n",
              "    .colab-df-convert {\n",
              "      background-color: #E8F0FE;\n",
              "      border: none;\n",
              "      border-radius: 50%;\n",
              "      cursor: pointer;\n",
              "      display: none;\n",
              "      fill: #1967D2;\n",
              "      height: 32px;\n",
              "      padding: 0 0 0 0;\n",
              "      width: 32px;\n",
              "    }\n",
              "\n",
              "    .colab-df-convert:hover {\n",
              "      background-color: #E2EBFA;\n",
              "      box-shadow: 0px 1px 2px rgba(60, 64, 67, 0.3), 0px 1px 3px 1px rgba(60, 64, 67, 0.15);\n",
              "      fill: #174EA6;\n",
              "    }\n",
              "\n",
              "    [theme=dark] .colab-df-convert {\n",
              "      background-color: #3B4455;\n",
              "      fill: #D2E3FC;\n",
              "    }\n",
              "\n",
              "    [theme=dark] .colab-df-convert:hover {\n",
              "      background-color: #434B5C;\n",
              "      box-shadow: 0px 1px 3px 1px rgba(0, 0, 0, 0.15);\n",
              "      filter: drop-shadow(0px 1px 2px rgba(0, 0, 0, 0.3));\n",
              "      fill: #FFFFFF;\n",
              "    }\n",
              "  </style>\n",
              "\n",
              "      <script>\n",
              "        const buttonEl =\n",
              "          document.querySelector('#df-84bc9688-fb1e-45e0-8fb0-d0b2889b4ab5 button.colab-df-convert');\n",
              "        buttonEl.style.display =\n",
              "          google.colab.kernel.accessAllowed ? 'block' : 'none';\n",
              "\n",
              "        async function convertToInteractive(key) {\n",
              "          const element = document.querySelector('#df-84bc9688-fb1e-45e0-8fb0-d0b2889b4ab5');\n",
              "          const dataTable =\n",
              "            await google.colab.kernel.invokeFunction('convertToInteractive',\n",
              "                                                     [key], {});\n",
              "          if (!dataTable) return;\n",
              "\n",
              "          const docLinkHtml = 'Like what you see? Visit the ' +\n",
              "            '<a target=\"_blank\" href=https://colab.research.google.com/notebooks/data_table.ipynb>data table notebook</a>'\n",
              "            + ' to learn more about interactive tables.';\n",
              "          element.innerHTML = '';\n",
              "          dataTable['output_type'] = 'display_data';\n",
              "          await google.colab.output.renderOutput(dataTable, element);\n",
              "          const docLink = document.createElement('div');\n",
              "          docLink.innerHTML = docLinkHtml;\n",
              "          element.appendChild(docLink);\n",
              "        }\n",
              "      </script>\n",
              "    </div>\n",
              "  </div>\n",
              "  "
            ]
          },
          "metadata": {},
          "execution_count": 25
        }
      ]
    },
    {
      "cell_type": "code",
      "source": [
        "nm=MinMaxScaler()"
      ],
      "metadata": {
        "id": "bzyGR0sd23Lp"
      },
      "execution_count": null,
      "outputs": []
    },
    {
      "cell_type": "code",
      "source": [
        "mlr_columns=mlr_model_df.columns\n",
        "mlr_columns"
      ],
      "metadata": {
        "id": "KTfbwXq43hLR",
        "outputId": "d1636f45-32aa-45be-d08d-1bd5b841715b",
        "colab": {
          "base_uri": "https://localhost:8080/"
        }
      },
      "execution_count": null,
      "outputs": [
        {
          "output_type": "execute_result",
          "data": {
            "text/plain": [
              "Index(['Gender', 'Age', 'Occupation', 'City_Category',\n",
              "       'Stay_In_Current_City_Years', 'Marital_Status', 'Product_Category_1',\n",
              "       'Product_Category_2', 'Product_Category_3', 'Purchase'],\n",
              "      dtype='object')"
            ]
          },
          "metadata": {},
          "execution_count": 27
        }
      ]
    },
    {
      "cell_type": "code",
      "source": [
        "mlr_model_df=pd.DataFrame(nm.fit_transform(mlr_model_df))\n",
        "mlr_model_df.columns=['Gender', 'Age', 'Occupation', 'City_Category',\n",
        "       'Stay_In_Current_City_Years', 'Marital_Status', 'Product_Category_1',\n",
        "       'Product_Category_2', 'Product_Category_3', 'Purchase']\n",
        "mlr_model_df"
      ],
      "metadata": {
        "id": "kTFs2Koc3RL2",
        "outputId": "0ba5b6cc-7289-43a3-bfb6-3f6dc812581a",
        "colab": {
          "base_uri": "https://localhost:8080/",
          "height": 424
        }
      },
      "execution_count": null,
      "outputs": [
        {
          "output_type": "execute_result",
          "data": {
            "text/plain": [
              "        Gender       Age  Occupation  City_Category  \\\n",
              "0          0.0  0.000000        0.50            0.0   \n",
              "1          0.0  0.000000        0.50            0.0   \n",
              "2          0.0  0.000000        0.50            0.0   \n",
              "3          0.0  0.000000        0.50            0.0   \n",
              "4          1.0  1.000000        0.80            1.0   \n",
              "...        ...       ...         ...            ...   \n",
              "550063     1.0  0.833333        0.65            0.5   \n",
              "550064     0.0  0.333333        0.05            1.0   \n",
              "550065     0.0  0.333333        0.75            0.5   \n",
              "550066     0.0  1.000000        0.05            1.0   \n",
              "550067     0.0  0.666667        0.00            0.5   \n",
              "\n",
              "        Stay_In_Current_City_Years  Marital_Status  Product_Category_1  \\\n",
              "0                             0.50             0.0            0.105263   \n",
              "1                             0.50             0.0            0.000000   \n",
              "2                             0.50             0.0            0.578947   \n",
              "3                             0.50             0.0            0.578947   \n",
              "4                             1.00             0.0            0.368421   \n",
              "...                            ...             ...                 ...   \n",
              "550063                        0.25             1.0            1.000000   \n",
              "550064                        0.75             0.0            1.000000   \n",
              "550065                        1.00             1.0            1.000000   \n",
              "550066                        0.50             0.0            1.000000   \n",
              "550067                        1.00             1.0            1.000000   \n",
              "\n",
              "        Product_Category_2  Product_Category_3  Purchase  \n",
              "0                 0.000000            0.000000  0.348992  \n",
              "1                 0.333333            0.777778  0.634181  \n",
              "2                 0.000000            0.000000  0.058875  \n",
              "3                 0.777778            0.000000  0.043634  \n",
              "4                 0.000000            0.000000  0.332248  \n",
              "...                    ...                 ...       ...  \n",
              "550063            0.000000            0.000000  0.014865  \n",
              "550064            0.000000            0.000000  0.014990  \n",
              "550065            0.000000            0.000000  0.005219  \n",
              "550066            0.000000            0.000000  0.014740  \n",
              "550067            0.000000            0.000000  0.019959  \n",
              "\n",
              "[550068 rows x 10 columns]"
            ],
            "text/html": [
              "\n",
              "  <div id=\"df-f2472c05-108e-4b29-8ae2-7b1baa828a0f\">\n",
              "    <div class=\"colab-df-container\">\n",
              "      <div>\n",
              "<style scoped>\n",
              "    .dataframe tbody tr th:only-of-type {\n",
              "        vertical-align: middle;\n",
              "    }\n",
              "\n",
              "    .dataframe tbody tr th {\n",
              "        vertical-align: top;\n",
              "    }\n",
              "\n",
              "    .dataframe thead th {\n",
              "        text-align: right;\n",
              "    }\n",
              "</style>\n",
              "<table border=\"1\" class=\"dataframe\">\n",
              "  <thead>\n",
              "    <tr style=\"text-align: right;\">\n",
              "      <th></th>\n",
              "      <th>Gender</th>\n",
              "      <th>Age</th>\n",
              "      <th>Occupation</th>\n",
              "      <th>City_Category</th>\n",
              "      <th>Stay_In_Current_City_Years</th>\n",
              "      <th>Marital_Status</th>\n",
              "      <th>Product_Category_1</th>\n",
              "      <th>Product_Category_2</th>\n",
              "      <th>Product_Category_3</th>\n",
              "      <th>Purchase</th>\n",
              "    </tr>\n",
              "  </thead>\n",
              "  <tbody>\n",
              "    <tr>\n",
              "      <th>0</th>\n",
              "      <td>0.0</td>\n",
              "      <td>0.000000</td>\n",
              "      <td>0.50</td>\n",
              "      <td>0.0</td>\n",
              "      <td>0.50</td>\n",
              "      <td>0.0</td>\n",
              "      <td>0.105263</td>\n",
              "      <td>0.000000</td>\n",
              "      <td>0.000000</td>\n",
              "      <td>0.348992</td>\n",
              "    </tr>\n",
              "    <tr>\n",
              "      <th>1</th>\n",
              "      <td>0.0</td>\n",
              "      <td>0.000000</td>\n",
              "      <td>0.50</td>\n",
              "      <td>0.0</td>\n",
              "      <td>0.50</td>\n",
              "      <td>0.0</td>\n",
              "      <td>0.000000</td>\n",
              "      <td>0.333333</td>\n",
              "      <td>0.777778</td>\n",
              "      <td>0.634181</td>\n",
              "    </tr>\n",
              "    <tr>\n",
              "      <th>2</th>\n",
              "      <td>0.0</td>\n",
              "      <td>0.000000</td>\n",
              "      <td>0.50</td>\n",
              "      <td>0.0</td>\n",
              "      <td>0.50</td>\n",
              "      <td>0.0</td>\n",
              "      <td>0.578947</td>\n",
              "      <td>0.000000</td>\n",
              "      <td>0.000000</td>\n",
              "      <td>0.058875</td>\n",
              "    </tr>\n",
              "    <tr>\n",
              "      <th>3</th>\n",
              "      <td>0.0</td>\n",
              "      <td>0.000000</td>\n",
              "      <td>0.50</td>\n",
              "      <td>0.0</td>\n",
              "      <td>0.50</td>\n",
              "      <td>0.0</td>\n",
              "      <td>0.578947</td>\n",
              "      <td>0.777778</td>\n",
              "      <td>0.000000</td>\n",
              "      <td>0.043634</td>\n",
              "    </tr>\n",
              "    <tr>\n",
              "      <th>4</th>\n",
              "      <td>1.0</td>\n",
              "      <td>1.000000</td>\n",
              "      <td>0.80</td>\n",
              "      <td>1.0</td>\n",
              "      <td>1.00</td>\n",
              "      <td>0.0</td>\n",
              "      <td>0.368421</td>\n",
              "      <td>0.000000</td>\n",
              "      <td>0.000000</td>\n",
              "      <td>0.332248</td>\n",
              "    </tr>\n",
              "    <tr>\n",
              "      <th>...</th>\n",
              "      <td>...</td>\n",
              "      <td>...</td>\n",
              "      <td>...</td>\n",
              "      <td>...</td>\n",
              "      <td>...</td>\n",
              "      <td>...</td>\n",
              "      <td>...</td>\n",
              "      <td>...</td>\n",
              "      <td>...</td>\n",
              "      <td>...</td>\n",
              "    </tr>\n",
              "    <tr>\n",
              "      <th>550063</th>\n",
              "      <td>1.0</td>\n",
              "      <td>0.833333</td>\n",
              "      <td>0.65</td>\n",
              "      <td>0.5</td>\n",
              "      <td>0.25</td>\n",
              "      <td>1.0</td>\n",
              "      <td>1.000000</td>\n",
              "      <td>0.000000</td>\n",
              "      <td>0.000000</td>\n",
              "      <td>0.014865</td>\n",
              "    </tr>\n",
              "    <tr>\n",
              "      <th>550064</th>\n",
              "      <td>0.0</td>\n",
              "      <td>0.333333</td>\n",
              "      <td>0.05</td>\n",
              "      <td>1.0</td>\n",
              "      <td>0.75</td>\n",
              "      <td>0.0</td>\n",
              "      <td>1.000000</td>\n",
              "      <td>0.000000</td>\n",
              "      <td>0.000000</td>\n",
              "      <td>0.014990</td>\n",
              "    </tr>\n",
              "    <tr>\n",
              "      <th>550065</th>\n",
              "      <td>0.0</td>\n",
              "      <td>0.333333</td>\n",
              "      <td>0.75</td>\n",
              "      <td>0.5</td>\n",
              "      <td>1.00</td>\n",
              "      <td>1.0</td>\n",
              "      <td>1.000000</td>\n",
              "      <td>0.000000</td>\n",
              "      <td>0.000000</td>\n",
              "      <td>0.005219</td>\n",
              "    </tr>\n",
              "    <tr>\n",
              "      <th>550066</th>\n",
              "      <td>0.0</td>\n",
              "      <td>1.000000</td>\n",
              "      <td>0.05</td>\n",
              "      <td>1.0</td>\n",
              "      <td>0.50</td>\n",
              "      <td>0.0</td>\n",
              "      <td>1.000000</td>\n",
              "      <td>0.000000</td>\n",
              "      <td>0.000000</td>\n",
              "      <td>0.014740</td>\n",
              "    </tr>\n",
              "    <tr>\n",
              "      <th>550067</th>\n",
              "      <td>0.0</td>\n",
              "      <td>0.666667</td>\n",
              "      <td>0.00</td>\n",
              "      <td>0.5</td>\n",
              "      <td>1.00</td>\n",
              "      <td>1.0</td>\n",
              "      <td>1.000000</td>\n",
              "      <td>0.000000</td>\n",
              "      <td>0.000000</td>\n",
              "      <td>0.019959</td>\n",
              "    </tr>\n",
              "  </tbody>\n",
              "</table>\n",
              "<p>550068 rows × 10 columns</p>\n",
              "</div>\n",
              "      <button class=\"colab-df-convert\" onclick=\"convertToInteractive('df-f2472c05-108e-4b29-8ae2-7b1baa828a0f')\"\n",
              "              title=\"Convert this dataframe to an interactive table.\"\n",
              "              style=\"display:none;\">\n",
              "        \n",
              "  <svg xmlns=\"http://www.w3.org/2000/svg\" height=\"24px\"viewBox=\"0 0 24 24\"\n",
              "       width=\"24px\">\n",
              "    <path d=\"M0 0h24v24H0V0z\" fill=\"none\"/>\n",
              "    <path d=\"M18.56 5.44l.94 2.06.94-2.06 2.06-.94-2.06-.94-.94-2.06-.94 2.06-2.06.94zm-11 1L8.5 8.5l.94-2.06 2.06-.94-2.06-.94L8.5 2.5l-.94 2.06-2.06.94zm10 10l.94 2.06.94-2.06 2.06-.94-2.06-.94-.94-2.06-.94 2.06-2.06.94z\"/><path d=\"M17.41 7.96l-1.37-1.37c-.4-.4-.92-.59-1.43-.59-.52 0-1.04.2-1.43.59L10.3 9.45l-7.72 7.72c-.78.78-.78 2.05 0 2.83L4 21.41c.39.39.9.59 1.41.59.51 0 1.02-.2 1.41-.59l7.78-7.78 2.81-2.81c.8-.78.8-2.07 0-2.86zM5.41 20L4 18.59l7.72-7.72 1.47 1.35L5.41 20z\"/>\n",
              "  </svg>\n",
              "      </button>\n",
              "      \n",
              "  <style>\n",
              "    .colab-df-container {\n",
              "      display:flex;\n",
              "      flex-wrap:wrap;\n",
              "      gap: 12px;\n",
              "    }\n",
              "\n",
              "    .colab-df-convert {\n",
              "      background-color: #E8F0FE;\n",
              "      border: none;\n",
              "      border-radius: 50%;\n",
              "      cursor: pointer;\n",
              "      display: none;\n",
              "      fill: #1967D2;\n",
              "      height: 32px;\n",
              "      padding: 0 0 0 0;\n",
              "      width: 32px;\n",
              "    }\n",
              "\n",
              "    .colab-df-convert:hover {\n",
              "      background-color: #E2EBFA;\n",
              "      box-shadow: 0px 1px 2px rgba(60, 64, 67, 0.3), 0px 1px 3px 1px rgba(60, 64, 67, 0.15);\n",
              "      fill: #174EA6;\n",
              "    }\n",
              "\n",
              "    [theme=dark] .colab-df-convert {\n",
              "      background-color: #3B4455;\n",
              "      fill: #D2E3FC;\n",
              "    }\n",
              "\n",
              "    [theme=dark] .colab-df-convert:hover {\n",
              "      background-color: #434B5C;\n",
              "      box-shadow: 0px 1px 3px 1px rgba(0, 0, 0, 0.15);\n",
              "      filter: drop-shadow(0px 1px 2px rgba(0, 0, 0, 0.3));\n",
              "      fill: #FFFFFF;\n",
              "    }\n",
              "  </style>\n",
              "\n",
              "      <script>\n",
              "        const buttonEl =\n",
              "          document.querySelector('#df-f2472c05-108e-4b29-8ae2-7b1baa828a0f button.colab-df-convert');\n",
              "        buttonEl.style.display =\n",
              "          google.colab.kernel.accessAllowed ? 'block' : 'none';\n",
              "\n",
              "        async function convertToInteractive(key) {\n",
              "          const element = document.querySelector('#df-f2472c05-108e-4b29-8ae2-7b1baa828a0f');\n",
              "          const dataTable =\n",
              "            await google.colab.kernel.invokeFunction('convertToInteractive',\n",
              "                                                     [key], {});\n",
              "          if (!dataTable) return;\n",
              "\n",
              "          const docLinkHtml = 'Like what you see? Visit the ' +\n",
              "            '<a target=\"_blank\" href=https://colab.research.google.com/notebooks/data_table.ipynb>data table notebook</a>'\n",
              "            + ' to learn more about interactive tables.';\n",
              "          element.innerHTML = '';\n",
              "          dataTable['output_type'] = 'display_data';\n",
              "          await google.colab.output.renderOutput(dataTable, element);\n",
              "          const docLink = document.createElement('div');\n",
              "          docLink.innerHTML = docLinkHtml;\n",
              "          element.appendChild(docLink);\n",
              "        }\n",
              "      </script>\n",
              "    </div>\n",
              "  </div>\n",
              "  "
            ]
          },
          "metadata": {},
          "execution_count": 28
        }
      ]
    },
    {
      "cell_type": "code",
      "source": [
        "ml1 = smf.ols('Purchase ~ Gender + Age + Occupation + City_Category + Stay_In_Current_City_Years + Marital_Status + Product_Category_1 + Product_Category_2 + Product_Category_3', data = mlr_model_df).fit() # regression model\n",
        "ml1.summary()\n"
      ],
      "metadata": {
        "id": "zil5-8EPsgWm",
        "outputId": "4fc98a9f-32b8-441a-def1-203b03304cc3",
        "colab": {
          "base_uri": "https://localhost:8080/",
          "height": 622
        }
      },
      "execution_count": null,
      "outputs": [
        {
          "output_type": "execute_result",
          "data": {
            "text/plain": [
              "<class 'statsmodels.iolib.summary.Summary'>\n",
              "\"\"\"\n",
              "                            OLS Regression Results                            \n",
              "==============================================================================\n",
              "Dep. Variable:               Purchase   R-squared:                       0.152\n",
              "Model:                            OLS   Adj. R-squared:                  0.152\n",
              "Method:                 Least Squares   F-statistic:                 1.097e+04\n",
              "Date:                Mon, 15 Aug 2022   Prob (F-statistic):               0.00\n",
              "Time:                        18:58:41   Log-Likelihood:             1.2404e+05\n",
              "No. Observations:              550068   AIC:                        -2.481e+05\n",
              "Df Residuals:                  550058   BIC:                        -2.480e+05\n",
              "Df Model:                           9                                         \n",
              "Covariance Type:            nonrobust                                         \n",
              "==============================================================================================\n",
              "                                 coef    std err          t      P>|t|      [0.025      0.975]\n",
              "----------------------------------------------------------------------------------------------\n",
              "Intercept                      0.3822      0.001    379.835      0.000       0.380       0.384\n",
              "Gender                         0.0199      0.001     32.622      0.000       0.019       0.021\n",
              "Age                            0.0266      0.001     21.650      0.000       0.024       0.029\n",
              "Occupation                     0.0048      0.001      5.924      0.000       0.003       0.006\n",
              "City_Category                  0.0265      0.001     38.276      0.000       0.025       0.028\n",
              "Stay_In_Current_City_Years     0.0014      0.001      1.767      0.077      -0.000       0.003\n",
              "Marital_Status                -0.0020      0.001     -3.631      0.000      -0.003      -0.001\n",
              "Product_Category_1            -0.2761      0.001   -202.060      0.000      -0.279      -0.273\n",
              "Product_Category_2             0.0094      0.001     12.433      0.000       0.008       0.011\n",
              "Product_Category_3             0.1080      0.001    132.401      0.000       0.106       0.110\n",
              "==============================================================================\n",
              "Omnibus:                    57263.559   Durbin-Watson:                   1.726\n",
              "Prob(Omnibus):                  0.000   Jarque-Bera (JB):            79655.860\n",
              "Skew:                           0.833   Prob(JB):                         0.00\n",
              "Kurtosis:                       3.836   Cond. No.                         9.93\n",
              "==============================================================================\n",
              "\n",
              "Warnings:\n",
              "[1] Standard Errors assume that the covariance matrix of the errors is correctly specified.\n",
              "\"\"\""
            ],
            "text/html": [
              "<table class=\"simpletable\">\n",
              "<caption>OLS Regression Results</caption>\n",
              "<tr>\n",
              "  <th>Dep. Variable:</th>        <td>Purchase</td>     <th>  R-squared:         </th>  <td>   0.152</td> \n",
              "</tr>\n",
              "<tr>\n",
              "  <th>Model:</th>                   <td>OLS</td>       <th>  Adj. R-squared:    </th>  <td>   0.152</td> \n",
              "</tr>\n",
              "<tr>\n",
              "  <th>Method:</th>             <td>Least Squares</td>  <th>  F-statistic:       </th>  <td>1.097e+04</td>\n",
              "</tr>\n",
              "<tr>\n",
              "  <th>Date:</th>             <td>Mon, 15 Aug 2022</td> <th>  Prob (F-statistic):</th>   <td>  0.00</td>  \n",
              "</tr>\n",
              "<tr>\n",
              "  <th>Time:</th>                 <td>18:58:41</td>     <th>  Log-Likelihood:    </th> <td>1.2404e+05</td>\n",
              "</tr>\n",
              "<tr>\n",
              "  <th>No. Observations:</th>      <td>550068</td>      <th>  AIC:               </th> <td>-2.481e+05</td>\n",
              "</tr>\n",
              "<tr>\n",
              "  <th>Df Residuals:</th>          <td>550058</td>      <th>  BIC:               </th> <td>-2.480e+05</td>\n",
              "</tr>\n",
              "<tr>\n",
              "  <th>Df Model:</th>              <td>     9</td>      <th>                     </th>      <td> </td>    \n",
              "</tr>\n",
              "<tr>\n",
              "  <th>Covariance Type:</th>      <td>nonrobust</td>    <th>                     </th>      <td> </td>    \n",
              "</tr>\n",
              "</table>\n",
              "<table class=\"simpletable\">\n",
              "<tr>\n",
              "               <td></td>                 <th>coef</th>     <th>std err</th>      <th>t</th>      <th>P>|t|</th>  <th>[0.025</th>    <th>0.975]</th>  \n",
              "</tr>\n",
              "<tr>\n",
              "  <th>Intercept</th>                  <td>    0.3822</td> <td>    0.001</td> <td>  379.835</td> <td> 0.000</td> <td>    0.380</td> <td>    0.384</td>\n",
              "</tr>\n",
              "<tr>\n",
              "  <th>Gender</th>                     <td>    0.0199</td> <td>    0.001</td> <td>   32.622</td> <td> 0.000</td> <td>    0.019</td> <td>    0.021</td>\n",
              "</tr>\n",
              "<tr>\n",
              "  <th>Age</th>                        <td>    0.0266</td> <td>    0.001</td> <td>   21.650</td> <td> 0.000</td> <td>    0.024</td> <td>    0.029</td>\n",
              "</tr>\n",
              "<tr>\n",
              "  <th>Occupation</th>                 <td>    0.0048</td> <td>    0.001</td> <td>    5.924</td> <td> 0.000</td> <td>    0.003</td> <td>    0.006</td>\n",
              "</tr>\n",
              "<tr>\n",
              "  <th>City_Category</th>              <td>    0.0265</td> <td>    0.001</td> <td>   38.276</td> <td> 0.000</td> <td>    0.025</td> <td>    0.028</td>\n",
              "</tr>\n",
              "<tr>\n",
              "  <th>Stay_In_Current_City_Years</th> <td>    0.0014</td> <td>    0.001</td> <td>    1.767</td> <td> 0.077</td> <td>   -0.000</td> <td>    0.003</td>\n",
              "</tr>\n",
              "<tr>\n",
              "  <th>Marital_Status</th>             <td>   -0.0020</td> <td>    0.001</td> <td>   -3.631</td> <td> 0.000</td> <td>   -0.003</td> <td>   -0.001</td>\n",
              "</tr>\n",
              "<tr>\n",
              "  <th>Product_Category_1</th>         <td>   -0.2761</td> <td>    0.001</td> <td> -202.060</td> <td> 0.000</td> <td>   -0.279</td> <td>   -0.273</td>\n",
              "</tr>\n",
              "<tr>\n",
              "  <th>Product_Category_2</th>         <td>    0.0094</td> <td>    0.001</td> <td>   12.433</td> <td> 0.000</td> <td>    0.008</td> <td>    0.011</td>\n",
              "</tr>\n",
              "<tr>\n",
              "  <th>Product_Category_3</th>         <td>    0.1080</td> <td>    0.001</td> <td>  132.401</td> <td> 0.000</td> <td>    0.106</td> <td>    0.110</td>\n",
              "</tr>\n",
              "</table>\n",
              "<table class=\"simpletable\">\n",
              "<tr>\n",
              "  <th>Omnibus:</th>       <td>57263.559</td> <th>  Durbin-Watson:     </th> <td>   1.726</td> \n",
              "</tr>\n",
              "<tr>\n",
              "  <th>Prob(Omnibus):</th>  <td> 0.000</td>   <th>  Jarque-Bera (JB):  </th> <td>79655.860</td>\n",
              "</tr>\n",
              "<tr>\n",
              "  <th>Skew:</th>           <td> 0.833</td>   <th>  Prob(JB):          </th> <td>    0.00</td> \n",
              "</tr>\n",
              "<tr>\n",
              "  <th>Kurtosis:</th>       <td> 3.836</td>   <th>  Cond. No.          </th> <td>    9.93</td> \n",
              "</tr>\n",
              "</table><br/><br/>Warnings:<br/>[1] Standard Errors assume that the covariance matrix of the errors is correctly specified."
            ]
          },
          "metadata": {},
          "execution_count": 29
        }
      ]
    },
    {
      "cell_type": "markdown",
      "source": [
        "P-Value for Stay_In_Current_City_Years is more than 0.05"
      ],
      "metadata": {
        "id": "xojARWcQvxi9"
      }
    },
    {
      "cell_type": "code",
      "source": [
        "# Check for Colinearity to decide to remove a variable using VIF\n",
        "# Assumption: VIF > 10 = colinearity\n",
        "# calculating VIF's values of independent variables\n",
        "rsq_gender = smf.ols('Gender ~  Age + Occupation + City_Category + Stay_In_Current_City_Years + Marital_Status + Product_Category_1 + Product_Category_2 + Product_Category_3', data = mlr_model_df).fit().rsquared  \n",
        "vif_gender = 1/(1 - rsq_gender) \n",
        "\n",
        "rsq_age = smf.ols('Age ~  Gender + Occupation + City_Category + Stay_In_Current_City_Years + Marital_Status + Product_Category_1 + Product_Category_2 + Product_Category_3', data = mlr_model_df).fit().rsquared  \n",
        "vif_age = 1/(1 - rsq_age)\n",
        "\n",
        "rsq_occupation = smf.ols('Occupation ~  Age + Gender + City_Category + Stay_In_Current_City_Years + Marital_Status + Product_Category_1 + Product_Category_2 + Product_Category_3', data = mlr_model_df).fit().rsquared  \n",
        "vif_occupation = 1/(1 - rsq_occupation) \n",
        "\n",
        "rsq_cc = smf.ols('City_Category ~  Age + Occupation + Gender + Stay_In_Current_City_Years + Marital_Status + Product_Category_1 + Product_Category_2 + Product_Category_3', data = mlr_model_df).fit().rsquared  \n",
        "vif_cc = 1/(1 - rsq_cc) \n",
        "\n",
        "rsq_siccy = smf.ols('Stay_In_Current_City_Years ~  Gender + Age + Occupation + City_Category + Marital_Status + Product_Category_1 + Product_Category_2 + Product_Category_3', data = mlr_model_df).fit().rsquared  \n",
        "vif_siccy = 1/(1 - rsq_siccy)\n",
        "\n",
        "rsq_ms = smf.ols('Marital_Status ~  Age + Gender + Occupation + City_Category + Stay_In_Current_City_Years + Product_Category_1 + Product_Category_2 + Product_Category_3', data = mlr_model_df).fit().rsquared  \n",
        "vif_ms = 1/(1 - rsq_ms)\n",
        "\n",
        "rsq_pc1 = smf.ols('Product_Category_1 ~  Age + Occupation + Gender + City_Category + Stay_In_Current_City_Years + Marital_Status + Product_Category_2 + Product_Category_3', data = mlr_model_df).fit().rsquared  \n",
        "vif_pc1 = 1/(1 - rsq_pc1) \n",
        "\n",
        "rsq_pc2 = smf.ols('Product_Category_2 ~  Gender + Age + Occupation + City_Category + Stay_In_Current_City_Years + Marital_Status + Product_Category_1 + Product_Category_3', data = mlr_model_df).fit().rsquared  \n",
        "vif_pc2 = 1/(1 - rsq_pc2)\n",
        "\n",
        "rsq_pc3 = smf.ols('Product_Category_3 ~  Age + Gender + Occupation + City_Category + Stay_In_Current_City_Years + Marital_Status + Product_Category_1 + Product_Category_2', data = mlr_model_df).fit().rsquared  \n",
        "vif_pc3 = 1/(1 - rsq_pc3)\n",
        "\n",
        "print('vif_gender',vif_gender,'vif_age',vif_age,'vif_occupation',vif_occupation)\n",
        "print('vif_cc',vif_cc,'vif_siccy',vif_siccy,'vif_ms',vif_ms)\n",
        "print('vif_pc1',vif_pc1,'vif_pc2',vif_pc2,'vif_pc3',vif_pc3)"
      ],
      "metadata": {
        "id": "UrGngg7MwCpX",
        "outputId": "38861b6d-35bc-4b1e-fae5-ad017dc80aca",
        "colab": {
          "base_uri": "https://localhost:8080/"
        }
      },
      "execution_count": null,
      "outputs": [
        {
          "output_type": "stream",
          "name": "stdout",
          "text": [
            "vif_gender 1.0168815042735742 vif_age 1.1360670886551578 vif_occupation 1.0242614730441164\n",
            "vif_cc 1.017947433968261 vif_siccy 1.0016293962798941 vif_ms 1.107968827999873\n",
            "vif_pc1 1.1822948608980552 vif_pc2 1.0108877037649215 vif_pc3 1.1830277018939737\n"
          ]
        }
      ]
    },
    {
      "cell_type": "code",
      "source": [
        "final_mlr_model = smf.ols('Purchase ~ Gender + Age + Occupation + City_Category + Stay_In_Current_City_Years + Marital_Status + Product_Category_1 + Product_Category_2 + Product_Category_3', data = mlr_model_df).fit()\n",
        "final_mlr_model.summary() "
      ],
      "metadata": {
        "id": "IBdWKnnMzxWR",
        "outputId": "c14264dc-974b-4bc1-f719-097ea5cc2941",
        "colab": {
          "base_uri": "https://localhost:8080/",
          "height": 622
        }
      },
      "execution_count": null,
      "outputs": [
        {
          "output_type": "execute_result",
          "data": {
            "text/plain": [
              "<class 'statsmodels.iolib.summary.Summary'>\n",
              "\"\"\"\n",
              "                            OLS Regression Results                            \n",
              "==============================================================================\n",
              "Dep. Variable:               Purchase   R-squared:                       0.152\n",
              "Model:                            OLS   Adj. R-squared:                  0.152\n",
              "Method:                 Least Squares   F-statistic:                 1.097e+04\n",
              "Date:                Mon, 15 Aug 2022   Prob (F-statistic):               0.00\n",
              "Time:                        18:58:53   Log-Likelihood:             1.2404e+05\n",
              "No. Observations:              550068   AIC:                        -2.481e+05\n",
              "Df Residuals:                  550058   BIC:                        -2.480e+05\n",
              "Df Model:                           9                                         \n",
              "Covariance Type:            nonrobust                                         \n",
              "==============================================================================================\n",
              "                                 coef    std err          t      P>|t|      [0.025      0.975]\n",
              "----------------------------------------------------------------------------------------------\n",
              "Intercept                      0.3822      0.001    379.835      0.000       0.380       0.384\n",
              "Gender                         0.0199      0.001     32.622      0.000       0.019       0.021\n",
              "Age                            0.0266      0.001     21.650      0.000       0.024       0.029\n",
              "Occupation                     0.0048      0.001      5.924      0.000       0.003       0.006\n",
              "City_Category                  0.0265      0.001     38.276      0.000       0.025       0.028\n",
              "Stay_In_Current_City_Years     0.0014      0.001      1.767      0.077      -0.000       0.003\n",
              "Marital_Status                -0.0020      0.001     -3.631      0.000      -0.003      -0.001\n",
              "Product_Category_1            -0.2761      0.001   -202.060      0.000      -0.279      -0.273\n",
              "Product_Category_2             0.0094      0.001     12.433      0.000       0.008       0.011\n",
              "Product_Category_3             0.1080      0.001    132.401      0.000       0.106       0.110\n",
              "==============================================================================\n",
              "Omnibus:                    57263.559   Durbin-Watson:                   1.726\n",
              "Prob(Omnibus):                  0.000   Jarque-Bera (JB):            79655.860\n",
              "Skew:                           0.833   Prob(JB):                         0.00\n",
              "Kurtosis:                       3.836   Cond. No.                         9.93\n",
              "==============================================================================\n",
              "\n",
              "Warnings:\n",
              "[1] Standard Errors assume that the covariance matrix of the errors is correctly specified.\n",
              "\"\"\""
            ],
            "text/html": [
              "<table class=\"simpletable\">\n",
              "<caption>OLS Regression Results</caption>\n",
              "<tr>\n",
              "  <th>Dep. Variable:</th>        <td>Purchase</td>     <th>  R-squared:         </th>  <td>   0.152</td> \n",
              "</tr>\n",
              "<tr>\n",
              "  <th>Model:</th>                   <td>OLS</td>       <th>  Adj. R-squared:    </th>  <td>   0.152</td> \n",
              "</tr>\n",
              "<tr>\n",
              "  <th>Method:</th>             <td>Least Squares</td>  <th>  F-statistic:       </th>  <td>1.097e+04</td>\n",
              "</tr>\n",
              "<tr>\n",
              "  <th>Date:</th>             <td>Mon, 15 Aug 2022</td> <th>  Prob (F-statistic):</th>   <td>  0.00</td>  \n",
              "</tr>\n",
              "<tr>\n",
              "  <th>Time:</th>                 <td>18:58:53</td>     <th>  Log-Likelihood:    </th> <td>1.2404e+05</td>\n",
              "</tr>\n",
              "<tr>\n",
              "  <th>No. Observations:</th>      <td>550068</td>      <th>  AIC:               </th> <td>-2.481e+05</td>\n",
              "</tr>\n",
              "<tr>\n",
              "  <th>Df Residuals:</th>          <td>550058</td>      <th>  BIC:               </th> <td>-2.480e+05</td>\n",
              "</tr>\n",
              "<tr>\n",
              "  <th>Df Model:</th>              <td>     9</td>      <th>                     </th>      <td> </td>    \n",
              "</tr>\n",
              "<tr>\n",
              "  <th>Covariance Type:</th>      <td>nonrobust</td>    <th>                     </th>      <td> </td>    \n",
              "</tr>\n",
              "</table>\n",
              "<table class=\"simpletable\">\n",
              "<tr>\n",
              "               <td></td>                 <th>coef</th>     <th>std err</th>      <th>t</th>      <th>P>|t|</th>  <th>[0.025</th>    <th>0.975]</th>  \n",
              "</tr>\n",
              "<tr>\n",
              "  <th>Intercept</th>                  <td>    0.3822</td> <td>    0.001</td> <td>  379.835</td> <td> 0.000</td> <td>    0.380</td> <td>    0.384</td>\n",
              "</tr>\n",
              "<tr>\n",
              "  <th>Gender</th>                     <td>    0.0199</td> <td>    0.001</td> <td>   32.622</td> <td> 0.000</td> <td>    0.019</td> <td>    0.021</td>\n",
              "</tr>\n",
              "<tr>\n",
              "  <th>Age</th>                        <td>    0.0266</td> <td>    0.001</td> <td>   21.650</td> <td> 0.000</td> <td>    0.024</td> <td>    0.029</td>\n",
              "</tr>\n",
              "<tr>\n",
              "  <th>Occupation</th>                 <td>    0.0048</td> <td>    0.001</td> <td>    5.924</td> <td> 0.000</td> <td>    0.003</td> <td>    0.006</td>\n",
              "</tr>\n",
              "<tr>\n",
              "  <th>City_Category</th>              <td>    0.0265</td> <td>    0.001</td> <td>   38.276</td> <td> 0.000</td> <td>    0.025</td> <td>    0.028</td>\n",
              "</tr>\n",
              "<tr>\n",
              "  <th>Stay_In_Current_City_Years</th> <td>    0.0014</td> <td>    0.001</td> <td>    1.767</td> <td> 0.077</td> <td>   -0.000</td> <td>    0.003</td>\n",
              "</tr>\n",
              "<tr>\n",
              "  <th>Marital_Status</th>             <td>   -0.0020</td> <td>    0.001</td> <td>   -3.631</td> <td> 0.000</td> <td>   -0.003</td> <td>   -0.001</td>\n",
              "</tr>\n",
              "<tr>\n",
              "  <th>Product_Category_1</th>         <td>   -0.2761</td> <td>    0.001</td> <td> -202.060</td> <td> 0.000</td> <td>   -0.279</td> <td>   -0.273</td>\n",
              "</tr>\n",
              "<tr>\n",
              "  <th>Product_Category_2</th>         <td>    0.0094</td> <td>    0.001</td> <td>   12.433</td> <td> 0.000</td> <td>    0.008</td> <td>    0.011</td>\n",
              "</tr>\n",
              "<tr>\n",
              "  <th>Product_Category_3</th>         <td>    0.1080</td> <td>    0.001</td> <td>  132.401</td> <td> 0.000</td> <td>    0.106</td> <td>    0.110</td>\n",
              "</tr>\n",
              "</table>\n",
              "<table class=\"simpletable\">\n",
              "<tr>\n",
              "  <th>Omnibus:</th>       <td>57263.559</td> <th>  Durbin-Watson:     </th> <td>   1.726</td> \n",
              "</tr>\n",
              "<tr>\n",
              "  <th>Prob(Omnibus):</th>  <td> 0.000</td>   <th>  Jarque-Bera (JB):  </th> <td>79655.860</td>\n",
              "</tr>\n",
              "<tr>\n",
              "  <th>Skew:</th>           <td> 0.833</td>   <th>  Prob(JB):          </th> <td>    0.00</td> \n",
              "</tr>\n",
              "<tr>\n",
              "  <th>Kurtosis:</th>       <td> 3.836</td>   <th>  Cond. No.          </th> <td>    9.93</td> \n",
              "</tr>\n",
              "</table><br/><br/>Warnings:<br/>[1] Standard Errors assume that the covariance matrix of the errors is correctly specified."
            ]
          },
          "metadata": {},
          "execution_count": 31
        }
      ]
    },
    {
      "cell_type": "code",
      "source": [
        "pred = final_mlr_model.predict(mlr_model_df)"
      ],
      "metadata": {
        "id": "Ripp5tKm0DM3"
      },
      "execution_count": null,
      "outputs": []
    },
    {
      "cell_type": "code",
      "source": [
        "res = final_mlr_model.resid\n",
        "sm.qqplot(res)\n",
        "plt.show()"
      ],
      "metadata": {
        "id": "VE3JlK1O0PuA",
        "outputId": "b73aa761-4dab-4983-88fc-9d0db7b5405c",
        "colab": {
          "base_uri": "https://localhost:8080/",
          "height": 283
        }
      },
      "execution_count": null,
      "outputs": [
        {
          "output_type": "display_data",
          "data": {
            "text/plain": [
              "<Figure size 432x288 with 1 Axes>"
            ],
            "image/png": "[encoded data removed]"
          },
          "metadata": {
            "needs_background": "light"
          }
        }
      ]
    },
    {
      "cell_type": "code",
      "source": [
        "stats.probplot(res, dist = \"norm\", plot = pylab)\n",
        "plt.show()\n"
      ],
      "metadata": {
        "id": "XmsGmMQR0Tso",
        "outputId": "304d3124-38ce-430a-bd74-b4ab020d7383",
        "colab": {
          "base_uri": "https://localhost:8080/",
          "height": 295
        }
      },
      "execution_count": null,
      "outputs": [
        {
          "output_type": "display_data",
          "data": {
            "text/plain": [
              "<Figure size 432x288 with 1 Axes>"
            ],
            "image/png": "[encoded data removed]"
          },
          "metadata": {
            "needs_background": "light"
          }
        }
      ]
    },
    {
      "cell_type": "code",
      "source": [
        "mlr_df_train, mlr_df_test = train_test_split(mlr_model_df, shuffle=True,test_size = 0.2)"
      ],
      "metadata": {
        "id": "gxDbb3t60hQY"
      },
      "execution_count": null,
      "outputs": []
    },
    {
      "cell_type": "code",
      "source": [
        "mlr_model_train = smf.ols('Purchase ~ Gender + Age + Occupation + City_Category + Stay_In_Current_City_Years + Marital_Status + Product_Category_1 + Product_Category_2 + Product_Category_3', data = mlr_df_train).fit()\n"
      ],
      "metadata": {
        "id": "8RrqH8GT12mv"
      },
      "execution_count": null,
      "outputs": []
    },
    {
      "cell_type": "code",
      "source": [
        "mlr_test_pred = mlr_model_train.predict(mlr_df_test)\n"
      ],
      "metadata": {
        "id": "G6rJxsYw2A5I"
      },
      "execution_count": null,
      "outputs": []
    },
    {
      "cell_type": "code",
      "source": [
        "test_resid =mlr_df_test.Purchase-mlr_test_pred\n",
        "# RMSE value for test data \n",
        "test_rmse = np.sqrt(np.mean(test_resid * test_resid))\n",
        "test_rmse"
      ],
      "metadata": {
        "id": "Gdps5FrD2GSQ",
        "outputId": "6fb78f92-700d-41d7-e908-6693db56d989",
        "colab": {
          "base_uri": "https://localhost:8080/"
        }
      },
      "execution_count": null,
      "outputs": [
        {
          "output_type": "execute_result",
          "data": {
            "text/plain": [
              "0.19309234667333955"
            ]
          },
          "metadata": {},
          "execution_count": 38
        }
      ]
    },
    {
      "cell_type": "code",
      "source": [
        "mlr_train_pred = mlr_model_train.predict(mlr_df_train)"
      ],
      "metadata": {
        "id": "MBomwSyu2P4I"
      },
      "execution_count": null,
      "outputs": []
    },
    {
      "cell_type": "code",
      "source": [
        "train_resid  = mlr_train_pred - mlr_df_train.Purchase\n",
        "# RMSE value for train data \n",
        "train_rmse = np.sqrt(np.mean(train_resid * train_resid))\n",
        "train_rmse"
      ],
      "metadata": {
        "id": "4U_dD9Ju2Z3Y",
        "outputId": "afa24de7-1ddb-428d-c90d-325e2af7381d",
        "colab": {
          "base_uri": "https://localhost:8080/"
        }
      },
      "execution_count": null,
      "outputs": [
        {
          "output_type": "execute_result",
          "data": {
            "text/plain": [
              "0.19312811402149951"
            ]
          },
          "metadata": {},
          "execution_count": 40
        }
      ]
    },
    {
      "cell_type": "code",
      "source": [
        "100-0.19312811402149951"
      ],
      "metadata": {
        "id": "UgLdwd8P2fkh",
        "outputId": "82cae11e-8be5-4590-d816-e8ca2d7ab458",
        "colab": {
          "base_uri": "https://localhost:8080/"
        }
      },
      "execution_count": null,
      "outputs": [
        {
          "output_type": "execute_result",
          "data": {
            "text/plain": [
              "99.8068718859785"
            ]
          },
          "metadata": {},
          "execution_count": 41
        }
      ]
    },
    {
      "cell_type": "code",
      "source": [
        ""
      ],
      "metadata": {
        "id": "mhSlOYp138aC"
      },
      "execution_count": null,
      "outputs": []
    }
  ]
}