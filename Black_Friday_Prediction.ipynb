{
  "nbformat": 4,
  "nbformat_minor": 0,
  "metadata": {
    "colab": {
      "name": "Black Friday Prediction.ipynb",
      "provenance": [],
      "include_colab_link": true
    },
    "kernelspec": {
      "name": "python3",
      "display_name": "Python 3"
    },
    "language_info": {
      "name": "python"
    }
  },
  "cells": [
    {
      "cell_type": "markdown",
      "metadata": {
        "id": "view-in-github",
        "colab_type": "text"
      },
      "source": [
        "<a href=\"https://colab.research.google.com/github/Blutronics/MultipleRegression/blob/main/Black_Friday_Prediction.ipynb\" target=\"_parent\"><img src=\"https://colab.research.google.com/assets/colab-badge.svg\" alt=\"Open In Colab\"/></a>"
      ]
    },
    {
      "cell_type": "code",
      "execution_count": 1,
      "metadata": {
        "id": "ZnvAK50R3yZl"
      },
      "outputs": [],
      "source": [
        "import pandas as pd\n",
        "import numpy as np\n",
        "import seaborn as sns\n",
        "import matplotlib.pyplot as plt \n",
        "from scipy import stats\n",
        "import pylab\n",
        "import statsmodels.formula.api as smf # for regression model\n",
        "import statsmodels.api as sm\n",
        "from sklearn.model_selection import train_test_split\n",
        "from sklearn.preprocessing import MinMaxScaler\n",
        "import lightgbm as lgb"
      ]
    },
    {
      "cell_type": "markdown",
      "source": [
        "Female = 0 | Male = 1\n",
        "\n",
        "City Category A = 0 | City Category B = 1 | City Category C = 2"
      ],
      "metadata": {
        "id": "8qDOatBWDQCr"
      }
    },
    {
      "cell_type": "code",
      "source": [
        "df=pd.read_csv(\"blackfriday_train.csv\")\n",
        "df.head()"
      ],
      "metadata": {
        "colab": {
          "base_uri": "https://localhost:8080/",
          "height": 340
        },
        "id": "618AC_G439rA",
        "outputId": "b4988858-83d5-4a34-b824-169adb635e31"
      },
      "execution_count": 5,
      "outputs": [
        {
          "output_type": "execute_result",
          "data": {
            "text/plain": [
              "   User_ID Product_ID Gender   Age  Occupation City_Category  \\\n",
              "0  1000001  P00069042      F  0-17          10             A   \n",
              "1  1000001  P00248942      F  0-17          10             A   \n",
              "2  1000001  P00087842      F  0-17          10             A   \n",
              "3  1000001  P00085442      F  0-17          10             A   \n",
              "4  1000002  P00285442      M   55+          16             C   \n",
              "\n",
              "  Stay_In_Current_City_Years  Marital_Status  Product_Category_1  \\\n",
              "0                          2               0                   3   \n",
              "1                          2               0                   1   \n",
              "2                          2               0                  12   \n",
              "3                          2               0                  12   \n",
              "4                         4+               0                   8   \n",
              "\n",
              "   Product_Category_2  Product_Category_3  Purchase  \n",
              "0                 NaN                 NaN      8370  \n",
              "1                 6.0                14.0     15200  \n",
              "2                 NaN                 NaN      1422  \n",
              "3                14.0                 NaN      1057  \n",
              "4                 NaN                 NaN      7969  "
            ],
            "text/html": [
              "\n",
              "  <div id=\"df-8495f055-85e0-4c30-a32e-11a16a057f25\">\n",
              "    <div class=\"colab-df-container\">\n",
              "      <div>\n",
              "<style scoped>\n",
              "    .dataframe tbody tr th:only-of-type {\n",
              "        vertical-align: middle;\n",
              "    }\n",
              "\n",
              "    .dataframe tbody tr th {\n",
              "        vertical-align: top;\n",
              "    }\n",
              "\n",
              "    .dataframe thead th {\n",
              "        text-align: right;\n",
              "    }\n",
              "</style>\n",
              "<table border=\"1\" class=\"dataframe\">\n",
              "  <thead>\n",
              "    <tr style=\"text-align: right;\">\n",
              "      <th></th>\n",
              "      <th>User_ID</th>\n",
              "      <th>Product_ID</th>\n",
              "      <th>Gender</th>\n",
              "      <th>Age</th>\n",
              "      <th>Occupation</th>\n",
              "      <th>City_Category</th>\n",
              "      <th>Stay_In_Current_City_Years</th>\n",
              "      <th>Marital_Status</th>\n",
              "      <th>Product_Category_1</th>\n",
              "      <th>Product_Category_2</th>\n",
              "      <th>Product_Category_3</th>\n",
              "      <th>Purchase</th>\n",
              "    </tr>\n",
              "  </thead>\n",
              "  <tbody>\n",
              "    <tr>\n",
              "      <th>0</th>\n",
              "      <td>1000001</td>\n",
              "      <td>P00069042</td>\n",
              "      <td>F</td>\n",
              "      <td>0-17</td>\n",
              "      <td>10</td>\n",
              "      <td>A</td>\n",
              "      <td>2</td>\n",
              "      <td>0</td>\n",
              "      <td>3</td>\n",
              "      <td>NaN</td>\n",
              "      <td>NaN</td>\n",
              "      <td>8370</td>\n",
              "    </tr>\n",
              "    <tr>\n",
              "      <th>1</th>\n",
              "      <td>1000001</td>\n",
              "      <td>P00248942</td>\n",
              "      <td>F</td>\n",
              "      <td>0-17</td>\n",
              "      <td>10</td>\n",
              "      <td>A</td>\n",
              "      <td>2</td>\n",
              "      <td>0</td>\n",
              "      <td>1</td>\n",
              "      <td>6.0</td>\n",
              "      <td>14.0</td>\n",
              "      <td>15200</td>\n",
              "    </tr>\n",
              "    <tr>\n",
              "      <th>2</th>\n",
              "      <td>1000001</td>\n",
              "      <td>P00087842</td>\n",
              "      <td>F</td>\n",
              "      <td>0-17</td>\n",
              "      <td>10</td>\n",
              "      <td>A</td>\n",
              "      <td>2</td>\n",
              "      <td>0</td>\n",
              "      <td>12</td>\n",
              "      <td>NaN</td>\n",
              "      <td>NaN</td>\n",
              "      <td>1422</td>\n",
              "    </tr>\n",
              "    <tr>\n",
              "      <th>3</th>\n",
              "      <td>1000001</td>\n",
              "      <td>P00085442</td>\n",
              "      <td>F</td>\n",
              "      <td>0-17</td>\n",
              "      <td>10</td>\n",
              "      <td>A</td>\n",
              "      <td>2</td>\n",
              "      <td>0</td>\n",
              "      <td>12</td>\n",
              "      <td>14.0</td>\n",
              "      <td>NaN</td>\n",
              "      <td>1057</td>\n",
              "    </tr>\n",
              "    <tr>\n",
              "      <th>4</th>\n",
              "      <td>1000002</td>\n",
              "      <td>P00285442</td>\n",
              "      <td>M</td>\n",
              "      <td>55+</td>\n",
              "      <td>16</td>\n",
              "      <td>C</td>\n",
              "      <td>4+</td>\n",
              "      <td>0</td>\n",
              "      <td>8</td>\n",
              "      <td>NaN</td>\n",
              "      <td>NaN</td>\n",
              "      <td>7969</td>\n",
              "    </tr>\n",
              "  </tbody>\n",
              "</table>\n",
              "</div>\n",
              "      <button class=\"colab-df-convert\" onclick=\"convertToInteractive('df-8495f055-85e0-4c30-a32e-11a16a057f25')\"\n",
              "              title=\"Convert this dataframe to an interactive table.\"\n",
              "              style=\"display:none;\">\n",
              "        \n",
              "  <svg xmlns=\"http://www.w3.org/2000/svg\" height=\"24px\"viewBox=\"0 0 24 24\"\n",
              "       width=\"24px\">\n",
              "    <path d=\"M0 0h24v24H0V0z\" fill=\"none\"/>\n",
              "    <path d=\"M18.56 5.44l.94 2.06.94-2.06 2.06-.94-2.06-.94-.94-2.06-.94 2.06-2.06.94zm-11 1L8.5 8.5l.94-2.06 2.06-.94-2.06-.94L8.5 2.5l-.94 2.06-2.06.94zm10 10l.94 2.06.94-2.06 2.06-.94-2.06-.94-.94-2.06-.94 2.06-2.06.94z\"/><path d=\"M17.41 7.96l-1.37-1.37c-.4-.4-.92-.59-1.43-.59-.52 0-1.04.2-1.43.59L10.3 9.45l-7.72 7.72c-.78.78-.78 2.05 0 2.83L4 21.41c.39.39.9.59 1.41.59.51 0 1.02-.2 1.41-.59l7.78-7.78 2.81-2.81c.8-.78.8-2.07 0-2.86zM5.41 20L4 18.59l7.72-7.72 1.47 1.35L5.41 20z\"/>\n",
              "  </svg>\n",
              "      </button>\n",
              "      \n",
              "  <style>\n",
              "    .colab-df-container {\n",
              "      display:flex;\n",
              "      flex-wrap:wrap;\n",
              "      gap: 12px;\n",
              "    }\n",
              "\n",
              "    .colab-df-convert {\n",
              "      background-color: #E8F0FE;\n",
              "      border: none;\n",
              "      border-radius: 50%;\n",
              "      cursor: pointer;\n",
              "      display: none;\n",
              "      fill: #1967D2;\n",
              "      height: 32px;\n",
              "      padding: 0 0 0 0;\n",
              "      width: 32px;\n",
              "    }\n",
              "\n",
              "    .colab-df-convert:hover {\n",
              "      background-color: #E2EBFA;\n",
              "      box-shadow: 0px 1px 2px rgba(60, 64, 67, 0.3), 0px 1px 3px 1px rgba(60, 64, 67, 0.15);\n",
              "      fill: #174EA6;\n",
              "    }\n",
              "\n",
              "    [theme=dark] .colab-df-convert {\n",
              "      background-color: #3B4455;\n",
              "      fill: #D2E3FC;\n",
              "    }\n",
              "\n",
              "    [theme=dark] .colab-df-convert:hover {\n",
              "      background-color: #434B5C;\n",
              "      box-shadow: 0px 1px 3px 1px rgba(0, 0, 0, 0.15);\n",
              "      filter: drop-shadow(0px 1px 2px rgba(0, 0, 0, 0.3));\n",
              "      fill: #FFFFFF;\n",
              "    }\n",
              "  </style>\n",
              "\n",
              "      <script>\n",
              "        const buttonEl =\n",
              "          document.querySelector('#df-8495f055-85e0-4c30-a32e-11a16a057f25 button.colab-df-convert');\n",
              "        buttonEl.style.display =\n",
              "          google.colab.kernel.accessAllowed ? 'block' : 'none';\n",
              "\n",
              "        async function convertToInteractive(key) {\n",
              "          const element = document.querySelector('#df-8495f055-85e0-4c30-a32e-11a16a057f25');\n",
              "          const dataTable =\n",
              "            await google.colab.kernel.invokeFunction('convertToInteractive',\n",
              "                                                     [key], {});\n",
              "          if (!dataTable) return;\n",
              "\n",
              "          const docLinkHtml = 'Like what you see? Visit the ' +\n",
              "            '<a target=\"_blank\" href=https://colab.research.google.com/notebooks/data_table.ipynb>data table notebook</a>'\n",
              "            + ' to learn more about interactive tables.';\n",
              "          element.innerHTML = '';\n",
              "          dataTable['output_type'] = 'display_data';\n",
              "          await google.colab.output.renderOutput(dataTable, element);\n",
              "          const docLink = document.createElement('div');\n",
              "          docLink.innerHTML = docLinkHtml;\n",
              "          element.appendChild(docLink);\n",
              "        }\n",
              "      </script>\n",
              "    </div>\n",
              "  </div>\n",
              "  "
            ]
          },
          "metadata": {},
          "execution_count": 5
        }
      ]
    },
    {
      "cell_type": "code",
      "source": [
        "df.isnull().sum()"
      ],
      "metadata": {
        "colab": {
          "base_uri": "https://localhost:8080/"
        },
        "id": "SZPyY5kM4GYW",
        "outputId": "a9b0e5d9-1eb1-4e8d-a6d7-a85cc80059ff"
      },
      "execution_count": 6,
      "outputs": [
        {
          "output_type": "execute_result",
          "data": {
            "text/plain": [
              "User_ID                            0\n",
              "Product_ID                         0\n",
              "Gender                             0\n",
              "Age                                0\n",
              "Occupation                         0\n",
              "City_Category                      0\n",
              "Stay_In_Current_City_Years         0\n",
              "Marital_Status                     0\n",
              "Product_Category_1                 0\n",
              "Product_Category_2            173638\n",
              "Product_Category_3            383247\n",
              "Purchase                           0\n",
              "dtype: int64"
            ]
          },
          "metadata": {},
          "execution_count": 6
        }
      ]
    },
    {
      "cell_type": "code",
      "source": [
        "df.shape"
      ],
      "metadata": {
        "colab": {
          "base_uri": "https://localhost:8080/"
        },
        "id": "rsHeAlMk4onQ",
        "outputId": "c5c7d70a-9055-4274-c942-524d2949ba94"
      },
      "execution_count": 7,
      "outputs": [
        {
          "output_type": "execute_result",
          "data": {
            "text/plain": [
              "(550068, 12)"
            ]
          },
          "metadata": {},
          "execution_count": 7
        }
      ]
    },
    {
      "cell_type": "code",
      "source": [
        "df.info()"
      ],
      "metadata": {
        "colab": {
          "base_uri": "https://localhost:8080/"
        },
        "id": "BXYwKD4K4pkH",
        "outputId": "51f93013-aeed-4148-d90d-0e0e60235c01"
      },
      "execution_count": 8,
      "outputs": [
        {
          "output_type": "stream",
          "name": "stdout",
          "text": [
            "<class 'pandas.core.frame.DataFrame'>\n",
            "RangeIndex: 550068 entries, 0 to 550067\n",
            "Data columns (total 12 columns):\n",
            " #   Column                      Non-Null Count   Dtype  \n",
            "---  ------                      --------------   -----  \n",
            " 0   User_ID                     550068 non-null  int64  \n",
            " 1   Product_ID                  550068 non-null  object \n",
            " 2   Gender                      550068 non-null  object \n",
            " 3   Age                         550068 non-null  object \n",
            " 4   Occupation                  550068 non-null  int64  \n",
            " 5   City_Category               550068 non-null  object \n",
            " 6   Stay_In_Current_City_Years  550068 non-null  object \n",
            " 7   Marital_Status              550068 non-null  int64  \n",
            " 8   Product_Category_1          550068 non-null  int64  \n",
            " 9   Product_Category_2          376430 non-null  float64\n",
            " 10  Product_Category_3          166821 non-null  float64\n",
            " 11  Purchase                    550068 non-null  int64  \n",
            "dtypes: float64(2), int64(5), object(5)\n",
            "memory usage: 50.4+ MB\n"
          ]
        }
      ]
    },
    {
      "cell_type": "code",
      "source": [
        "df.Product_Category_2.value_counts()"
      ],
      "metadata": {
        "colab": {
          "base_uri": "https://localhost:8080/"
        },
        "id": "oxbRBU3_4yn4",
        "outputId": "17dbcb84-6fe6-4f19-aa72-c70922d9c2db"
      },
      "execution_count": 9,
      "outputs": [
        {
          "output_type": "execute_result",
          "data": {
            "text/plain": [
              "8.0     64088\n",
              "14.0    55108\n",
              "2.0     49217\n",
              "16.0    43255\n",
              "15.0    37855\n",
              "5.0     26235\n",
              "4.0     25677\n",
              "6.0     16466\n",
              "11.0    14134\n",
              "17.0    13320\n",
              "13.0    10531\n",
              "9.0      5693\n",
              "12.0     5528\n",
              "10.0     3043\n",
              "3.0      2884\n",
              "18.0     2770\n",
              "7.0       626\n",
              "Name: Product_Category_2, dtype: int64"
            ]
          },
          "metadata": {},
          "execution_count": 9
        }
      ]
    },
    {
      "cell_type": "code",
      "source": [
        "df.describe()"
      ],
      "metadata": {
        "colab": {
          "base_uri": "https://localhost:8080/",
          "height": 344
        },
        "id": "RsXAPiNJ5KI3",
        "outputId": "6de60616-49da-4732-a828-871314df5188"
      },
      "execution_count": 10,
      "outputs": [
        {
          "output_type": "execute_result",
          "data": {
            "text/plain": [
              "            User_ID     Occupation  Marital_Status  Product_Category_1  \\\n",
              "count  5.500680e+05  550068.000000   550068.000000       550068.000000   \n",
              "mean   1.003029e+06       8.076707        0.409653            5.404270   \n",
              "std    1.727592e+03       6.522660        0.491770            3.936211   \n",
              "min    1.000001e+06       0.000000        0.000000            1.000000   \n",
              "25%    1.001516e+06       2.000000        0.000000            1.000000   \n",
              "50%    1.003077e+06       7.000000        0.000000            5.000000   \n",
              "75%    1.004478e+06      14.000000        1.000000            8.000000   \n",
              "max    1.006040e+06      20.000000        1.000000           20.000000   \n",
              "\n",
              "       Product_Category_2  Product_Category_3       Purchase  \n",
              "count       376430.000000       166821.000000  550068.000000  \n",
              "mean             9.842329           12.668243    9263.968713  \n",
              "std              5.086590            4.125338    5023.065394  \n",
              "min              2.000000            3.000000      12.000000  \n",
              "25%              5.000000            9.000000    5823.000000  \n",
              "50%              9.000000           14.000000    8047.000000  \n",
              "75%             15.000000           16.000000   12054.000000  \n",
              "max             18.000000           18.000000   23961.000000  "
            ],
            "text/html": [
              "\n",
              "  <div id=\"df-58e44167-3b91-40a1-ac19-4a723666e50a\">\n",
              "    <div class=\"colab-df-container\">\n",
              "      <div>\n",
              "<style scoped>\n",
              "    .dataframe tbody tr th:only-of-type {\n",
              "        vertical-align: middle;\n",
              "    }\n",
              "\n",
              "    .dataframe tbody tr th {\n",
              "        vertical-align: top;\n",
              "    }\n",
              "\n",
              "    .dataframe thead th {\n",
              "        text-align: right;\n",
              "    }\n",
              "</style>\n",
              "<table border=\"1\" class=\"dataframe\">\n",
              "  <thead>\n",
              "    <tr style=\"text-align: right;\">\n",
              "      <th></th>\n",
              "      <th>User_ID</th>\n",
              "      <th>Occupation</th>\n",
              "      <th>Marital_Status</th>\n",
              "      <th>Product_Category_1</th>\n",
              "      <th>Product_Category_2</th>\n",
              "      <th>Product_Category_3</th>\n",
              "      <th>Purchase</th>\n",
              "    </tr>\n",
              "  </thead>\n",
              "  <tbody>\n",
              "    <tr>\n",
              "      <th>count</th>\n",
              "      <td>5.500680e+05</td>\n",
              "      <td>550068.000000</td>\n",
              "      <td>550068.000000</td>\n",
              "      <td>550068.000000</td>\n",
              "      <td>376430.000000</td>\n",
              "      <td>166821.000000</td>\n",
              "      <td>550068.000000</td>\n",
              "    </tr>\n",
              "    <tr>\n",
              "      <th>mean</th>\n",
              "      <td>1.003029e+06</td>\n",
              "      <td>8.076707</td>\n",
              "      <td>0.409653</td>\n",
              "      <td>5.404270</td>\n",
              "      <td>9.842329</td>\n",
              "      <td>12.668243</td>\n",
              "      <td>9263.968713</td>\n",
              "    </tr>\n",
              "    <tr>\n",
              "      <th>std</th>\n",
              "      <td>1.727592e+03</td>\n",
              "      <td>6.522660</td>\n",
              "      <td>0.491770</td>\n",
              "      <td>3.936211</td>\n",
              "      <td>5.086590</td>\n",
              "      <td>4.125338</td>\n",
              "      <td>5023.065394</td>\n",
              "    </tr>\n",
              "    <tr>\n",
              "      <th>min</th>\n",
              "      <td>1.000001e+06</td>\n",
              "      <td>0.000000</td>\n",
              "      <td>0.000000</td>\n",
              "      <td>1.000000</td>\n",
              "      <td>2.000000</td>\n",
              "      <td>3.000000</td>\n",
              "      <td>12.000000</td>\n",
              "    </tr>\n",
              "    <tr>\n",
              "      <th>25%</th>\n",
              "      <td>1.001516e+06</td>\n",
              "      <td>2.000000</td>\n",
              "      <td>0.000000</td>\n",
              "      <td>1.000000</td>\n",
              "      <td>5.000000</td>\n",
              "      <td>9.000000</td>\n",
              "      <td>5823.000000</td>\n",
              "    </tr>\n",
              "    <tr>\n",
              "      <th>50%</th>\n",
              "      <td>1.003077e+06</td>\n",
              "      <td>7.000000</td>\n",
              "      <td>0.000000</td>\n",
              "      <td>5.000000</td>\n",
              "      <td>9.000000</td>\n",
              "      <td>14.000000</td>\n",
              "      <td>8047.000000</td>\n",
              "    </tr>\n",
              "    <tr>\n",
              "      <th>75%</th>\n",
              "      <td>1.004478e+06</td>\n",
              "      <td>14.000000</td>\n",
              "      <td>1.000000</td>\n",
              "      <td>8.000000</td>\n",
              "      <td>15.000000</td>\n",
              "      <td>16.000000</td>\n",
              "      <td>12054.000000</td>\n",
              "    </tr>\n",
              "    <tr>\n",
              "      <th>max</th>\n",
              "      <td>1.006040e+06</td>\n",
              "      <td>20.000000</td>\n",
              "      <td>1.000000</td>\n",
              "      <td>20.000000</td>\n",
              "      <td>18.000000</td>\n",
              "      <td>18.000000</td>\n",
              "      <td>23961.000000</td>\n",
              "    </tr>\n",
              "  </tbody>\n",
              "</table>\n",
              "</div>\n",
              "      <button class=\"colab-df-convert\" onclick=\"convertToInteractive('df-58e44167-3b91-40a1-ac19-4a723666e50a')\"\n",
              "              title=\"Convert this dataframe to an interactive table.\"\n",
              "              style=\"display:none;\">\n",
              "        \n",
              "  <svg xmlns=\"http://www.w3.org/2000/svg\" height=\"24px\"viewBox=\"0 0 24 24\"\n",
              "       width=\"24px\">\n",
              "    <path d=\"M0 0h24v24H0V0z\" fill=\"none\"/>\n",
              "    <path d=\"M18.56 5.44l.94 2.06.94-2.06 2.06-.94-2.06-.94-.94-2.06-.94 2.06-2.06.94zm-11 1L8.5 8.5l.94-2.06 2.06-.94-2.06-.94L8.5 2.5l-.94 2.06-2.06.94zm10 10l.94 2.06.94-2.06 2.06-.94-2.06-.94-.94-2.06-.94 2.06-2.06.94z\"/><path d=\"M17.41 7.96l-1.37-1.37c-.4-.4-.92-.59-1.43-.59-.52 0-1.04.2-1.43.59L10.3 9.45l-7.72 7.72c-.78.78-.78 2.05 0 2.83L4 21.41c.39.39.9.59 1.41.59.51 0 1.02-.2 1.41-.59l7.78-7.78 2.81-2.81c.8-.78.8-2.07 0-2.86zM5.41 20L4 18.59l7.72-7.72 1.47 1.35L5.41 20z\"/>\n",
              "  </svg>\n",
              "      </button>\n",
              "      \n",
              "  <style>\n",
              "    .colab-df-container {\n",
              "      display:flex;\n",
              "      flex-wrap:wrap;\n",
              "      gap: 12px;\n",
              "    }\n",
              "\n",
              "    .colab-df-convert {\n",
              "      background-color: #E8F0FE;\n",
              "      border: none;\n",
              "      border-radius: 50%;\n",
              "      cursor: pointer;\n",
              "      display: none;\n",
              "      fill: #1967D2;\n",
              "      height: 32px;\n",
              "      padding: 0 0 0 0;\n",
              "      width: 32px;\n",
              "    }\n",
              "\n",
              "    .colab-df-convert:hover {\n",
              "      background-color: #E2EBFA;\n",
              "      box-shadow: 0px 1px 2px rgba(60, 64, 67, 0.3), 0px 1px 3px 1px rgba(60, 64, 67, 0.15);\n",
              "      fill: #174EA6;\n",
              "    }\n",
              "\n",
              "    [theme=dark] .colab-df-convert {\n",
              "      background-color: #3B4455;\n",
              "      fill: #D2E3FC;\n",
              "    }\n",
              "\n",
              "    [theme=dark] .colab-df-convert:hover {\n",
              "      background-color: #434B5C;\n",
              "      box-shadow: 0px 1px 3px 1px rgba(0, 0, 0, 0.15);\n",
              "      filter: drop-shadow(0px 1px 2px rgba(0, 0, 0, 0.3));\n",
              "      fill: #FFFFFF;\n",
              "    }\n",
              "  </style>\n",
              "\n",
              "      <script>\n",
              "        const buttonEl =\n",
              "          document.querySelector('#df-58e44167-3b91-40a1-ac19-4a723666e50a button.colab-df-convert');\n",
              "        buttonEl.style.display =\n",
              "          google.colab.kernel.accessAllowed ? 'block' : 'none';\n",
              "\n",
              "        async function convertToInteractive(key) {\n",
              "          const element = document.querySelector('#df-58e44167-3b91-40a1-ac19-4a723666e50a');\n",
              "          const dataTable =\n",
              "            await google.colab.kernel.invokeFunction('convertToInteractive',\n",
              "                                                     [key], {});\n",
              "          if (!dataTable) return;\n",
              "\n",
              "          const docLinkHtml = 'Like what you see? Visit the ' +\n",
              "            '<a target=\"_blank\" href=https://colab.research.google.com/notebooks/data_table.ipynb>data table notebook</a>'\n",
              "            + ' to learn more about interactive tables.';\n",
              "          element.innerHTML = '';\n",
              "          dataTable['output_type'] = 'display_data';\n",
              "          await google.colab.output.renderOutput(dataTable, element);\n",
              "          const docLink = document.createElement('div');\n",
              "          docLink.innerHTML = docLinkHtml;\n",
              "          element.appendChild(docLink);\n",
              "        }\n",
              "      </script>\n",
              "    </div>\n",
              "  </div>\n",
              "  "
            ]
          },
          "metadata": {},
          "execution_count": 10
        }
      ]
    },
    {
      "cell_type": "markdown",
      "source": [
        "## **EDA**"
      ],
      "metadata": {
        "id": "3H5E5WUxMUBv"
      }
    },
    {
      "cell_type": "markdown",
      "source": [
        "droppDuppiesDf eliminates duplicate userID's. Of coarse this will only be useful for EDA, speiciafly for columns like Age, Occupation Ect. It also takes a minutes to run, just fyi."
      ],
      "metadata": {
        "id": "kaoSuxeHLe4q"
      }
    },
    {
      "cell_type": "code",
      "source": [
        "droppDuppies = []\n",
        "tempInstances =[]\n",
        "for index, row in df.iterrows():\n",
        "    # print(row['User_ID'])\n",
        "    if row['User_ID'] not in tempInstances:\n",
        "      tempInstances.append(row['User_ID'])\n",
        "      droppDuppies.append(row)\n",
        " "
      ],
      "metadata": {
        "id": "MA3AoaWEGBf8"
      },
      "execution_count": null,
      "outputs": []
    },
    {
      "cell_type": "code",
      "source": [
        "droppDuppiesDf = pd.DataFrame(droppDuppies)"
      ],
      "metadata": {
        "id": "SycWM2eSH23z"
      },
      "execution_count": null,
      "outputs": []
    },
    {
      "cell_type": "markdown",
      "source": [
        "I had to creat these temp variables 'AgeInterval' and 'afAgeConts' since the order of the intervals was not in accending order"
      ],
      "metadata": {
        "id": "B8oflxvlFkCX"
      }
    },
    {
      "cell_type": "code",
      "source": [
        "ageInterval = ['0-17','18-25','26-35','36-45','46-50','51-55','55+']"
      ],
      "metadata": {
        "id": "wwS7WQw1_Bzc"
      },
      "execution_count": null,
      "outputs": []
    },
    {
      "cell_type": "code",
      "source": [
        "dfAgeCounts = [218,1069,2053,1167,531,481,372]"
      ],
      "metadata": {
        "id": "YheJAidi_SOM"
      },
      "execution_count": null,
      "outputs": []
    },
    {
      "cell_type": "code",
      "source": [
        "\n",
        "fig = plt.figure(figsize = (15, 15))\n",
        "\n",
        "colors1 = ['#267A4C','#99FBC5','#4DFA9B','#3E7A61','#3EC77C']\n",
        "\n",
        "plt.subplot(2, 1, 1)\n",
        "# fig = plt.figure()\n",
        "# ax = fig.add_axes([0,0,1,1])\n",
        "plt.bar(ageInterval, dfAgeCounts, color=(colors1[3]),  edgecolor=(colors1[4]))\n",
        "plt.xlabel(\"Age Interval\")\n",
        "plt.ylabel(\"Count\")\n",
        "plt.title(\"Frequency of Age Groups\")\n",
        "\n",
        "\n",
        "plt.subplot(2, 1, 2)\n",
        "# ax = fig.add_axes([0,0,1,1])\n",
        "plt.bar(droppDuppiesDf.Occupation.unique(), droppDuppiesDf.Occupation.value_counts(), color=(colors1[3]),  edgecolor=(colors1[4]))\n",
        "plt.xlabel(\"Occupation Number\")\n",
        "plt.ylabel(\"Count\")\n",
        "plt.title(\"Frequency of Occupation Groups\")\n",
        "\n",
        "\n",
        "plt.show()\n"
      ],
      "metadata": {
        "id": "Uq3CSrTI8erR",
        "outputId": "590a68a5-0ed1-4ab0-f141-b006fac7a232",
        "colab": {
          "base_uri": "https://localhost:8080/",
          "height": 893
        }
      },
      "execution_count": null,
      "outputs": [
        {
          "output_type": "display_data",
          "data": {
            "text/plain": [
              "<Figure size 1080x1080 with 2 Axes>"
            ],
            "image/png": "[encoded data removed]"
          },
          "metadata": {
            "needs_background": "light"
          }
        }
      ]
    },
    {
      "cell_type": "code",
      "source": [
        "yearInCityVal = [772,2086,1145,979,909]\n",
        "yearsInCityLabel = ['0','1','2','3','4+']"
      ],
      "metadata": {
        "id": "k1WgvB_1D3Hs"
      },
      "execution_count": null,
      "outputs": []
    },
    {
      "cell_type": "code",
      "source": [
        "droppDuppiesDf.Gender.unique()\n",
        "droppDuppiesDf.Gender.value_counts()"
      ],
      "metadata": {
        "colab": {
          "base_uri": "https://localhost:8080/"
        },
        "id": "gi_3KySQWvbO",
        "outputId": "88aff634-c616-4c25-8696-eff96f615aea"
      },
      "execution_count": null,
      "outputs": [
        {
          "output_type": "execute_result",
          "data": {
            "text/plain": [
              "M    4225\n",
              "F    1666\n",
              "Name: Gender, dtype: int64"
            ]
          },
          "metadata": {},
          "execution_count": 14
        }
      ]
    },
    {
      "cell_type": "code",
      "source": [
        "colorrr = [\"#C781FD\", \"#9474E3\",\"#8E8CFA\", \"#748FE3\",'#81C0FD']\n",
        "colorrr2 = [\"#4791FD\", \"#40ADE3\",\"#52EFFA\", \"#40E3C0\",'#47FDA3']\n",
        "colorrr3 = [\"#8EFDB1\", \"#7FE383\",\"#B5FA98\", \"#C0E37F\",'#FCFD8E']\n",
        "colorrr4 = [\"#FDD556\", \"#E3B04D\",\"#FAB461\", \"#E38A4D\",'#FD8156']\n",
        "fig = plt.figure(figsize = (20, 17))\n",
        "plt.subplot(2, 2, 1)\n",
        "plt.pie(yearInCityVal,\n",
        "        labels = yearsInCityLabel,\n",
        "        startangle = 45,\n",
        "        autopct = '%1.2f%%',\n",
        "        colors = colorrr,\n",
        "        shadow = True,\n",
        "        explode = [0,.05,0,0,0],\n",
        "        textprops={'color':\"black\",'fontsize': 14}\n",
        "        )\n",
        "plt.title('Years In Current City',color='black',fontsize= 16)\n",
        "plt.plot()\n",
        "\n",
        "\n",
        "plt.subplot(2, 2, 2)\n",
        "\n",
        "\n",
        "plt.pie(droppDuppiesDf.Gender.value_counts(),\n",
        "        labels = droppDuppiesDf.Gender.unique(),\n",
        "        textprops={'color':\"black\",'fontsize': 14},\n",
        "        startangle = 45,\n",
        "        autopct = '%1.2f%%',\n",
        "        colors = colorrr3,\n",
        "        shadow = True,\n",
        "        explode = [0.07,.0]\n",
        "        )\n",
        "plt.plot()\n",
        "plt.title('Gender',color='black',fontsize= 16)\n",
        "\n",
        "\n",
        "plt.subplot(2, 2, 3)\n",
        "plt.pie(droppDuppiesDf.City_Category.value_counts(),\n",
        "        labels = droppDuppiesDf.City_Category.unique(),\n",
        "        startangle = 45,\n",
        "        autopct = '%1.2f%%',\n",
        "        colors = colorrr2,\n",
        "        shadow = True,\n",
        "        explode = [0.05,.0,0],\n",
        "        textprops={'color':\"black\",'fontsize': 14}\n",
        "        )\n",
        "plt.title('City Category',color='black',fontsize= 16)\n",
        "plt.plot()\n",
        "\n",
        "\n",
        "plt.subplot(2, 2, 4)\n",
        "\n",
        "\n",
        "plt.pie(droppDuppiesDf.Marital_Status.value_counts(),\n",
        "        labels = droppDuppiesDf.Marital_Status.unique(),\n",
        "        textprops={'color':\"black\",'fontsize': 14},\n",
        "        startangle = 45,\n",
        "        autopct = '%1.2f%%',\n",
        "        colors = colorrr4,\n",
        "        shadow = True,\n",
        "        explode = [0.05,.0,]\n",
        "        )\n",
        "plt.plot()\n",
        "plt.title('Marital Status',color='black',fontsize= 16)\n",
        "\n",
        "plt.show()"
      ],
      "metadata": {
        "colab": {
          "base_uri": "https://localhost:8080/",
          "height": 973
        },
        "id": "m3NkuKlqU4fH",
        "outputId": "389d17a7-0dda-4fb3-840b-b14b0be7cd34"
      },
      "execution_count": null,
      "outputs": [
        {
          "output_type": "display_data",
          "data": {
            "text/plain": [
              "<Figure size 1440x1224 with 4 Axes>"
            ],
            "image/png": "[encoded data removed]"
          },
          "metadata": {}
        }
      ]
    },
    {
      "cell_type": "markdown",
      "source": [
        "GroupDf takes the mean value of each numerical values with repect to UserID"
      ],
      "metadata": {
        "id": "TXCQ3iEtAbSd"
      }
    },
    {
      "cell_type": "code",
      "source": [
        "groupDf = df.groupby(['User_ID']).mean()\n",
        "tempx = np.arange(len(groupDf))\n",
        "groupDf"
      ],
      "metadata": {
        "colab": {
          "base_uri": "https://localhost:8080/",
          "height": 455
        },
        "id": "5MUbO-OqbWU_",
        "outputId": "9e04d9bd-0fe0-49fb-e8b4-d9452ebe2003"
      },
      "execution_count": null,
      "outputs": [
        {
          "output_type": "execute_result",
          "data": {
            "text/plain": [
              "         Occupation  Marital_Status  Product_Category_1  Product_Category_2  \\\n",
              "User_ID                                                                       \n",
              "1000001        10.0             0.0            6.085714            6.285714   \n",
              "1000002        16.0             0.0            4.597403            9.981481   \n",
              "1000003        15.0             0.0            3.206897            5.086957   \n",
              "1000004         7.0             1.0            2.357143            8.500000   \n",
              "1000005        20.0             1.0            6.216981           11.068966   \n",
              "...             ...             ...                 ...                 ...   \n",
              "1006036        15.0             1.0            6.225681           10.667712   \n",
              "1006037         1.0             0.0            7.688525           12.081081   \n",
              "1006038         1.0             0.0            6.916667           10.333333   \n",
              "1006039         0.0             1.0            5.932432            9.666667   \n",
              "1006040         6.0             0.0            6.338889           10.776699   \n",
              "\n",
              "         Product_Category_3      Purchase  \n",
              "User_ID                                    \n",
              "1000001           10.571429   9545.514286  \n",
              "1000002           13.807692  10525.610390  \n",
              "1000003           11.384615  11780.517241  \n",
              "1000004           14.111111  14747.714286  \n",
              "1000005           12.937500   7745.292453  \n",
              "...                     ...           ...  \n",
              "1006036           13.718182   8007.894942  \n",
              "1006037           13.818182   9176.540984  \n",
              "1006038           17.000000   7502.833333  \n",
              "1006039           12.000000   7977.283784  \n",
              "1006040           13.382353   9184.994444  \n",
              "\n",
              "[5891 rows x 6 columns]"
            ],
            "text/html": [
              "\n",
              "  <div id=\"df-73364151-1505-4205-a8ec-b5de977461f8\">\n",
              "    <div class=\"colab-df-container\">\n",
              "      <div>\n",
              "<style scoped>\n",
              "    .dataframe tbody tr th:only-of-type {\n",
              "        vertical-align: middle;\n",
              "    }\n",
              "\n",
              "    .dataframe tbody tr th {\n",
              "        vertical-align: top;\n",
              "    }\n",
              "\n",
              "    .dataframe thead th {\n",
              "        text-align: right;\n",
              "    }\n",
              "</style>\n",
              "<table border=\"1\" class=\"dataframe\">\n",
              "  <thead>\n",
              "    <tr style=\"text-align: right;\">\n",
              "      <th></th>\n",
              "      <th>Occupation</th>\n",
              "      <th>Marital_Status</th>\n",
              "      <th>Product_Category_1</th>\n",
              "      <th>Product_Category_2</th>\n",
              "      <th>Product_Category_3</th>\n",
              "      <th>Purchase</th>\n",
              "    </tr>\n",
              "    <tr>\n",
              "      <th>User_ID</th>\n",
              "      <th></th>\n",
              "      <th></th>\n",
              "      <th></th>\n",
              "      <th></th>\n",
              "      <th></th>\n",
              "      <th></th>\n",
              "    </tr>\n",
              "  </thead>\n",
              "  <tbody>\n",
              "    <tr>\n",
              "      <th>1000001</th>\n",
              "      <td>10.0</td>\n",
              "      <td>0.0</td>\n",
              "      <td>6.085714</td>\n",
              "      <td>6.285714</td>\n",
              "      <td>10.571429</td>\n",
              "      <td>9545.514286</td>\n",
              "    </tr>\n",
              "    <tr>\n",
              "      <th>1000002</th>\n",
              "      <td>16.0</td>\n",
              "      <td>0.0</td>\n",
              "      <td>4.597403</td>\n",
              "      <td>9.981481</td>\n",
              "      <td>13.807692</td>\n",
              "      <td>10525.610390</td>\n",
              "    </tr>\n",
              "    <tr>\n",
              "      <th>1000003</th>\n",
              "      <td>15.0</td>\n",
              "      <td>0.0</td>\n",
              "      <td>3.206897</td>\n",
              "      <td>5.086957</td>\n",
              "      <td>11.384615</td>\n",
              "      <td>11780.517241</td>\n",
              "    </tr>\n",
              "    <tr>\n",
              "      <th>1000004</th>\n",
              "      <td>7.0</td>\n",
              "      <td>1.0</td>\n",
              "      <td>2.357143</td>\n",
              "      <td>8.500000</td>\n",
              "      <td>14.111111</td>\n",
              "      <td>14747.714286</td>\n",
              "    </tr>\n",
              "    <tr>\n",
              "      <th>1000005</th>\n",
              "      <td>20.0</td>\n",
              "      <td>1.0</td>\n",
              "      <td>6.216981</td>\n",
              "      <td>11.068966</td>\n",
              "      <td>12.937500</td>\n",
              "      <td>7745.292453</td>\n",
              "    </tr>\n",
              "    <tr>\n",
              "      <th>...</th>\n",
              "      <td>...</td>\n",
              "      <td>...</td>\n",
              "      <td>...</td>\n",
              "      <td>...</td>\n",
              "      <td>...</td>\n",
              "      <td>...</td>\n",
              "    </tr>\n",
              "    <tr>\n",
              "      <th>1006036</th>\n",
              "      <td>15.0</td>\n",
              "      <td>1.0</td>\n",
              "      <td>6.225681</td>\n",
              "      <td>10.667712</td>\n",
              "      <td>13.718182</td>\n",
              "      <td>8007.894942</td>\n",
              "    </tr>\n",
              "    <tr>\n",
              "      <th>1006037</th>\n",
              "      <td>1.0</td>\n",
              "      <td>0.0</td>\n",
              "      <td>7.688525</td>\n",
              "      <td>12.081081</td>\n",
              "      <td>13.818182</td>\n",
              "      <td>9176.540984</td>\n",
              "    </tr>\n",
              "    <tr>\n",
              "      <th>1006038</th>\n",
              "      <td>1.0</td>\n",
              "      <td>0.0</td>\n",
              "      <td>6.916667</td>\n",
              "      <td>10.333333</td>\n",
              "      <td>17.000000</td>\n",
              "      <td>7502.833333</td>\n",
              "    </tr>\n",
              "    <tr>\n",
              "      <th>1006039</th>\n",
              "      <td>0.0</td>\n",
              "      <td>1.0</td>\n",
              "      <td>5.932432</td>\n",
              "      <td>9.666667</td>\n",
              "      <td>12.000000</td>\n",
              "      <td>7977.283784</td>\n",
              "    </tr>\n",
              "    <tr>\n",
              "      <th>1006040</th>\n",
              "      <td>6.0</td>\n",
              "      <td>0.0</td>\n",
              "      <td>6.338889</td>\n",
              "      <td>10.776699</td>\n",
              "      <td>13.382353</td>\n",
              "      <td>9184.994444</td>\n",
              "    </tr>\n",
              "  </tbody>\n",
              "</table>\n",
              "<p>5891 rows × 6 columns</p>\n",
              "</div>\n",
              "      <button class=\"colab-df-convert\" onclick=\"convertToInteractive('df-73364151-1505-4205-a8ec-b5de977461f8')\"\n",
              "              title=\"Convert this dataframe to an interactive table.\"\n",
              "              style=\"display:none;\">\n",
              "        \n",
              "  <svg xmlns=\"http://www.w3.org/2000/svg\" height=\"24px\"viewBox=\"0 0 24 24\"\n",
              "       width=\"24px\">\n",
              "    <path d=\"M0 0h24v24H0V0z\" fill=\"none\"/>\n",
              "    <path d=\"M18.56 5.44l.94 2.06.94-2.06 2.06-.94-2.06-.94-.94-2.06-.94 2.06-2.06.94zm-11 1L8.5 8.5l.94-2.06 2.06-.94-2.06-.94L8.5 2.5l-.94 2.06-2.06.94zm10 10l.94 2.06.94-2.06 2.06-.94-2.06-.94-.94-2.06-.94 2.06-2.06.94z\"/><path d=\"M17.41 7.96l-1.37-1.37c-.4-.4-.92-.59-1.43-.59-.52 0-1.04.2-1.43.59L10.3 9.45l-7.72 7.72c-.78.78-.78 2.05 0 2.83L4 21.41c.39.39.9.59 1.41.59.51 0 1.02-.2 1.41-.59l7.78-7.78 2.81-2.81c.8-.78.8-2.07 0-2.86zM5.41 20L4 18.59l7.72-7.72 1.47 1.35L5.41 20z\"/>\n",
              "  </svg>\n",
              "      </button>\n",
              "      \n",
              "  <style>\n",
              "    .colab-df-container {\n",
              "      display:flex;\n",
              "      flex-wrap:wrap;\n",
              "      gap: 12px;\n",
              "    }\n",
              "\n",
              "    .colab-df-convert {\n",
              "      background-color: #E8F0FE;\n",
              "      border: none;\n",
              "      border-radius: 50%;\n",
              "      cursor: pointer;\n",
              "      display: none;\n",
              "      fill: #1967D2;\n",
              "      height: 32px;\n",
              "      padding: 0 0 0 0;\n",
              "      width: 32px;\n",
              "    }\n",
              "\n",
              "    .colab-df-convert:hover {\n",
              "      background-color: #E2EBFA;\n",
              "      box-shadow: 0px 1px 2px rgba(60, 64, 67, 0.3), 0px 1px 3px 1px rgba(60, 64, 67, 0.15);\n",
              "      fill: #174EA6;\n",
              "    }\n",
              "\n",
              "    [theme=dark] .colab-df-convert {\n",
              "      background-color: #3B4455;\n",
              "      fill: #D2E3FC;\n",
              "    }\n",
              "\n",
              "    [theme=dark] .colab-df-convert:hover {\n",
              "      background-color: #434B5C;\n",
              "      box-shadow: 0px 1px 3px 1px rgba(0, 0, 0, 0.15);\n",
              "      filter: drop-shadow(0px 1px 2px rgba(0, 0, 0, 0.3));\n",
              "      fill: #FFFFFF;\n",
              "    }\n",
              "  </style>\n",
              "\n",
              "      <script>\n",
              "        const buttonEl =\n",
              "          document.querySelector('#df-73364151-1505-4205-a8ec-b5de977461f8 button.colab-df-convert');\n",
              "        buttonEl.style.display =\n",
              "          google.colab.kernel.accessAllowed ? 'block' : 'none';\n",
              "\n",
              "        async function convertToInteractive(key) {\n",
              "          const element = document.querySelector('#df-73364151-1505-4205-a8ec-b5de977461f8');\n",
              "          const dataTable =\n",
              "            await google.colab.kernel.invokeFunction('convertToInteractive',\n",
              "                                                     [key], {});\n",
              "          if (!dataTable) return;\n",
              "\n",
              "          const docLinkHtml = 'Like what you see? Visit the ' +\n",
              "            '<a target=\"_blank\" href=https://colab.research.google.com/notebooks/data_table.ipynb>data table notebook</a>'\n",
              "            + ' to learn more about interactive tables.';\n",
              "          element.innerHTML = '';\n",
              "          dataTable['output_type'] = 'display_data';\n",
              "          await google.colab.output.renderOutput(dataTable, element);\n",
              "          const docLink = document.createElement('div');\n",
              "          docLink.innerHTML = docLinkHtml;\n",
              "          element.appendChild(docLink);\n",
              "        }\n",
              "      </script>\n",
              "    </div>\n",
              "  </div>\n",
              "  "
            ]
          },
          "metadata": {},
          "execution_count": 16
        }
      ]
    },
    {
      "cell_type": "markdown",
      "source": [
        "OKAY so here I add a new columsn  - disc  interval-- with 20 bins. I played around with it a bit. I settled on 20, feel free to try other bin sizes too."
      ],
      "metadata": {
        "id": "TulaW-0qKV8Q"
      }
    },
    {
      "cell_type": "code",
      "source": [
        " groupDf[\"discrete_intervals\"] = pd.cut(groupDf[\"Purchase\"], bins=20, include_lowest=True)"
      ],
      "metadata": {
        "id": "M-hL-T8zGg7R"
      },
      "execution_count": null,
      "outputs": []
    },
    {
      "cell_type": "code",
      "source": [
        "tempx2 = np.arange(len(groupDf))\n",
        "\n",
        "sns.set(rc = {'figure.figsize':(18,12)})\n",
        "ax = sns.barplot(x=\"discrete_intervals\", y=tempx2, palette='magma', data=groupDf, edgecolor=\"none\")\n",
        "ax.set_xlabel('Purchase Inteval',fontsize=20)\n",
        "ax.set_ylabel('Frequency',fontsize=20)\n",
        "# plt.xticks([])\n",
        "plt.xticks(rotation = 45, ha='right') \n",
        "plt.title(\"Total Purchase Value Customers,(grouped: 25 bins)\", fontsize=20)\n",
        "plt.show()"
      ],
      "metadata": {
        "colab": {
          "base_uri": "https://localhost:8080/",
          "height": 839
        },
        "id": "3e1Al7P6cJ3-",
        "outputId": "1f803318-1574-447e-d308-952690fb9f24"
      },
      "execution_count": null,
      "outputs": [
        {
          "output_type": "display_data",
          "data": {
            "text/plain": [
              "<Figure size 1296x864 with 1 Axes>"
            ],
            "image/png": "[encoded data removed]"
          },
          "metadata": {}
        }
      ]
    },
    {
      "cell_type": "code",
      "source": [
        "sns.set(rc = {'figure.figsize':(12,12)})\n",
        "\n",
        "fsize = 12\n",
        "\n",
        "plt.subplot(3, 1, 1)\n",
        "ax = sns.barplot(x='discrete_intervals', y='Product_Category_1', hue='Marital_Status', data=groupDf, palette = ('mako'), edgecolor=\"none\")\n",
        "ax.set_xlabel('Purchase Intervals',fontsize=fsize)\n",
        "ax.set_ylabel('Total Purchase Value',fontsize=fsize)\n",
        "plt.title(\"Total Purchase for Product 1 (binned), sepated by Marital Stauts\", fontsize=20)\n",
        "# plt.xticks(rotation = 45, ha='right') \n",
        "plt.xticks([])\n",
        "plt.show()\n",
        "\n",
        "\n",
        "plt.subplot(3, 1, 2)\n",
        "ax = sns.barplot(x='discrete_intervals', y='Product_Category_2', hue='Marital_Status', data=groupDf, palette = ('rocket'), edgecolor=\"none\")\n",
        "ax.set_xlabel('Purchase Intervals',fontsize=fsize)\n",
        "ax.set_ylabel('Total Purchase Value',fontsize=fsize)\n",
        "plt.title(\"Total Purchase for Product 2 (binned), sepated by Marital Stauts\", fontsize=20)\n",
        "# plt.xticks(rotation = 45, ha='right') \n",
        "plt.xticks([])\n",
        "plt.show()\n",
        "\n",
        "plt.subplot(3, 1, 3)\n",
        "ax = sns.barplot(x='discrete_intervals', y='Product_Category_3', hue='Marital_Status', data=groupDf, palette = ('crest'), edgecolor=\"none\")\n",
        "ax.set_xlabel('Purchase Intervals',fontsize=fsize)\n",
        "ax.set_ylabel('Total Purchase Value',fontsize=fsize)\n",
        "plt.title(\"Total Purchase for Product 3 (binned), sepated by Marital Stauts\", fontsize=20)\n",
        "# plt.xticks(rotation = 45, ha='right') \n",
        "plt.xticks([])\n",
        "plt.show()"
      ],
      "metadata": {
        "id": "xv3H9GMQAEwV",
        "outputId": "994f3384-a1b9-4002-e71e-43c60207fbe5",
        "colab": {
          "base_uri": "https://localhost:8080/",
          "height": 749
        }
      },
      "execution_count": null,
      "outputs": [
        {
          "output_type": "display_data",
          "data": {
            "text/plain": [
              "<Figure size 864x864 with 1 Axes>"
            ],
            "image/png": "[encoded data removed]"
          },
          "metadata": {}
        },
        {
          "output_type": "display_data",
          "data": {
            "text/plain": [
              "<Figure size 864x864 with 1 Axes>"
            ],
            "image/png": "[encoded data removed]"
          },
          "metadata": {}
        },
        {
          "output_type": "display_data",
          "data": {
            "text/plain": [
              "<Figure size 864x864 with 1 Axes>"
            ],
            "image/png": "[encoded data removed]"
          },
          "metadata": {}
        }
      ]
    },
    {
      "cell_type": "markdown",
      "source": [
        "So, I have concer for this above plot, I know its off, Basically since its split by the discreete interval, its counting purchases from cat_1 as also cat_3. Anyways, I will adjust it or remove it later... Hah I also know relize I didnt even need to create the below df. I thought I would use the purchase Info, may later still.\n"
      ],
      "metadata": {
        "id": "95uwgw8ZQGqi"
      }
    },
    {
      "cell_type": "code",
      "source": [
        "dfSplitPurchase = df"
      ],
      "metadata": {
        "id": "FSqVcg5uJvNF"
      },
      "execution_count": null,
      "outputs": []
    },
    {
      "cell_type": "code",
      "source": [
        " dfSplitPurchase[\"discrete_intervals\"] = pd.cut(df[\"Purchase\"], \n",
        " \t\t\t\t\t\t\t bins=25,\n",
        "                             include_lowest=True)"
      ],
      "metadata": {
        "id": "82vlACgyJ6ul"
      },
      "execution_count": null,
      "outputs": []
    },
    {
      "cell_type": "code",
      "source": [
        "sns.set(rc = {'figure.figsize':(22,22)})\n",
        "\n",
        "fsize = 12\n",
        "tsize = 15\n",
        "\n",
        "plt.subplot(6, 1, 1)\n",
        "ax = sns.barplot(x='Product_Category_1', y='Purchase', hue='Marital_Status', data=dfSplitPurchase, palette = ('mako'), edgecolor=\"none\")\n",
        "ax.set_xlabel('Product Category 1 Value',fontsize=fsize)\n",
        "ax.set_ylabel('Total Purchase Value',fontsize=fsize)\n",
        "plt.title(\"Total Purchase for Product 1 by procuct value, sepated by Marital Stauts\", fontsize=tsize)\n",
        "# plt.xticks(rotation = 45, ha='right') \n",
        "# plt.xticks([])\n",
        "plt.show()\n",
        "\n",
        "plt.subplot(6, 1, 2)\n",
        "ax = sns.barplot(x='Product_Category_1', y='Purchase', hue='Age', data=dfSplitPurchase, palette = ('flare'), edgecolor=\"none\")\n",
        "ax.set_xlabel('Product Category 1 Value',fontsize=fsize)\n",
        "ax.set_ylabel('Total Purchase Value',fontsize=fsize)\n",
        "plt.title(\"Total Purchase for Product 1 by procuct value, sepated by Age\", fontsize=tsize)\n",
        "# plt.xticks(rotation = 45, ha='right') \n",
        "# plt.xticks([])\n",
        "plt.show()\n",
        "\n",
        "plt.subplot(6, 1, 3)\n",
        "ax = sns.barplot(x='Product_Category_1', y='Purchase', hue='Gender', data=dfSplitPurchase, palette = ('icefire'), edgecolor=\"none\")\n",
        "ax.set_xlabel('Product Category 1 Value',fontsize=fsize)\n",
        "ax.set_ylabel('Total Purchase Value',fontsize=fsize)\n",
        "plt.title(\"Total Purchase for Product 1 by procuct value, sepated by Gender\", fontsize=tsize)\n",
        "# plt.xticks(rotation = 45, ha='right') \n",
        "# plt.xticks([])\n",
        "plt.show()\n",
        "\n",
        "plt.subplot(6, 1, 3)\n",
        "ax = sns.barplot(x='Product_Category_1', y='Purchase', hue='City_Category', data=dfSplitPurchase, palette = ('magma'), edgecolor=\"none\")\n",
        "ax.set_xlabel('Product Category 1 Value',fontsize=fsize)\n",
        "ax.set_ylabel('Total Purchase Value',fontsize=fsize)\n",
        "plt.title(\"Total Purchase for Product 1 by procuct value, sepated by City Category\", fontsize=tsize)\n",
        "# plt.xticks(rotation = 45, ha='right') \n",
        "# plt.xticks([])\n",
        "plt.show()\n",
        "\n",
        "plt.subplot(6, 1, 3)\n",
        "ax = sns.barplot(x='Product_Category_1', y='Purchase', hue='Occupation', data=dfSplitPurchase, palette = ('viridis'), edgecolor=\"none\")\n",
        "ax.set_xlabel('Product Category 1 Value',fontsize=fsize)\n",
        "ax.set_ylabel('Total Purchase Value',fontsize=fsize)\n",
        "plt.title(\"Total Purchase for Product 1 by procuct value, sepated by Occupation\", fontsize=tsize)\n",
        "# plt.xticks(rotation = 45, ha='right') \n",
        "# plt.xticks([])\n",
        "plt.show()\n",
        "\n",
        "plt.subplot(6, 1, 3)\n",
        "ax = sns.barplot(x='Product_Category_1', y='Purchase', hue='Stay_In_Current_City_Years', data=dfSplitPurchase, palette = ('dark:salmon_r'), edgecolor=\"none\")\n",
        "ax.set_xlabel('Product Category 1 Value',fontsize=fsize)\n",
        "ax.set_ylabel('Total Purchase Value',fontsize=fsize)\n",
        "plt.title(\"Total Purchase for Product 1 by procuct value, sepated by Years in Current City\", fontsize=tsize)\n",
        "# plt.xticks(rotation = 45, ha='right') \n",
        "# plt.xticks([])\n",
        "plt.show()\n",
        "\n"
      ],
      "metadata": {
        "id": "k4yB-WyeN7_m",
        "outputId": "158c2b8c-d510-416d-c0ed-89658d030ef8",
        "colab": {
          "base_uri": "https://localhost:8080/",
          "height": 1000
        }
      },
      "execution_count": null,
      "outputs": [
        {
          "output_type": "display_data",
          "data": {
            "text/plain": [
              "<Figure size 1584x1584 with 1 Axes>"
            ],
            "image/png": "[encoded data removed]"
          },
          "metadata": {}
        },
        {
          "output_type": "display_data",
          "data": {
            "text/plain": [
              "<Figure size 1584x1584 with 1 Axes>"
            ],
            "image/png": "[encoded data removed]"
          },
          "metadata": {}
        },
        {
          "output_type": "display_data",
          "data": {
            "text/plain": [
              "<Figure size 1584x1584 with 1 Axes>"
            ],
            "image/png": "[encoded data removed]"
          },
          "metadata": {}
        },
        {
          "output_type": "display_data",
          "data": {
            "text/plain": [
              "<Figure size 1584x1584 with 1 Axes>"
            ],
            "image/png": "[encoded data removed]"
          },
          "metadata": {}
        },
        {
          "output_type": "display_data",
          "data": {
            "text/plain": [
              "<Figure size 1584x1584 with 1 Axes>"
            ],
            "image/png": "[encoded data removed]"
          },
          "metadata": {}
        },
        {
          "output_type": "display_data",
          "data": {
            "text/plain": [
              "<Figure size 1584x1584 with 1 Axes>"
            ],
            "image/png": "[encoded data removed]"
          },
          "metadata": {}
        }
      ]
    },
    {
      "cell_type": "markdown",
      "source": [
        "## **Encoding Data and Cleasning**"
      ],
      "metadata": {
        "id": "-o9E0hKTMLwL"
      }
    },
    {
      "cell_type": "markdown",
      "source": [
        "My computer doesnt have enough ram to run the ANN model so i just added this here temparaily since I had to keep restarting"
      ],
      "metadata": {
        "id": "jf86VGIJSjCV"
      }
    },
    {
      "cell_type": "code",
      "source": [
        "# My computer doesnt have enough ram to run the ANN model so i just added this here temparaily since I had to keep restarting\n",
        "df=pd.read_csv(\"blackfriday_train.csv\")"
      ],
      "metadata": {
        "id": "QJolWixnSdSx"
      },
      "execution_count": 11,
      "outputs": []
    },
    {
      "cell_type": "code",
      "source": [
        "df.Age.replace({'0-17':0,'18-25':1,'26-35':2,'36-45':3,'46-50':4,'51-55':5,'55+':6},inplace=True)"
      ],
      "metadata": {
        "id": "sRv1O7vv7K6Z"
      },
      "execution_count": 12,
      "outputs": []
    },
    {
      "cell_type": "code",
      "source": [
        "df.Product_Category_2.fillna(0,inplace=True)\n",
        "df.Product_Category_3.fillna(0,inplace=True)\n"
      ],
      "metadata": {
        "id": "rqnPgtPm8DdB"
      },
      "execution_count": 13,
      "outputs": []
    },
    {
      "cell_type": "code",
      "source": [
        "df.head()"
      ],
      "metadata": {
        "colab": {
          "base_uri": "https://localhost:8080/",
          "height": 270
        },
        "id": "QXJAkJp38NAx",
        "outputId": "37011d17-2e12-42f0-f70d-b77efd6cbd0f"
      },
      "execution_count": 14,
      "outputs": [
        {
          "output_type": "execute_result",
          "data": {
            "text/plain": [
              "   User_ID Product_ID Gender  Age  Occupation City_Category  \\\n",
              "0  1000001  P00069042      F    0          10             A   \n",
              "1  1000001  P00248942      F    0          10             A   \n",
              "2  1000001  P00087842      F    0          10             A   \n",
              "3  1000001  P00085442      F    0          10             A   \n",
              "4  1000002  P00285442      M    6          16             C   \n",
              "\n",
              "  Stay_In_Current_City_Years  Marital_Status  Product_Category_1  \\\n",
              "0                          2               0                   3   \n",
              "1                          2               0                   1   \n",
              "2                          2               0                  12   \n",
              "3                          2               0                  12   \n",
              "4                         4+               0                   8   \n",
              "\n",
              "   Product_Category_2  Product_Category_3  Purchase  \n",
              "0                 0.0                 0.0      8370  \n",
              "1                 6.0                14.0     15200  \n",
              "2                 0.0                 0.0      1422  \n",
              "3                14.0                 0.0      1057  \n",
              "4                 0.0                 0.0      7969  "
            ],
            "text/html": [
              "\n",
              "  <div id=\"df-827ba2f7-6b4d-45c6-841c-89def036e239\">\n",
              "    <div class=\"colab-df-container\">\n",
              "      <div>\n",
              "<style scoped>\n",
              "    .dataframe tbody tr th:only-of-type {\n",
              "        vertical-align: middle;\n",
              "    }\n",
              "\n",
              "    .dataframe tbody tr th {\n",
              "        vertical-align: top;\n",
              "    }\n",
              "\n",
              "    .dataframe thead th {\n",
              "        text-align: right;\n",
              "    }\n",
              "</style>\n",
              "<table border=\"1\" class=\"dataframe\">\n",
              "  <thead>\n",
              "    <tr style=\"text-align: right;\">\n",
              "      <th></th>\n",
              "      <th>User_ID</th>\n",
              "      <th>Product_ID</th>\n",
              "      <th>Gender</th>\n",
              "      <th>Age</th>\n",
              "      <th>Occupation</th>\n",
              "      <th>City_Category</th>\n",
              "      <th>Stay_In_Current_City_Years</th>\n",
              "      <th>Marital_Status</th>\n",
              "      <th>Product_Category_1</th>\n",
              "      <th>Product_Category_2</th>\n",
              "      <th>Product_Category_3</th>\n",
              "      <th>Purchase</th>\n",
              "    </tr>\n",
              "  </thead>\n",
              "  <tbody>\n",
              "    <tr>\n",
              "      <th>0</th>\n",
              "      <td>1000001</td>\n",
              "      <td>P00069042</td>\n",
              "      <td>F</td>\n",
              "      <td>0</td>\n",
              "      <td>10</td>\n",
              "      <td>A</td>\n",
              "      <td>2</td>\n",
              "      <td>0</td>\n",
              "      <td>3</td>\n",
              "      <td>0.0</td>\n",
              "      <td>0.0</td>\n",
              "      <td>8370</td>\n",
              "    </tr>\n",
              "    <tr>\n",
              "      <th>1</th>\n",
              "      <td>1000001</td>\n",
              "      <td>P00248942</td>\n",
              "      <td>F</td>\n",
              "      <td>0</td>\n",
              "      <td>10</td>\n",
              "      <td>A</td>\n",
              "      <td>2</td>\n",
              "      <td>0</td>\n",
              "      <td>1</td>\n",
              "      <td>6.0</td>\n",
              "      <td>14.0</td>\n",
              "      <td>15200</td>\n",
              "    </tr>\n",
              "    <tr>\n",
              "      <th>2</th>\n",
              "      <td>1000001</td>\n",
              "      <td>P00087842</td>\n",
              "      <td>F</td>\n",
              "      <td>0</td>\n",
              "      <td>10</td>\n",
              "      <td>A</td>\n",
              "      <td>2</td>\n",
              "      <td>0</td>\n",
              "      <td>12</td>\n",
              "      <td>0.0</td>\n",
              "      <td>0.0</td>\n",
              "      <td>1422</td>\n",
              "    </tr>\n",
              "    <tr>\n",
              "      <th>3</th>\n",
              "      <td>1000001</td>\n",
              "      <td>P00085442</td>\n",
              "      <td>F</td>\n",
              "      <td>0</td>\n",
              "      <td>10</td>\n",
              "      <td>A</td>\n",
              "      <td>2</td>\n",
              "      <td>0</td>\n",
              "      <td>12</td>\n",
              "      <td>14.0</td>\n",
              "      <td>0.0</td>\n",
              "      <td>1057</td>\n",
              "    </tr>\n",
              "    <tr>\n",
              "      <th>4</th>\n",
              "      <td>1000002</td>\n",
              "      <td>P00285442</td>\n",
              "      <td>M</td>\n",
              "      <td>6</td>\n",
              "      <td>16</td>\n",
              "      <td>C</td>\n",
              "      <td>4+</td>\n",
              "      <td>0</td>\n",
              "      <td>8</td>\n",
              "      <td>0.0</td>\n",
              "      <td>0.0</td>\n",
              "      <td>7969</td>\n",
              "    </tr>\n",
              "  </tbody>\n",
              "</table>\n",
              "</div>\n",
              "      <button class=\"colab-df-convert\" onclick=\"convertToInteractive('df-827ba2f7-6b4d-45c6-841c-89def036e239')\"\n",
              "              title=\"Convert this dataframe to an interactive table.\"\n",
              "              style=\"display:none;\">\n",
              "        \n",
              "  <svg xmlns=\"http://www.w3.org/2000/svg\" height=\"24px\"viewBox=\"0 0 24 24\"\n",
              "       width=\"24px\">\n",
              "    <path d=\"M0 0h24v24H0V0z\" fill=\"none\"/>\n",
              "    <path d=\"M18.56 5.44l.94 2.06.94-2.06 2.06-.94-2.06-.94-.94-2.06-.94 2.06-2.06.94zm-11 1L8.5 8.5l.94-2.06 2.06-.94-2.06-.94L8.5 2.5l-.94 2.06-2.06.94zm10 10l.94 2.06.94-2.06 2.06-.94-2.06-.94-.94-2.06-.94 2.06-2.06.94z\"/><path d=\"M17.41 7.96l-1.37-1.37c-.4-.4-.92-.59-1.43-.59-.52 0-1.04.2-1.43.59L10.3 9.45l-7.72 7.72c-.78.78-.78 2.05 0 2.83L4 21.41c.39.39.9.59 1.41.59.51 0 1.02-.2 1.41-.59l7.78-7.78 2.81-2.81c.8-.78.8-2.07 0-2.86zM5.41 20L4 18.59l7.72-7.72 1.47 1.35L5.41 20z\"/>\n",
              "  </svg>\n",
              "      </button>\n",
              "      \n",
              "  <style>\n",
              "    .colab-df-container {\n",
              "      display:flex;\n",
              "      flex-wrap:wrap;\n",
              "      gap: 12px;\n",
              "    }\n",
              "\n",
              "    .colab-df-convert {\n",
              "      background-color: #E8F0FE;\n",
              "      border: none;\n",
              "      border-radius: 50%;\n",
              "      cursor: pointer;\n",
              "      display: none;\n",
              "      fill: #1967D2;\n",
              "      height: 32px;\n",
              "      padding: 0 0 0 0;\n",
              "      width: 32px;\n",
              "    }\n",
              "\n",
              "    .colab-df-convert:hover {\n",
              "      background-color: #E2EBFA;\n",
              "      box-shadow: 0px 1px 2px rgba(60, 64, 67, 0.3), 0px 1px 3px 1px rgba(60, 64, 67, 0.15);\n",
              "      fill: #174EA6;\n",
              "    }\n",
              "\n",
              "    [theme=dark] .colab-df-convert {\n",
              "      background-color: #3B4455;\n",
              "      fill: #D2E3FC;\n",
              "    }\n",
              "\n",
              "    [theme=dark] .colab-df-convert:hover {\n",
              "      background-color: #434B5C;\n",
              "      box-shadow: 0px 1px 3px 1px rgba(0, 0, 0, 0.15);\n",
              "      filter: drop-shadow(0px 1px 2px rgba(0, 0, 0, 0.3));\n",
              "      fill: #FFFFFF;\n",
              "    }\n",
              "  </style>\n",
              "\n",
              "      <script>\n",
              "        const buttonEl =\n",
              "          document.querySelector('#df-827ba2f7-6b4d-45c6-841c-89def036e239 button.colab-df-convert');\n",
              "        buttonEl.style.display =\n",
              "          google.colab.kernel.accessAllowed ? 'block' : 'none';\n",
              "\n",
              "        async function convertToInteractive(key) {\n",
              "          const element = document.querySelector('#df-827ba2f7-6b4d-45c6-841c-89def036e239');\n",
              "          const dataTable =\n",
              "            await google.colab.kernel.invokeFunction('convertToInteractive',\n",
              "                                                     [key], {});\n",
              "          if (!dataTable) return;\n",
              "\n",
              "          const docLinkHtml = 'Like what you see? Visit the ' +\n",
              "            '<a target=\"_blank\" href=https://colab.research.google.com/notebooks/data_table.ipynb>data table notebook</a>'\n",
              "            + ' to learn more about interactive tables.';\n",
              "          element.innerHTML = '';\n",
              "          dataTable['output_type'] = 'display_data';\n",
              "          await google.colab.output.renderOutput(dataTable, element);\n",
              "          const docLink = document.createElement('div');\n",
              "          docLink.innerHTML = docLinkHtml;\n",
              "          element.appendChild(docLink);\n",
              "        }\n",
              "      </script>\n",
              "    </div>\n",
              "  </div>\n",
              "  "
            ]
          },
          "metadata": {},
          "execution_count": 14
        }
      ]
    },
    {
      "cell_type": "code",
      "source": [
        "df.Stay_In_Current_City_Years.replace({'4+':4},inplace=True)"
      ],
      "metadata": {
        "id": "WKYK4bQr8ynh"
      },
      "execution_count": 15,
      "outputs": []
    },
    {
      "cell_type": "code",
      "source": [
        "df.Gender.replace({'F':0,'M':1},inplace=True) "
      ],
      "metadata": {
        "id": "2NRhbrDa9WoJ"
      },
      "execution_count": 16,
      "outputs": []
    },
    {
      "cell_type": "code",
      "source": [
        "df.City_Category.replace({'A':0,'B':1,'C':2},inplace=True)"
      ],
      "metadata": {
        "id": "MT1Pemu49tfI"
      },
      "execution_count": 17,
      "outputs": []
    },
    {
      "cell_type": "code",
      "source": [
        "df.Stay_In_Current_City_Years.unique()"
      ],
      "metadata": {
        "id": "E30c1VdDw04C",
        "outputId": "6e5ffd1f-8ac3-4f13-d8e1-b09f25b05ad7",
        "colab": {
          "base_uri": "https://localhost:8080/"
        }
      },
      "execution_count": 18,
      "outputs": [
        {
          "output_type": "execute_result",
          "data": {
            "text/plain": [
              "array(['2', 4, '3', '1', '0'], dtype=object)"
            ]
          },
          "metadata": {},
          "execution_count": 18
        }
      ]
    },
    {
      "cell_type": "code",
      "source": [
        "df.Stay_In_Current_City_Years=df.Stay_In_Current_City_Years.astype(str).astype(int)"
      ],
      "metadata": {
        "id": "67H4VCEq-jUQ"
      },
      "execution_count": 19,
      "outputs": []
    },
    {
      "cell_type": "code",
      "source": [
        "df[\"Product_ID\"]=df[\"Product_ID\"].str[1:]"
      ],
      "metadata": {
        "id": "TJ9L8ARA-9Kh"
      },
      "execution_count": 20,
      "outputs": []
    },
    {
      "cell_type": "code",
      "source": [
        "df[\"Product_ID\"]=df[\"Product_ID\"].astype(str).astype(int)"
      ],
      "metadata": {
        "id": "tZfmurFXAPPS"
      },
      "execution_count": 21,
      "outputs": []
    },
    {
      "cell_type": "code",
      "source": [
        "df.head()"
      ],
      "metadata": {
        "colab": {
          "base_uri": "https://localhost:8080/",
          "height": 270
        },
        "id": "QJkbPsU0AYCC",
        "outputId": "b4a0c797-7d39-4afb-a592-0058aae2a57d"
      },
      "execution_count": 22,
      "outputs": [
        {
          "output_type": "execute_result",
          "data": {
            "text/plain": [
              "   User_ID  Product_ID  Gender  Age  Occupation  City_Category  \\\n",
              "0  1000001       69042       0    0          10              0   \n",
              "1  1000001      248942       0    0          10              0   \n",
              "2  1000001       87842       0    0          10              0   \n",
              "3  1000001       85442       0    0          10              0   \n",
              "4  1000002      285442       1    6          16              2   \n",
              "\n",
              "   Stay_In_Current_City_Years  Marital_Status  Product_Category_1  \\\n",
              "0                           2               0                   3   \n",
              "1                           2               0                   1   \n",
              "2                           2               0                  12   \n",
              "3                           2               0                  12   \n",
              "4                           4               0                   8   \n",
              "\n",
              "   Product_Category_2  Product_Category_3  Purchase  \n",
              "0                 0.0                 0.0      8370  \n",
              "1                 6.0                14.0     15200  \n",
              "2                 0.0                 0.0      1422  \n",
              "3                14.0                 0.0      1057  \n",
              "4                 0.0                 0.0      7969  "
            ],
            "text/html": [
              "\n",
              "  <div id=\"df-74b4b891-eaf9-402a-a923-94e28c80995d\">\n",
              "    <div class=\"colab-df-container\">\n",
              "      <div>\n",
              "<style scoped>\n",
              "    .dataframe tbody tr th:only-of-type {\n",
              "        vertical-align: middle;\n",
              "    }\n",
              "\n",
              "    .dataframe tbody tr th {\n",
              "        vertical-align: top;\n",
              "    }\n",
              "\n",
              "    .dataframe thead th {\n",
              "        text-align: right;\n",
              "    }\n",
              "</style>\n",
              "<table border=\"1\" class=\"dataframe\">\n",
              "  <thead>\n",
              "    <tr style=\"text-align: right;\">\n",
              "      <th></th>\n",
              "      <th>User_ID</th>\n",
              "      <th>Product_ID</th>\n",
              "      <th>Gender</th>\n",
              "      <th>Age</th>\n",
              "      <th>Occupation</th>\n",
              "      <th>City_Category</th>\n",
              "      <th>Stay_In_Current_City_Years</th>\n",
              "      <th>Marital_Status</th>\n",
              "      <th>Product_Category_1</th>\n",
              "      <th>Product_Category_2</th>\n",
              "      <th>Product_Category_3</th>\n",
              "      <th>Purchase</th>\n",
              "    </tr>\n",
              "  </thead>\n",
              "  <tbody>\n",
              "    <tr>\n",
              "      <th>0</th>\n",
              "      <td>1000001</td>\n",
              "      <td>69042</td>\n",
              "      <td>0</td>\n",
              "      <td>0</td>\n",
              "      <td>10</td>\n",
              "      <td>0</td>\n",
              "      <td>2</td>\n",
              "      <td>0</td>\n",
              "      <td>3</td>\n",
              "      <td>0.0</td>\n",
              "      <td>0.0</td>\n",
              "      <td>8370</td>\n",
              "    </tr>\n",
              "    <tr>\n",
              "      <th>1</th>\n",
              "      <td>1000001</td>\n",
              "      <td>248942</td>\n",
              "      <td>0</td>\n",
              "      <td>0</td>\n",
              "      <td>10</td>\n",
              "      <td>0</td>\n",
              "      <td>2</td>\n",
              "      <td>0</td>\n",
              "      <td>1</td>\n",
              "      <td>6.0</td>\n",
              "      <td>14.0</td>\n",
              "      <td>15200</td>\n",
              "    </tr>\n",
              "    <tr>\n",
              "      <th>2</th>\n",
              "      <td>1000001</td>\n",
              "      <td>87842</td>\n",
              "      <td>0</td>\n",
              "      <td>0</td>\n",
              "      <td>10</td>\n",
              "      <td>0</td>\n",
              "      <td>2</td>\n",
              "      <td>0</td>\n",
              "      <td>12</td>\n",
              "      <td>0.0</td>\n",
              "      <td>0.0</td>\n",
              "      <td>1422</td>\n",
              "    </tr>\n",
              "    <tr>\n",
              "      <th>3</th>\n",
              "      <td>1000001</td>\n",
              "      <td>85442</td>\n",
              "      <td>0</td>\n",
              "      <td>0</td>\n",
              "      <td>10</td>\n",
              "      <td>0</td>\n",
              "      <td>2</td>\n",
              "      <td>0</td>\n",
              "      <td>12</td>\n",
              "      <td>14.0</td>\n",
              "      <td>0.0</td>\n",
              "      <td>1057</td>\n",
              "    </tr>\n",
              "    <tr>\n",
              "      <th>4</th>\n",
              "      <td>1000002</td>\n",
              "      <td>285442</td>\n",
              "      <td>1</td>\n",
              "      <td>6</td>\n",
              "      <td>16</td>\n",
              "      <td>2</td>\n",
              "      <td>4</td>\n",
              "      <td>0</td>\n",
              "      <td>8</td>\n",
              "      <td>0.0</td>\n",
              "      <td>0.0</td>\n",
              "      <td>7969</td>\n",
              "    </tr>\n",
              "  </tbody>\n",
              "</table>\n",
              "</div>\n",
              "      <button class=\"colab-df-convert\" onclick=\"convertToInteractive('df-74b4b891-eaf9-402a-a923-94e28c80995d')\"\n",
              "              title=\"Convert this dataframe to an interactive table.\"\n",
              "              style=\"display:none;\">\n",
              "        \n",
              "  <svg xmlns=\"http://www.w3.org/2000/svg\" height=\"24px\"viewBox=\"0 0 24 24\"\n",
              "       width=\"24px\">\n",
              "    <path d=\"M0 0h24v24H0V0z\" fill=\"none\"/>\n",
              "    <path d=\"M18.56 5.44l.94 2.06.94-2.06 2.06-.94-2.06-.94-.94-2.06-.94 2.06-2.06.94zm-11 1L8.5 8.5l.94-2.06 2.06-.94-2.06-.94L8.5 2.5l-.94 2.06-2.06.94zm10 10l.94 2.06.94-2.06 2.06-.94-2.06-.94-.94-2.06-.94 2.06-2.06.94z\"/><path d=\"M17.41 7.96l-1.37-1.37c-.4-.4-.92-.59-1.43-.59-.52 0-1.04.2-1.43.59L10.3 9.45l-7.72 7.72c-.78.78-.78 2.05 0 2.83L4 21.41c.39.39.9.59 1.41.59.51 0 1.02-.2 1.41-.59l7.78-7.78 2.81-2.81c.8-.78.8-2.07 0-2.86zM5.41 20L4 18.59l7.72-7.72 1.47 1.35L5.41 20z\"/>\n",
              "  </svg>\n",
              "      </button>\n",
              "      \n",
              "  <style>\n",
              "    .colab-df-container {\n",
              "      display:flex;\n",
              "      flex-wrap:wrap;\n",
              "      gap: 12px;\n",
              "    }\n",
              "\n",
              "    .colab-df-convert {\n",
              "      background-color: #E8F0FE;\n",
              "      border: none;\n",
              "      border-radius: 50%;\n",
              "      cursor: pointer;\n",
              "      display: none;\n",
              "      fill: #1967D2;\n",
              "      height: 32px;\n",
              "      padding: 0 0 0 0;\n",
              "      width: 32px;\n",
              "    }\n",
              "\n",
              "    .colab-df-convert:hover {\n",
              "      background-color: #E2EBFA;\n",
              "      box-shadow: 0px 1px 2px rgba(60, 64, 67, 0.3), 0px 1px 3px 1px rgba(60, 64, 67, 0.15);\n",
              "      fill: #174EA6;\n",
              "    }\n",
              "\n",
              "    [theme=dark] .colab-df-convert {\n",
              "      background-color: #3B4455;\n",
              "      fill: #D2E3FC;\n",
              "    }\n",
              "\n",
              "    [theme=dark] .colab-df-convert:hover {\n",
              "      background-color: #434B5C;\n",
              "      box-shadow: 0px 1px 3px 1px rgba(0, 0, 0, 0.15);\n",
              "      filter: drop-shadow(0px 1px 2px rgba(0, 0, 0, 0.3));\n",
              "      fill: #FFFFFF;\n",
              "    }\n",
              "  </style>\n",
              "\n",
              "      <script>\n",
              "        const buttonEl =\n",
              "          document.querySelector('#df-74b4b891-eaf9-402a-a923-94e28c80995d button.colab-df-convert');\n",
              "        buttonEl.style.display =\n",
              "          google.colab.kernel.accessAllowed ? 'block' : 'none';\n",
              "\n",
              "        async function convertToInteractive(key) {\n",
              "          const element = document.querySelector('#df-74b4b891-eaf9-402a-a923-94e28c80995d');\n",
              "          const dataTable =\n",
              "            await google.colab.kernel.invokeFunction('convertToInteractive',\n",
              "                                                     [key], {});\n",
              "          if (!dataTable) return;\n",
              "\n",
              "          const docLinkHtml = 'Like what you see? Visit the ' +\n",
              "            '<a target=\"_blank\" href=https://colab.research.google.com/notebooks/data_table.ipynb>data table notebook</a>'\n",
              "            + ' to learn more about interactive tables.';\n",
              "          element.innerHTML = '';\n",
              "          dataTable['output_type'] = 'display_data';\n",
              "          await google.colab.output.renderOutput(dataTable, element);\n",
              "          const docLink = document.createElement('div');\n",
              "          docLink.innerHTML = docLinkHtml;\n",
              "          element.appendChild(docLink);\n",
              "        }\n",
              "      </script>\n",
              "    </div>\n",
              "  </div>\n",
              "  "
            ]
          },
          "metadata": {},
          "execution_count": 22
        }
      ]
    },
    {
      "cell_type": "code",
      "source": [
        "df.corr()"
      ],
      "metadata": {
        "colab": {
          "base_uri": "https://localhost:8080/",
          "height": 490
        },
        "id": "etXSIlGGAfNJ",
        "outputId": "42c7d2ed-f245-431d-c15c-f1c7668b9762"
      },
      "execution_count": 23,
      "outputs": [
        {
          "output_type": "execute_result",
          "data": {
            "text/plain": [
              "                             User_ID  Product_ID    Gender       Age  \\\n",
              "User_ID                     1.000000   -0.017619 -0.033474  0.032698   \n",
              "Product_ID                 -0.017619    1.000000  0.021084  0.028892   \n",
              "Gender                     -0.033474    0.021084  1.000000 -0.004262   \n",
              "Age                         0.032698    0.028892 -0.004262  1.000000   \n",
              "Occupation                 -0.023971    0.009344  0.117291  0.091463   \n",
              "City_Category               0.022859    0.010162 -0.004515  0.123079   \n",
              "Stay_In_Current_City_Years -0.030737   -0.003162  0.014660 -0.004712   \n",
              "Marital_Status              0.020443    0.013194 -0.011603  0.311738   \n",
              "Product_Category_1          0.003825    0.090193 -0.045594  0.061197   \n",
              "Product_Category_2          0.003896   -0.090600 -0.000954  0.018770   \n",
              "Product_Category_3          0.003605   -0.144360  0.036146 -0.007422   \n",
              "Purchase                    0.004716   -0.103961  0.060346  0.015839   \n",
              "\n",
              "                            Occupation  City_Category  \\\n",
              "User_ID                      -0.023971       0.022859   \n",
              "Product_ID                    0.009344       0.010162   \n",
              "Gender                        0.117291      -0.004515   \n",
              "Age                           0.091463       0.123079   \n",
              "Occupation                    1.000000       0.034479   \n",
              "City_Category                 0.034479       1.000000   \n",
              "Stay_In_Current_City_Years    0.030005       0.019946   \n",
              "Marital_Status                0.024280       0.039790   \n",
              "Product_Category_1           -0.007618      -0.014364   \n",
              "Product_Category_2            0.006712       0.016003   \n",
              "Product_Category_3            0.012269       0.035525   \n",
              "Purchase                      0.020833       0.061914   \n",
              "\n",
              "                            Stay_In_Current_City_Years  Marital_Status  \\\n",
              "User_ID                                      -0.030737        0.020443   \n",
              "Product_ID                                   -0.003162        0.013194   \n",
              "Gender                                        0.014660       -0.011603   \n",
              "Age                                          -0.004712        0.311738   \n",
              "Occupation                                    0.030005        0.024280   \n",
              "City_Category                                 0.019946        0.039790   \n",
              "Stay_In_Current_City_Years                    1.000000       -0.012819   \n",
              "Marital_Status                               -0.012819        1.000000   \n",
              "Product_Category_1                           -0.004213        0.019888   \n",
              "Product_Category_2                            0.001262        0.001099   \n",
              "Product_Category_3                            0.001977       -0.004629   \n",
              "Purchase                                      0.005422       -0.000463   \n",
              "\n",
              "                            Product_Category_1  Product_Category_2  \\\n",
              "User_ID                               0.003825            0.003896   \n",
              "Product_ID                            0.090193           -0.090600   \n",
              "Gender                               -0.045594           -0.000954   \n",
              "Age                                   0.061197            0.018770   \n",
              "Occupation                           -0.007618            0.006712   \n",
              "City_Category                        -0.014364            0.016003   \n",
              "Stay_In_Current_City_Years           -0.004213            0.001262   \n",
              "Marital_Status                        0.019888            0.001099   \n",
              "Product_Category_1                    1.000000           -0.067877   \n",
              "Product_Category_2                   -0.067877            1.000000   \n",
              "Product_Category_3                   -0.385534            0.094750   \n",
              "Purchase                             -0.343703            0.052288   \n",
              "\n",
              "                            Product_Category_3  Purchase  \n",
              "User_ID                               0.003605  0.004716  \n",
              "Product_ID                           -0.144360 -0.103961  \n",
              "Gender                                0.036146  0.060346  \n",
              "Age                                  -0.007422  0.015839  \n",
              "Occupation                            0.012269  0.020833  \n",
              "City_Category                         0.035525  0.061914  \n",
              "Stay_In_Current_City_Years            0.001977  0.005422  \n",
              "Marital_Status                       -0.004629 -0.000463  \n",
              "Product_Category_1                   -0.385534 -0.343703  \n",
              "Product_Category_2                    0.094750  0.052288  \n",
              "Product_Category_3                    1.000000  0.288501  \n",
              "Purchase                              0.288501  1.000000  "
            ],
            "text/html": [
              "\n",
              "  <div id=\"df-211665c5-bc67-4a24-bda0-e0f5da465afb\">\n",
              "    <div class=\"colab-df-container\">\n",
              "      <div>\n",
              "<style scoped>\n",
              "    .dataframe tbody tr th:only-of-type {\n",
              "        vertical-align: middle;\n",
              "    }\n",
              "\n",
              "    .dataframe tbody tr th {\n",
              "        vertical-align: top;\n",
              "    }\n",
              "\n",
              "    .dataframe thead th {\n",
              "        text-align: right;\n",
              "    }\n",
              "</style>\n",
              "<table border=\"1\" class=\"dataframe\">\n",
              "  <thead>\n",
              "    <tr style=\"text-align: right;\">\n",
              "      <th></th>\n",
              "      <th>User_ID</th>\n",
              "      <th>Product_ID</th>\n",
              "      <th>Gender</th>\n",
              "      <th>Age</th>\n",
              "      <th>Occupation</th>\n",
              "      <th>City_Category</th>\n",
              "      <th>Stay_In_Current_City_Years</th>\n",
              "      <th>Marital_Status</th>\n",
              "      <th>Product_Category_1</th>\n",
              "      <th>Product_Category_2</th>\n",
              "      <th>Product_Category_3</th>\n",
              "      <th>Purchase</th>\n",
              "    </tr>\n",
              "  </thead>\n",
              "  <tbody>\n",
              "    <tr>\n",
              "      <th>User_ID</th>\n",
              "      <td>1.000000</td>\n",
              "      <td>-0.017619</td>\n",
              "      <td>-0.033474</td>\n",
              "      <td>0.032698</td>\n",
              "      <td>-0.023971</td>\n",
              "      <td>0.022859</td>\n",
              "      <td>-0.030737</td>\n",
              "      <td>0.020443</td>\n",
              "      <td>0.003825</td>\n",
              "      <td>0.003896</td>\n",
              "      <td>0.003605</td>\n",
              "      <td>0.004716</td>\n",
              "    </tr>\n",
              "    <tr>\n",
              "      <th>Product_ID</th>\n",
              "      <td>-0.017619</td>\n",
              "      <td>1.000000</td>\n",
              "      <td>0.021084</td>\n",
              "      <td>0.028892</td>\n",
              "      <td>0.009344</td>\n",
              "      <td>0.010162</td>\n",
              "      <td>-0.003162</td>\n",
              "      <td>0.013194</td>\n",
              "      <td>0.090193</td>\n",
              "      <td>-0.090600</td>\n",
              "      <td>-0.144360</td>\n",
              "      <td>-0.103961</td>\n",
              "    </tr>\n",
              "    <tr>\n",
              "      <th>Gender</th>\n",
              "      <td>-0.033474</td>\n",
              "      <td>0.021084</td>\n",
              "      <td>1.000000</td>\n",
              "      <td>-0.004262</td>\n",
              "      <td>0.117291</td>\n",
              "      <td>-0.004515</td>\n",
              "      <td>0.014660</td>\n",
              "      <td>-0.011603</td>\n",
              "      <td>-0.045594</td>\n",
              "      <td>-0.000954</td>\n",
              "      <td>0.036146</td>\n",
              "      <td>0.060346</td>\n",
              "    </tr>\n",
              "    <tr>\n",
              "      <th>Age</th>\n",
              "      <td>0.032698</td>\n",
              "      <td>0.028892</td>\n",
              "      <td>-0.004262</td>\n",
              "      <td>1.000000</td>\n",
              "      <td>0.091463</td>\n",
              "      <td>0.123079</td>\n",
              "      <td>-0.004712</td>\n",
              "      <td>0.311738</td>\n",
              "      <td>0.061197</td>\n",
              "      <td>0.018770</td>\n",
              "      <td>-0.007422</td>\n",
              "      <td>0.015839</td>\n",
              "    </tr>\n",
              "    <tr>\n",
              "      <th>Occupation</th>\n",
              "      <td>-0.023971</td>\n",
              "      <td>0.009344</td>\n",
              "      <td>0.117291</td>\n",
              "      <td>0.091463</td>\n",
              "      <td>1.000000</td>\n",
              "      <td>0.034479</td>\n",
              "      <td>0.030005</td>\n",
              "      <td>0.024280</td>\n",
              "      <td>-0.007618</td>\n",
              "      <td>0.006712</td>\n",
              "      <td>0.012269</td>\n",
              "      <td>0.020833</td>\n",
              "    </tr>\n",
              "    <tr>\n",
              "      <th>City_Category</th>\n",
              "      <td>0.022859</td>\n",
              "      <td>0.010162</td>\n",
              "      <td>-0.004515</td>\n",
              "      <td>0.123079</td>\n",
              "      <td>0.034479</td>\n",
              "      <td>1.000000</td>\n",
              "      <td>0.019946</td>\n",
              "      <td>0.039790</td>\n",
              "      <td>-0.014364</td>\n",
              "      <td>0.016003</td>\n",
              "      <td>0.035525</td>\n",
              "      <td>0.061914</td>\n",
              "    </tr>\n",
              "    <tr>\n",
              "      <th>Stay_In_Current_City_Years</th>\n",
              "      <td>-0.030737</td>\n",
              "      <td>-0.003162</td>\n",
              "      <td>0.014660</td>\n",
              "      <td>-0.004712</td>\n",
              "      <td>0.030005</td>\n",
              "      <td>0.019946</td>\n",
              "      <td>1.000000</td>\n",
              "      <td>-0.012819</td>\n",
              "      <td>-0.004213</td>\n",
              "      <td>0.001262</td>\n",
              "      <td>0.001977</td>\n",
              "      <td>0.005422</td>\n",
              "    </tr>\n",
              "    <tr>\n",
              "      <th>Marital_Status</th>\n",
              "      <td>0.020443</td>\n",
              "      <td>0.013194</td>\n",
              "      <td>-0.011603</td>\n",
              "      <td>0.311738</td>\n",
              "      <td>0.024280</td>\n",
              "      <td>0.039790</td>\n",
              "      <td>-0.012819</td>\n",
              "      <td>1.000000</td>\n",
              "      <td>0.019888</td>\n",
              "      <td>0.001099</td>\n",
              "      <td>-0.004629</td>\n",
              "      <td>-0.000463</td>\n",
              "    </tr>\n",
              "    <tr>\n",
              "      <th>Product_Category_1</th>\n",
              "      <td>0.003825</td>\n",
              "      <td>0.090193</td>\n",
              "      <td>-0.045594</td>\n",
              "      <td>0.061197</td>\n",
              "      <td>-0.007618</td>\n",
              "      <td>-0.014364</td>\n",
              "      <td>-0.004213</td>\n",
              "      <td>0.019888</td>\n",
              "      <td>1.000000</td>\n",
              "      <td>-0.067877</td>\n",
              "      <td>-0.385534</td>\n",
              "      <td>-0.343703</td>\n",
              "    </tr>\n",
              "    <tr>\n",
              "      <th>Product_Category_2</th>\n",
              "      <td>0.003896</td>\n",
              "      <td>-0.090600</td>\n",
              "      <td>-0.000954</td>\n",
              "      <td>0.018770</td>\n",
              "      <td>0.006712</td>\n",
              "      <td>0.016003</td>\n",
              "      <td>0.001262</td>\n",
              "      <td>0.001099</td>\n",
              "      <td>-0.067877</td>\n",
              "      <td>1.000000</td>\n",
              "      <td>0.094750</td>\n",
              "      <td>0.052288</td>\n",
              "    </tr>\n",
              "    <tr>\n",
              "      <th>Product_Category_3</th>\n",
              "      <td>0.003605</td>\n",
              "      <td>-0.144360</td>\n",
              "      <td>0.036146</td>\n",
              "      <td>-0.007422</td>\n",
              "      <td>0.012269</td>\n",
              "      <td>0.035525</td>\n",
              "      <td>0.001977</td>\n",
              "      <td>-0.004629</td>\n",
              "      <td>-0.385534</td>\n",
              "      <td>0.094750</td>\n",
              "      <td>1.000000</td>\n",
              "      <td>0.288501</td>\n",
              "    </tr>\n",
              "    <tr>\n",
              "      <th>Purchase</th>\n",
              "      <td>0.004716</td>\n",
              "      <td>-0.103961</td>\n",
              "      <td>0.060346</td>\n",
              "      <td>0.015839</td>\n",
              "      <td>0.020833</td>\n",
              "      <td>0.061914</td>\n",
              "      <td>0.005422</td>\n",
              "      <td>-0.000463</td>\n",
              "      <td>-0.343703</td>\n",
              "      <td>0.052288</td>\n",
              "      <td>0.288501</td>\n",
              "      <td>1.000000</td>\n",
              "    </tr>\n",
              "  </tbody>\n",
              "</table>\n",
              "</div>\n",
              "      <button class=\"colab-df-convert\" onclick=\"convertToInteractive('df-211665c5-bc67-4a24-bda0-e0f5da465afb')\"\n",
              "              title=\"Convert this dataframe to an interactive table.\"\n",
              "              style=\"display:none;\">\n",
              "        \n",
              "  <svg xmlns=\"http://www.w3.org/2000/svg\" height=\"24px\"viewBox=\"0 0 24 24\"\n",
              "       width=\"24px\">\n",
              "    <path d=\"M0 0h24v24H0V0z\" fill=\"none\"/>\n",
              "    <path d=\"M18.56 5.44l.94 2.06.94-2.06 2.06-.94-2.06-.94-.94-2.06-.94 2.06-2.06.94zm-11 1L8.5 8.5l.94-2.06 2.06-.94-2.06-.94L8.5 2.5l-.94 2.06-2.06.94zm10 10l.94 2.06.94-2.06 2.06-.94-2.06-.94-.94-2.06-.94 2.06-2.06.94z\"/><path d=\"M17.41 7.96l-1.37-1.37c-.4-.4-.92-.59-1.43-.59-.52 0-1.04.2-1.43.59L10.3 9.45l-7.72 7.72c-.78.78-.78 2.05 0 2.83L4 21.41c.39.39.9.59 1.41.59.51 0 1.02-.2 1.41-.59l7.78-7.78 2.81-2.81c.8-.78.8-2.07 0-2.86zM5.41 20L4 18.59l7.72-7.72 1.47 1.35L5.41 20z\"/>\n",
              "  </svg>\n",
              "      </button>\n",
              "      \n",
              "  <style>\n",
              "    .colab-df-container {\n",
              "      display:flex;\n",
              "      flex-wrap:wrap;\n",
              "      gap: 12px;\n",
              "    }\n",
              "\n",
              "    .colab-df-convert {\n",
              "      background-color: #E8F0FE;\n",
              "      border: none;\n",
              "      border-radius: 50%;\n",
              "      cursor: pointer;\n",
              "      display: none;\n",
              "      fill: #1967D2;\n",
              "      height: 32px;\n",
              "      padding: 0 0 0 0;\n",
              "      width: 32px;\n",
              "    }\n",
              "\n",
              "    .colab-df-convert:hover {\n",
              "      background-color: #E2EBFA;\n",
              "      box-shadow: 0px 1px 2px rgba(60, 64, 67, 0.3), 0px 1px 3px 1px rgba(60, 64, 67, 0.15);\n",
              "      fill: #174EA6;\n",
              "    }\n",
              "\n",
              "    [theme=dark] .colab-df-convert {\n",
              "      background-color: #3B4455;\n",
              "      fill: #D2E3FC;\n",
              "    }\n",
              "\n",
              "    [theme=dark] .colab-df-convert:hover {\n",
              "      background-color: #434B5C;\n",
              "      box-shadow: 0px 1px 3px 1px rgba(0, 0, 0, 0.15);\n",
              "      filter: drop-shadow(0px 1px 2px rgba(0, 0, 0, 0.3));\n",
              "      fill: #FFFFFF;\n",
              "    }\n",
              "  </style>\n",
              "\n",
              "      <script>\n",
              "        const buttonEl =\n",
              "          document.querySelector('#df-211665c5-bc67-4a24-bda0-e0f5da465afb button.colab-df-convert');\n",
              "        buttonEl.style.display =\n",
              "          google.colab.kernel.accessAllowed ? 'block' : 'none';\n",
              "\n",
              "        async function convertToInteractive(key) {\n",
              "          const element = document.querySelector('#df-211665c5-bc67-4a24-bda0-e0f5da465afb');\n",
              "          const dataTable =\n",
              "            await google.colab.kernel.invokeFunction('convertToInteractive',\n",
              "                                                     [key], {});\n",
              "          if (!dataTable) return;\n",
              "\n",
              "          const docLinkHtml = 'Like what you see? Visit the ' +\n",
              "            '<a target=\"_blank\" href=https://colab.research.google.com/notebooks/data_table.ipynb>data table notebook</a>'\n",
              "            + ' to learn more about interactive tables.';\n",
              "          element.innerHTML = '';\n",
              "          dataTable['output_type'] = 'display_data';\n",
              "          await google.colab.output.renderOutput(dataTable, element);\n",
              "          const docLink = document.createElement('div');\n",
              "          docLink.innerHTML = docLinkHtml;\n",
              "          element.appendChild(docLink);\n",
              "        }\n",
              "      </script>\n",
              "    </div>\n",
              "  </div>\n",
              "  "
            ]
          },
          "metadata": {},
          "execution_count": 23
        }
      ]
    },
    {
      "cell_type": "code",
      "source": [
        "sns.heatmap(df.corr())"
      ],
      "metadata": {
        "colab": {
          "base_uri": "https://localhost:8080/",
          "height": 411
        },
        "id": "Y7LX3jSmAkeZ",
        "outputId": "e5ef9cb2-81e0-4fd8-c919-05a290ddf48c"
      },
      "execution_count": 24,
      "outputs": [
        {
          "output_type": "execute_result",
          "data": {
            "text/plain": [
              "<matplotlib.axes._subplots.AxesSubplot at 0x7ffa0d9f9910>"
            ]
          },
          "metadata": {},
          "execution_count": 24
        },
        {
          "output_type": "display_data",
          "data": {
            "text/plain": [
              "<Figure size 432x288 with 2 Axes>"
            ],
            "image/png": "[encoded data removed]"
          },
          "metadata": {
            "needs_background": "light"
          }
        }
      ]
    },
    {
      "cell_type": "code",
      "source": [
        "plt.hist(df.Product_ID) #histogram"
      ],
      "metadata": {
        "colab": {
          "base_uri": "https://localhost:8080/",
          "height": 372
        },
        "id": "Is9qph1fAsEZ",
        "outputId": "5986b42c-609c-4b68-d23f-ec5fce4a5e60"
      },
      "execution_count": 25,
      "outputs": [
        {
          "output_type": "execute_result",
          "data": {
            "text/plain": [
              "(array([60327., 48459., 66463., 76687., 54864., 57198., 52979., 52154.,\n",
              "        44289., 36648.]),\n",
              " array([1.420000e+02, 3.767140e+04, 7.520080e+04, 1.127302e+05,\n",
              "        1.502596e+05, 1.877890e+05, 2.253184e+05, 2.628478e+05,\n",
              "        3.003772e+05, 3.379066e+05, 3.754360e+05]),\n",
              " <a list of 10 Patch objects>)"
            ]
          },
          "metadata": {},
          "execution_count": 25
        },
        {
          "output_type": "display_data",
          "data": {
            "text/plain": [
              "<Figure size 432x288 with 1 Axes>"
            ],
            "image/png": "[encoded data removed]"
          },
          "metadata": {
            "needs_background": "light"
          }
        }
      ]
    },
    {
      "cell_type": "code",
      "source": [
        "plt.boxplot(df.Product_ID)"
      ],
      "metadata": {
        "colab": {
          "base_uri": "https://localhost:8080/",
          "height": 404
        },
        "id": "MXdBSWw0GDIo",
        "outputId": "2f75ef8e-ff17-4ce7-f4ae-4460f166fd0d"
      },
      "execution_count": 26,
      "outputs": [
        {
          "output_type": "execute_result",
          "data": {
            "text/plain": [
              "{'whiskers': [<matplotlib.lines.Line2D at 0x7ffa0ee11850>,\n",
              "  <matplotlib.lines.Line2D at 0x7ffa0ee11d90>],\n",
              " 'caps': [<matplotlib.lines.Line2D at 0x7ffa0ee18310>,\n",
              "  <matplotlib.lines.Line2D at 0x7ffa0ee18850>],\n",
              " 'boxes': [<matplotlib.lines.Line2D at 0x7ffa0ee11310>],\n",
              " 'medians': [<matplotlib.lines.Line2D at 0x7ffa0ee18dd0>],\n",
              " 'fliers': [<matplotlib.lines.Line2D at 0x7ffa0eda0350>],\n",
              " 'means': []}"
            ]
          },
          "metadata": {},
          "execution_count": 26
        },
        {
          "output_type": "display_data",
          "data": {
            "text/plain": [
              "<Figure size 432x288 with 1 Axes>"
            ],
            "image/png": "[encoded data removed]"
          },
          "metadata": {
            "needs_background": "light"
          }
        }
      ]
    },
    {
      "cell_type": "code",
      "source": [
        "stats.probplot(df.Purchase, dist = \"norm\", plot = pylab)\n",
        "plt.show()"
      ],
      "metadata": {
        "id": "BpPaPSIaGxNi",
        "outputId": "6178c524-76a8-4b80-8250-f639041d794b",
        "colab": {
          "base_uri": "https://localhost:8080/",
          "height": 295
        }
      },
      "execution_count": 27,
      "outputs": [
        {
          "output_type": "display_data",
          "data": {
            "text/plain": [
              "<Figure size 432x288 with 1 Axes>"
            ],
            "image/png": "[encoded data removed]"
          },
          "metadata": {
            "needs_background": "light"
          }
        }
      ]
    },
    {
      "cell_type": "code",
      "source": [
        "#sns.pairplot(df.iloc[:, :])"
      ],
      "metadata": {
        "id": "UaJhjXwZHCzq"
      },
      "execution_count": 28,
      "outputs": []
    },
    {
      "cell_type": "code",
      "source": [
        "mlr_model_df=df.drop(columns=['User_ID','Product_ID'])\n",
        "mlr_model_df.head()"
      ],
      "metadata": {
        "id": "wjpxxztSsR1D",
        "outputId": "70bcaf16-aefd-4548-e112-0903ebdee4f4",
        "colab": {
          "base_uri": "https://localhost:8080/",
          "height": 270
        }
      },
      "execution_count": 29,
      "outputs": [
        {
          "output_type": "execute_result",
          "data": {
            "text/plain": [
              "   Gender  Age  Occupation  City_Category  Stay_In_Current_City_Years  \\\n",
              "0       0    0          10              0                           2   \n",
              "1       0    0          10              0                           2   \n",
              "2       0    0          10              0                           2   \n",
              "3       0    0          10              0                           2   \n",
              "4       1    6          16              2                           4   \n",
              "\n",
              "   Marital_Status  Product_Category_1  Product_Category_2  Product_Category_3  \\\n",
              "0               0                   3                 0.0                 0.0   \n",
              "1               0                   1                 6.0                14.0   \n",
              "2               0                  12                 0.0                 0.0   \n",
              "3               0                  12                14.0                 0.0   \n",
              "4               0                   8                 0.0                 0.0   \n",
              "\n",
              "   Purchase  \n",
              "0      8370  \n",
              "1     15200  \n",
              "2      1422  \n",
              "3      1057  \n",
              "4      7969  "
            ],
            "text/html": [
              "\n",
              "  <div id=\"df-d7e8637f-e86f-43b8-8d11-cd8953a187e0\">\n",
              "    <div class=\"colab-df-container\">\n",
              "      <div>\n",
              "<style scoped>\n",
              "    .dataframe tbody tr th:only-of-type {\n",
              "        vertical-align: middle;\n",
              "    }\n",
              "\n",
              "    .dataframe tbody tr th {\n",
              "        vertical-align: top;\n",
              "    }\n",
              "\n",
              "    .dataframe thead th {\n",
              "        text-align: right;\n",
              "    }\n",
              "</style>\n",
              "<table border=\"1\" class=\"dataframe\">\n",
              "  <thead>\n",
              "    <tr style=\"text-align: right;\">\n",
              "      <th></th>\n",
              "      <th>Gender</th>\n",
              "      <th>Age</th>\n",
              "      <th>Occupation</th>\n",
              "      <th>City_Category</th>\n",
              "      <th>Stay_In_Current_City_Years</th>\n",
              "      <th>Marital_Status</th>\n",
              "      <th>Product_Category_1</th>\n",
              "      <th>Product_Category_2</th>\n",
              "      <th>Product_Category_3</th>\n",
              "      <th>Purchase</th>\n",
              "    </tr>\n",
              "  </thead>\n",
              "  <tbody>\n",
              "    <tr>\n",
              "      <th>0</th>\n",
              "      <td>0</td>\n",
              "      <td>0</td>\n",
              "      <td>10</td>\n",
              "      <td>0</td>\n",
              "      <td>2</td>\n",
              "      <td>0</td>\n",
              "      <td>3</td>\n",
              "      <td>0.0</td>\n",
              "      <td>0.0</td>\n",
              "      <td>8370</td>\n",
              "    </tr>\n",
              "    <tr>\n",
              "      <th>1</th>\n",
              "      <td>0</td>\n",
              "      <td>0</td>\n",
              "      <td>10</td>\n",
              "      <td>0</td>\n",
              "      <td>2</td>\n",
              "      <td>0</td>\n",
              "      <td>1</td>\n",
              "      <td>6.0</td>\n",
              "      <td>14.0</td>\n",
              "      <td>15200</td>\n",
              "    </tr>\n",
              "    <tr>\n",
              "      <th>2</th>\n",
              "      <td>0</td>\n",
              "      <td>0</td>\n",
              "      <td>10</td>\n",
              "      <td>0</td>\n",
              "      <td>2</td>\n",
              "      <td>0</td>\n",
              "      <td>12</td>\n",
              "      <td>0.0</td>\n",
              "      <td>0.0</td>\n",
              "      <td>1422</td>\n",
              "    </tr>\n",
              "    <tr>\n",
              "      <th>3</th>\n",
              "      <td>0</td>\n",
              "      <td>0</td>\n",
              "      <td>10</td>\n",
              "      <td>0</td>\n",
              "      <td>2</td>\n",
              "      <td>0</td>\n",
              "      <td>12</td>\n",
              "      <td>14.0</td>\n",
              "      <td>0.0</td>\n",
              "      <td>1057</td>\n",
              "    </tr>\n",
              "    <tr>\n",
              "      <th>4</th>\n",
              "      <td>1</td>\n",
              "      <td>6</td>\n",
              "      <td>16</td>\n",
              "      <td>2</td>\n",
              "      <td>4</td>\n",
              "      <td>0</td>\n",
              "      <td>8</td>\n",
              "      <td>0.0</td>\n",
              "      <td>0.0</td>\n",
              "      <td>7969</td>\n",
              "    </tr>\n",
              "  </tbody>\n",
              "</table>\n",
              "</div>\n",
              "      <button class=\"colab-df-convert\" onclick=\"convertToInteractive('df-d7e8637f-e86f-43b8-8d11-cd8953a187e0')\"\n",
              "              title=\"Convert this dataframe to an interactive table.\"\n",
              "              style=\"display:none;\">\n",
              "        \n",
              "  <svg xmlns=\"http://www.w3.org/2000/svg\" height=\"24px\"viewBox=\"0 0 24 24\"\n",
              "       width=\"24px\">\n",
              "    <path d=\"M0 0h24v24H0V0z\" fill=\"none\"/>\n",
              "    <path d=\"M18.56 5.44l.94 2.06.94-2.06 2.06-.94-2.06-.94-.94-2.06-.94 2.06-2.06.94zm-11 1L8.5 8.5l.94-2.06 2.06-.94-2.06-.94L8.5 2.5l-.94 2.06-2.06.94zm10 10l.94 2.06.94-2.06 2.06-.94-2.06-.94-.94-2.06-.94 2.06-2.06.94z\"/><path d=\"M17.41 7.96l-1.37-1.37c-.4-.4-.92-.59-1.43-.59-.52 0-1.04.2-1.43.59L10.3 9.45l-7.72 7.72c-.78.78-.78 2.05 0 2.83L4 21.41c.39.39.9.59 1.41.59.51 0 1.02-.2 1.41-.59l7.78-7.78 2.81-2.81c.8-.78.8-2.07 0-2.86zM5.41 20L4 18.59l7.72-7.72 1.47 1.35L5.41 20z\"/>\n",
              "  </svg>\n",
              "      </button>\n",
              "      \n",
              "  <style>\n",
              "    .colab-df-container {\n",
              "      display:flex;\n",
              "      flex-wrap:wrap;\n",
              "      gap: 12px;\n",
              "    }\n",
              "\n",
              "    .colab-df-convert {\n",
              "      background-color: #E8F0FE;\n",
              "      border: none;\n",
              "      border-radius: 50%;\n",
              "      cursor: pointer;\n",
              "      display: none;\n",
              "      fill: #1967D2;\n",
              "      height: 32px;\n",
              "      padding: 0 0 0 0;\n",
              "      width: 32px;\n",
              "    }\n",
              "\n",
              "    .colab-df-convert:hover {\n",
              "      background-color: #E2EBFA;\n",
              "      box-shadow: 0px 1px 2px rgba(60, 64, 67, 0.3), 0px 1px 3px 1px rgba(60, 64, 67, 0.15);\n",
              "      fill: #174EA6;\n",
              "    }\n",
              "\n",
              "    [theme=dark] .colab-df-convert {\n",
              "      background-color: #3B4455;\n",
              "      fill: #D2E3FC;\n",
              "    }\n",
              "\n",
              "    [theme=dark] .colab-df-convert:hover {\n",
              "      background-color: #434B5C;\n",
              "      box-shadow: 0px 1px 3px 1px rgba(0, 0, 0, 0.15);\n",
              "      filter: drop-shadow(0px 1px 2px rgba(0, 0, 0, 0.3));\n",
              "      fill: #FFFFFF;\n",
              "    }\n",
              "  </style>\n",
              "\n",
              "      <script>\n",
              "        const buttonEl =\n",
              "          document.querySelector('#df-d7e8637f-e86f-43b8-8d11-cd8953a187e0 button.colab-df-convert');\n",
              "        buttonEl.style.display =\n",
              "          google.colab.kernel.accessAllowed ? 'block' : 'none';\n",
              "\n",
              "        async function convertToInteractive(key) {\n",
              "          const element = document.querySelector('#df-d7e8637f-e86f-43b8-8d11-cd8953a187e0');\n",
              "          const dataTable =\n",
              "            await google.colab.kernel.invokeFunction('convertToInteractive',\n",
              "                                                     [key], {});\n",
              "          if (!dataTable) return;\n",
              "\n",
              "          const docLinkHtml = 'Like what you see? Visit the ' +\n",
              "            '<a target=\"_blank\" href=https://colab.research.google.com/notebooks/data_table.ipynb>data table notebook</a>'\n",
              "            + ' to learn more about interactive tables.';\n",
              "          element.innerHTML = '';\n",
              "          dataTable['output_type'] = 'display_data';\n",
              "          await google.colab.output.renderOutput(dataTable, element);\n",
              "          const docLink = document.createElement('div');\n",
              "          docLink.innerHTML = docLinkHtml;\n",
              "          element.appendChild(docLink);\n",
              "        }\n",
              "      </script>\n",
              "    </div>\n",
              "  </div>\n",
              "  "
            ]
          },
          "metadata": {},
          "execution_count": 29
        }
      ]
    },
    {
      "cell_type": "code",
      "source": [
        "nm=MinMaxScaler()"
      ],
      "metadata": {
        "id": "bzyGR0sd23Lp"
      },
      "execution_count": 30,
      "outputs": []
    },
    {
      "cell_type": "code",
      "source": [
        "mlr_columns=mlr_model_df.columns\n",
        "mlr_columns"
      ],
      "metadata": {
        "id": "KTfbwXq43hLR",
        "outputId": "1e75267d-3c04-4e17-b58c-c79993354696",
        "colab": {
          "base_uri": "https://localhost:8080/"
        }
      },
      "execution_count": 31,
      "outputs": [
        {
          "output_type": "execute_result",
          "data": {
            "text/plain": [
              "Index(['Gender', 'Age', 'Occupation', 'City_Category',\n",
              "       'Stay_In_Current_City_Years', 'Marital_Status', 'Product_Category_1',\n",
              "       'Product_Category_2', 'Product_Category_3', 'Purchase'],\n",
              "      dtype='object')"
            ]
          },
          "metadata": {},
          "execution_count": 31
        }
      ]
    },
    {
      "cell_type": "code",
      "source": [
        "mlr_model_df.head()"
      ],
      "metadata": {
        "id": "uxxog7ElbfzS",
        "outputId": "4fd8bc09-7c02-413b-903c-dd5b073e8b45",
        "colab": {
          "base_uri": "https://localhost:8080/",
          "height": 270
        }
      },
      "execution_count": 32,
      "outputs": [
        {
          "output_type": "execute_result",
          "data": {
            "text/plain": [
              "   Gender  Age  Occupation  City_Category  Stay_In_Current_City_Years  \\\n",
              "0       0    0          10              0                           2   \n",
              "1       0    0          10              0                           2   \n",
              "2       0    0          10              0                           2   \n",
              "3       0    0          10              0                           2   \n",
              "4       1    6          16              2                           4   \n",
              "\n",
              "   Marital_Status  Product_Category_1  Product_Category_2  Product_Category_3  \\\n",
              "0               0                   3                 0.0                 0.0   \n",
              "1               0                   1                 6.0                14.0   \n",
              "2               0                  12                 0.0                 0.0   \n",
              "3               0                  12                14.0                 0.0   \n",
              "4               0                   8                 0.0                 0.0   \n",
              "\n",
              "   Purchase  \n",
              "0      8370  \n",
              "1     15200  \n",
              "2      1422  \n",
              "3      1057  \n",
              "4      7969  "
            ],
            "text/html": [
              "\n",
              "  <div id=\"df-f819b5a9-2cd0-41cc-9883-2f4126839bfc\">\n",
              "    <div class=\"colab-df-container\">\n",
              "      <div>\n",
              "<style scoped>\n",
              "    .dataframe tbody tr th:only-of-type {\n",
              "        vertical-align: middle;\n",
              "    }\n",
              "\n",
              "    .dataframe tbody tr th {\n",
              "        vertical-align: top;\n",
              "    }\n",
              "\n",
              "    .dataframe thead th {\n",
              "        text-align: right;\n",
              "    }\n",
              "</style>\n",
              "<table border=\"1\" class=\"dataframe\">\n",
              "  <thead>\n",
              "    <tr style=\"text-align: right;\">\n",
              "      <th></th>\n",
              "      <th>Gender</th>\n",
              "      <th>Age</th>\n",
              "      <th>Occupation</th>\n",
              "      <th>City_Category</th>\n",
              "      <th>Stay_In_Current_City_Years</th>\n",
              "      <th>Marital_Status</th>\n",
              "      <th>Product_Category_1</th>\n",
              "      <th>Product_Category_2</th>\n",
              "      <th>Product_Category_3</th>\n",
              "      <th>Purchase</th>\n",
              "    </tr>\n",
              "  </thead>\n",
              "  <tbody>\n",
              "    <tr>\n",
              "      <th>0</th>\n",
              "      <td>0</td>\n",
              "      <td>0</td>\n",
              "      <td>10</td>\n",
              "      <td>0</td>\n",
              "      <td>2</td>\n",
              "      <td>0</td>\n",
              "      <td>3</td>\n",
              "      <td>0.0</td>\n",
              "      <td>0.0</td>\n",
              "      <td>8370</td>\n",
              "    </tr>\n",
              "    <tr>\n",
              "      <th>1</th>\n",
              "      <td>0</td>\n",
              "      <td>0</td>\n",
              "      <td>10</td>\n",
              "      <td>0</td>\n",
              "      <td>2</td>\n",
              "      <td>0</td>\n",
              "      <td>1</td>\n",
              "      <td>6.0</td>\n",
              "      <td>14.0</td>\n",
              "      <td>15200</td>\n",
              "    </tr>\n",
              "    <tr>\n",
              "      <th>2</th>\n",
              "      <td>0</td>\n",
              "      <td>0</td>\n",
              "      <td>10</td>\n",
              "      <td>0</td>\n",
              "      <td>2</td>\n",
              "      <td>0</td>\n",
              "      <td>12</td>\n",
              "      <td>0.0</td>\n",
              "      <td>0.0</td>\n",
              "      <td>1422</td>\n",
              "    </tr>\n",
              "    <tr>\n",
              "      <th>3</th>\n",
              "      <td>0</td>\n",
              "      <td>0</td>\n",
              "      <td>10</td>\n",
              "      <td>0</td>\n",
              "      <td>2</td>\n",
              "      <td>0</td>\n",
              "      <td>12</td>\n",
              "      <td>14.0</td>\n",
              "      <td>0.0</td>\n",
              "      <td>1057</td>\n",
              "    </tr>\n",
              "    <tr>\n",
              "      <th>4</th>\n",
              "      <td>1</td>\n",
              "      <td>6</td>\n",
              "      <td>16</td>\n",
              "      <td>2</td>\n",
              "      <td>4</td>\n",
              "      <td>0</td>\n",
              "      <td>8</td>\n",
              "      <td>0.0</td>\n",
              "      <td>0.0</td>\n",
              "      <td>7969</td>\n",
              "    </tr>\n",
              "  </tbody>\n",
              "</table>\n",
              "</div>\n",
              "      <button class=\"colab-df-convert\" onclick=\"convertToInteractive('df-f819b5a9-2cd0-41cc-9883-2f4126839bfc')\"\n",
              "              title=\"Convert this dataframe to an interactive table.\"\n",
              "              style=\"display:none;\">\n",
              "        \n",
              "  <svg xmlns=\"http://www.w3.org/2000/svg\" height=\"24px\"viewBox=\"0 0 24 24\"\n",
              "       width=\"24px\">\n",
              "    <path d=\"M0 0h24v24H0V0z\" fill=\"none\"/>\n",
              "    <path d=\"M18.56 5.44l.94 2.06.94-2.06 2.06-.94-2.06-.94-.94-2.06-.94 2.06-2.06.94zm-11 1L8.5 8.5l.94-2.06 2.06-.94-2.06-.94L8.5 2.5l-.94 2.06-2.06.94zm10 10l.94 2.06.94-2.06 2.06-.94-2.06-.94-.94-2.06-.94 2.06-2.06.94z\"/><path d=\"M17.41 7.96l-1.37-1.37c-.4-.4-.92-.59-1.43-.59-.52 0-1.04.2-1.43.59L10.3 9.45l-7.72 7.72c-.78.78-.78 2.05 0 2.83L4 21.41c.39.39.9.59 1.41.59.51 0 1.02-.2 1.41-.59l7.78-7.78 2.81-2.81c.8-.78.8-2.07 0-2.86zM5.41 20L4 18.59l7.72-7.72 1.47 1.35L5.41 20z\"/>\n",
              "  </svg>\n",
              "      </button>\n",
              "      \n",
              "  <style>\n",
              "    .colab-df-container {\n",
              "      display:flex;\n",
              "      flex-wrap:wrap;\n",
              "      gap: 12px;\n",
              "    }\n",
              "\n",
              "    .colab-df-convert {\n",
              "      background-color: #E8F0FE;\n",
              "      border: none;\n",
              "      border-radius: 50%;\n",
              "      cursor: pointer;\n",
              "      display: none;\n",
              "      fill: #1967D2;\n",
              "      height: 32px;\n",
              "      padding: 0 0 0 0;\n",
              "      width: 32px;\n",
              "    }\n",
              "\n",
              "    .colab-df-convert:hover {\n",
              "      background-color: #E2EBFA;\n",
              "      box-shadow: 0px 1px 2px rgba(60, 64, 67, 0.3), 0px 1px 3px 1px rgba(60, 64, 67, 0.15);\n",
              "      fill: #174EA6;\n",
              "    }\n",
              "\n",
              "    [theme=dark] .colab-df-convert {\n",
              "      background-color: #3B4455;\n",
              "      fill: #D2E3FC;\n",
              "    }\n",
              "\n",
              "    [theme=dark] .colab-df-convert:hover {\n",
              "      background-color: #434B5C;\n",
              "      box-shadow: 0px 1px 3px 1px rgba(0, 0, 0, 0.15);\n",
              "      filter: drop-shadow(0px 1px 2px rgba(0, 0, 0, 0.3));\n",
              "      fill: #FFFFFF;\n",
              "    }\n",
              "  </style>\n",
              "\n",
              "      <script>\n",
              "        const buttonEl =\n",
              "          document.querySelector('#df-f819b5a9-2cd0-41cc-9883-2f4126839bfc button.colab-df-convert');\n",
              "        buttonEl.style.display =\n",
              "          google.colab.kernel.accessAllowed ? 'block' : 'none';\n",
              "\n",
              "        async function convertToInteractive(key) {\n",
              "          const element = document.querySelector('#df-f819b5a9-2cd0-41cc-9883-2f4126839bfc');\n",
              "          const dataTable =\n",
              "            await google.colab.kernel.invokeFunction('convertToInteractive',\n",
              "                                                     [key], {});\n",
              "          if (!dataTable) return;\n",
              "\n",
              "          const docLinkHtml = 'Like what you see? Visit the ' +\n",
              "            '<a target=\"_blank\" href=https://colab.research.google.com/notebooks/data_table.ipynb>data table notebook</a>'\n",
              "            + ' to learn more about interactive tables.';\n",
              "          element.innerHTML = '';\n",
              "          dataTable['output_type'] = 'display_data';\n",
              "          await google.colab.output.renderOutput(dataTable, element);\n",
              "          const docLink = document.createElement('div');\n",
              "          docLink.innerHTML = docLinkHtml;\n",
              "          element.appendChild(docLink);\n",
              "        }\n",
              "      </script>\n",
              "    </div>\n",
              "  </div>\n",
              "  "
            ]
          },
          "metadata": {},
          "execution_count": 32
        }
      ]
    },
    {
      "cell_type": "markdown",
      "source": [
        "created a non normalized df of our mlr model to possibly group by ages"
      ],
      "metadata": {
        "id": "9jHYANynJLQS"
      }
    },
    {
      "cell_type": "code",
      "source": [
        "mlr_model_df_nn=mlr_model_df"
      ],
      "metadata": {
        "id": "6r2EsPchIPk4"
      },
      "execution_count": 33,
      "outputs": []
    },
    {
      "cell_type": "code",
      "source": [
        "mlr_model_df=pd.DataFrame(nm.fit_transform(mlr_model_df))\n",
        "mlr_model_df.columns=['Gender', 'Age', 'Occupation', 'City_Category',\n",
        "       'Stay_In_Current_City_Years', 'Marital_Status', 'Product_Category_1',\n",
        "       'Product_Category_2', 'Product_Category_3', 'Purchase']\n",
        "mlr_model_df"
      ],
      "metadata": {
        "id": "kTFs2Koc3RL2",
        "outputId": "302c0d82-1713-4474-dd98-fd0113a96256",
        "colab": {
          "base_uri": "https://localhost:8080/",
          "height": 488
        }
      },
      "execution_count": 34,
      "outputs": [
        {
          "output_type": "execute_result",
          "data": {
            "text/plain": [
              "        Gender       Age  Occupation  City_Category  \\\n",
              "0          0.0  0.000000        0.50            0.0   \n",
              "1          0.0  0.000000        0.50            0.0   \n",
              "2          0.0  0.000000        0.50            0.0   \n",
              "3          0.0  0.000000        0.50            0.0   \n",
              "4          1.0  1.000000        0.80            1.0   \n",
              "...        ...       ...         ...            ...   \n",
              "550063     1.0  0.833333        0.65            0.5   \n",
              "550064     0.0  0.333333        0.05            1.0   \n",
              "550065     0.0  0.333333        0.75            0.5   \n",
              "550066     0.0  1.000000        0.05            1.0   \n",
              "550067     0.0  0.666667        0.00            0.5   \n",
              "\n",
              "        Stay_In_Current_City_Years  Marital_Status  Product_Category_1  \\\n",
              "0                             0.50             0.0            0.105263   \n",
              "1                             0.50             0.0            0.000000   \n",
              "2                             0.50             0.0            0.578947   \n",
              "3                             0.50             0.0            0.578947   \n",
              "4                             1.00             0.0            0.368421   \n",
              "...                            ...             ...                 ...   \n",
              "550063                        0.25             1.0            1.000000   \n",
              "550064                        0.75             0.0            1.000000   \n",
              "550065                        1.00             1.0            1.000000   \n",
              "550066                        0.50             0.0            1.000000   \n",
              "550067                        1.00             1.0            1.000000   \n",
              "\n",
              "        Product_Category_2  Product_Category_3  Purchase  \n",
              "0                 0.000000            0.000000  0.348992  \n",
              "1                 0.333333            0.777778  0.634181  \n",
              "2                 0.000000            0.000000  0.058875  \n",
              "3                 0.777778            0.000000  0.043634  \n",
              "4                 0.000000            0.000000  0.332248  \n",
              "...                    ...                 ...       ...  \n",
              "550063            0.000000            0.000000  0.014865  \n",
              "550064            0.000000            0.000000  0.014990  \n",
              "550065            0.000000            0.000000  0.005219  \n",
              "550066            0.000000            0.000000  0.014740  \n",
              "550067            0.000000            0.000000  0.019959  \n",
              "\n",
              "[550068 rows x 10 columns]"
            ],
            "text/html": [
              "\n",
              "  <div id=\"df-a34f3b37-82ad-4bcd-92ba-432f9a25a447\">\n",
              "    <div class=\"colab-df-container\">\n",
              "      <div>\n",
              "<style scoped>\n",
              "    .dataframe tbody tr th:only-of-type {\n",
              "        vertical-align: middle;\n",
              "    }\n",
              "\n",
              "    .dataframe tbody tr th {\n",
              "        vertical-align: top;\n",
              "    }\n",
              "\n",
              "    .dataframe thead th {\n",
              "        text-align: right;\n",
              "    }\n",
              "</style>\n",
              "<table border=\"1\" class=\"dataframe\">\n",
              "  <thead>\n",
              "    <tr style=\"text-align: right;\">\n",
              "      <th></th>\n",
              "      <th>Gender</th>\n",
              "      <th>Age</th>\n",
              "      <th>Occupation</th>\n",
              "      <th>City_Category</th>\n",
              "      <th>Stay_In_Current_City_Years</th>\n",
              "      <th>Marital_Status</th>\n",
              "      <th>Product_Category_1</th>\n",
              "      <th>Product_Category_2</th>\n",
              "      <th>Product_Category_3</th>\n",
              "      <th>Purchase</th>\n",
              "    </tr>\n",
              "  </thead>\n",
              "  <tbody>\n",
              "    <tr>\n",
              "      <th>0</th>\n",
              "      <td>0.0</td>\n",
              "      <td>0.000000</td>\n",
              "      <td>0.50</td>\n",
              "      <td>0.0</td>\n",
              "      <td>0.50</td>\n",
              "      <td>0.0</td>\n",
              "      <td>0.105263</td>\n",
              "      <td>0.000000</td>\n",
              "      <td>0.000000</td>\n",
              "      <td>0.348992</td>\n",
              "    </tr>\n",
              "    <tr>\n",
              "      <th>1</th>\n",
              "      <td>0.0</td>\n",
              "      <td>0.000000</td>\n",
              "      <td>0.50</td>\n",
              "      <td>0.0</td>\n",
              "      <td>0.50</td>\n",
              "      <td>0.0</td>\n",
              "      <td>0.000000</td>\n",
              "      <td>0.333333</td>\n",
              "      <td>0.777778</td>\n",
              "      <td>0.634181</td>\n",
              "    </tr>\n",
              "    <tr>\n",
              "      <th>2</th>\n",
              "      <td>0.0</td>\n",
              "      <td>0.000000</td>\n",
              "      <td>0.50</td>\n",
              "      <td>0.0</td>\n",
              "      <td>0.50</td>\n",
              "      <td>0.0</td>\n",
              "      <td>0.578947</td>\n",
              "      <td>0.000000</td>\n",
              "      <td>0.000000</td>\n",
              "      <td>0.058875</td>\n",
              "    </tr>\n",
              "    <tr>\n",
              "      <th>3</th>\n",
              "      <td>0.0</td>\n",
              "      <td>0.000000</td>\n",
              "      <td>0.50</td>\n",
              "      <td>0.0</td>\n",
              "      <td>0.50</td>\n",
              "      <td>0.0</td>\n",
              "      <td>0.578947</td>\n",
              "      <td>0.777778</td>\n",
              "      <td>0.000000</td>\n",
              "      <td>0.043634</td>\n",
              "    </tr>\n",
              "    <tr>\n",
              "      <th>4</th>\n",
              "      <td>1.0</td>\n",
              "      <td>1.000000</td>\n",
              "      <td>0.80</td>\n",
              "      <td>1.0</td>\n",
              "      <td>1.00</td>\n",
              "      <td>0.0</td>\n",
              "      <td>0.368421</td>\n",
              "      <td>0.000000</td>\n",
              "      <td>0.000000</td>\n",
              "      <td>0.332248</td>\n",
              "    </tr>\n",
              "    <tr>\n",
              "      <th>...</th>\n",
              "      <td>...</td>\n",
              "      <td>...</td>\n",
              "      <td>...</td>\n",
              "      <td>...</td>\n",
              "      <td>...</td>\n",
              "      <td>...</td>\n",
              "      <td>...</td>\n",
              "      <td>...</td>\n",
              "      <td>...</td>\n",
              "      <td>...</td>\n",
              "    </tr>\n",
              "    <tr>\n",
              "      <th>550063</th>\n",
              "      <td>1.0</td>\n",
              "      <td>0.833333</td>\n",
              "      <td>0.65</td>\n",
              "      <td>0.5</td>\n",
              "      <td>0.25</td>\n",
              "      <td>1.0</td>\n",
              "      <td>1.000000</td>\n",
              "      <td>0.000000</td>\n",
              "      <td>0.000000</td>\n",
              "      <td>0.014865</td>\n",
              "    </tr>\n",
              "    <tr>\n",
              "      <th>550064</th>\n",
              "      <td>0.0</td>\n",
              "      <td>0.333333</td>\n",
              "      <td>0.05</td>\n",
              "      <td>1.0</td>\n",
              "      <td>0.75</td>\n",
              "      <td>0.0</td>\n",
              "      <td>1.000000</td>\n",
              "      <td>0.000000</td>\n",
              "      <td>0.000000</td>\n",
              "      <td>0.014990</td>\n",
              "    </tr>\n",
              "    <tr>\n",
              "      <th>550065</th>\n",
              "      <td>0.0</td>\n",
              "      <td>0.333333</td>\n",
              "      <td>0.75</td>\n",
              "      <td>0.5</td>\n",
              "      <td>1.00</td>\n",
              "      <td>1.0</td>\n",
              "      <td>1.000000</td>\n",
              "      <td>0.000000</td>\n",
              "      <td>0.000000</td>\n",
              "      <td>0.005219</td>\n",
              "    </tr>\n",
              "    <tr>\n",
              "      <th>550066</th>\n",
              "      <td>0.0</td>\n",
              "      <td>1.000000</td>\n",
              "      <td>0.05</td>\n",
              "      <td>1.0</td>\n",
              "      <td>0.50</td>\n",
              "      <td>0.0</td>\n",
              "      <td>1.000000</td>\n",
              "      <td>0.000000</td>\n",
              "      <td>0.000000</td>\n",
              "      <td>0.014740</td>\n",
              "    </tr>\n",
              "    <tr>\n",
              "      <th>550067</th>\n",
              "      <td>0.0</td>\n",
              "      <td>0.666667</td>\n",
              "      <td>0.00</td>\n",
              "      <td>0.5</td>\n",
              "      <td>1.00</td>\n",
              "      <td>1.0</td>\n",
              "      <td>1.000000</td>\n",
              "      <td>0.000000</td>\n",
              "      <td>0.000000</td>\n",
              "      <td>0.019959</td>\n",
              "    </tr>\n",
              "  </tbody>\n",
              "</table>\n",
              "<p>550068 rows × 10 columns</p>\n",
              "</div>\n",
              "      <button class=\"colab-df-convert\" onclick=\"convertToInteractive('df-a34f3b37-82ad-4bcd-92ba-432f9a25a447')\"\n",
              "              title=\"Convert this dataframe to an interactive table.\"\n",
              "              style=\"display:none;\">\n",
              "        \n",
              "  <svg xmlns=\"http://www.w3.org/2000/svg\" height=\"24px\"viewBox=\"0 0 24 24\"\n",
              "       width=\"24px\">\n",
              "    <path d=\"M0 0h24v24H0V0z\" fill=\"none\"/>\n",
              "    <path d=\"M18.56 5.44l.94 2.06.94-2.06 2.06-.94-2.06-.94-.94-2.06-.94 2.06-2.06.94zm-11 1L8.5 8.5l.94-2.06 2.06-.94-2.06-.94L8.5 2.5l-.94 2.06-2.06.94zm10 10l.94 2.06.94-2.06 2.06-.94-2.06-.94-.94-2.06-.94 2.06-2.06.94z\"/><path d=\"M17.41 7.96l-1.37-1.37c-.4-.4-.92-.59-1.43-.59-.52 0-1.04.2-1.43.59L10.3 9.45l-7.72 7.72c-.78.78-.78 2.05 0 2.83L4 21.41c.39.39.9.59 1.41.59.51 0 1.02-.2 1.41-.59l7.78-7.78 2.81-2.81c.8-.78.8-2.07 0-2.86zM5.41 20L4 18.59l7.72-7.72 1.47 1.35L5.41 20z\"/>\n",
              "  </svg>\n",
              "      </button>\n",
              "      \n",
              "  <style>\n",
              "    .colab-df-container {\n",
              "      display:flex;\n",
              "      flex-wrap:wrap;\n",
              "      gap: 12px;\n",
              "    }\n",
              "\n",
              "    .colab-df-convert {\n",
              "      background-color: #E8F0FE;\n",
              "      border: none;\n",
              "      border-radius: 50%;\n",
              "      cursor: pointer;\n",
              "      display: none;\n",
              "      fill: #1967D2;\n",
              "      height: 32px;\n",
              "      padding: 0 0 0 0;\n",
              "      width: 32px;\n",
              "    }\n",
              "\n",
              "    .colab-df-convert:hover {\n",
              "      background-color: #E2EBFA;\n",
              "      box-shadow: 0px 1px 2px rgba(60, 64, 67, 0.3), 0px 1px 3px 1px rgba(60, 64, 67, 0.15);\n",
              "      fill: #174EA6;\n",
              "    }\n",
              "\n",
              "    [theme=dark] .colab-df-convert {\n",
              "      background-color: #3B4455;\n",
              "      fill: #D2E3FC;\n",
              "    }\n",
              "\n",
              "    [theme=dark] .colab-df-convert:hover {\n",
              "      background-color: #434B5C;\n",
              "      box-shadow: 0px 1px 3px 1px rgba(0, 0, 0, 0.15);\n",
              "      filter: drop-shadow(0px 1px 2px rgba(0, 0, 0, 0.3));\n",
              "      fill: #FFFFFF;\n",
              "    }\n",
              "  </style>\n",
              "\n",
              "      <script>\n",
              "        const buttonEl =\n",
              "          document.querySelector('#df-a34f3b37-82ad-4bcd-92ba-432f9a25a447 button.colab-df-convert');\n",
              "        buttonEl.style.display =\n",
              "          google.colab.kernel.accessAllowed ? 'block' : 'none';\n",
              "\n",
              "        async function convertToInteractive(key) {\n",
              "          const element = document.querySelector('#df-a34f3b37-82ad-4bcd-92ba-432f9a25a447');\n",
              "          const dataTable =\n",
              "            await google.colab.kernel.invokeFunction('convertToInteractive',\n",
              "                                                     [key], {});\n",
              "          if (!dataTable) return;\n",
              "\n",
              "          const docLinkHtml = 'Like what you see? Visit the ' +\n",
              "            '<a target=\"_blank\" href=https://colab.research.google.com/notebooks/data_table.ipynb>data table notebook</a>'\n",
              "            + ' to learn more about interactive tables.';\n",
              "          element.innerHTML = '';\n",
              "          dataTable['output_type'] = 'display_data';\n",
              "          await google.colab.output.renderOutput(dataTable, element);\n",
              "          const docLink = document.createElement('div');\n",
              "          docLink.innerHTML = docLinkHtml;\n",
              "          element.appendChild(docLink);\n",
              "        }\n",
              "      </script>\n",
              "    </div>\n",
              "  </div>\n",
              "  "
            ]
          },
          "metadata": {},
          "execution_count": 34
        }
      ]
    },
    {
      "cell_type": "code",
      "source": [
        "ml1 = smf.ols('Purchase ~ Gender + Age + Occupation + City_Category + Stay_In_Current_City_Years + Marital_Status + Product_Category_1 + Product_Category_2 + Product_Category_3', data = mlr_model_df).fit() # regression model\n",
        "ml1.summary()\n"
      ],
      "metadata": {
        "id": "zil5-8EPsgWm",
        "outputId": "77e783ff-44c4-4593-9971-26ac8eb34672",
        "colab": {
          "base_uri": "https://localhost:8080/",
          "height": 622
        }
      },
      "execution_count": 35,
      "outputs": [
        {
          "output_type": "execute_result",
          "data": {
            "text/plain": [
              "<class 'statsmodels.iolib.summary.Summary'>\n",
              "\"\"\"\n",
              "                            OLS Regression Results                            \n",
              "==============================================================================\n",
              "Dep. Variable:               Purchase   R-squared:                       0.152\n",
              "Model:                            OLS   Adj. R-squared:                  0.152\n",
              "Method:                 Least Squares   F-statistic:                 1.097e+04\n",
              "Date:                Sun, 21 Aug 2022   Prob (F-statistic):               0.00\n",
              "Time:                        23:24:54   Log-Likelihood:             1.2404e+05\n",
              "No. Observations:              550068   AIC:                        -2.481e+05\n",
              "Df Residuals:                  550058   BIC:                        -2.480e+05\n",
              "Df Model:                           9                                         \n",
              "Covariance Type:            nonrobust                                         \n",
              "==============================================================================================\n",
              "                                 coef    std err          t      P>|t|      [0.025      0.975]\n",
              "----------------------------------------------------------------------------------------------\n",
              "Intercept                      0.3822      0.001    379.835      0.000       0.380       0.384\n",
              "Gender                         0.0199      0.001     32.622      0.000       0.019       0.021\n",
              "Age                            0.0266      0.001     21.650      0.000       0.024       0.029\n",
              "Occupation                     0.0048      0.001      5.924      0.000       0.003       0.006\n",
              "City_Category                  0.0265      0.001     38.276      0.000       0.025       0.028\n",
              "Stay_In_Current_City_Years     0.0014      0.001      1.767      0.077      -0.000       0.003\n",
              "Marital_Status                -0.0020      0.001     -3.631      0.000      -0.003      -0.001\n",
              "Product_Category_1            -0.2761      0.001   -202.060      0.000      -0.279      -0.273\n",
              "Product_Category_2             0.0094      0.001     12.433      0.000       0.008       0.011\n",
              "Product_Category_3             0.1080      0.001    132.401      0.000       0.106       0.110\n",
              "==============================================================================\n",
              "Omnibus:                    57263.559   Durbin-Watson:                   1.726\n",
              "Prob(Omnibus):                  0.000   Jarque-Bera (JB):            79655.860\n",
              "Skew:                           0.833   Prob(JB):                         0.00\n",
              "Kurtosis:                       3.836   Cond. No.                         9.93\n",
              "==============================================================================\n",
              "\n",
              "Notes:\n",
              "[1] Standard Errors assume that the covariance matrix of the errors is correctly specified.\n",
              "\"\"\""
            ],
            "text/html": [
              "<table class=\"simpletable\">\n",
              "<caption>OLS Regression Results</caption>\n",
              "<tr>\n",
              "  <th>Dep. Variable:</th>        <td>Purchase</td>     <th>  R-squared:         </th>  <td>   0.152</td> \n",
              "</tr>\n",
              "<tr>\n",
              "  <th>Model:</th>                   <td>OLS</td>       <th>  Adj. R-squared:    </th>  <td>   0.152</td> \n",
              "</tr>\n",
              "<tr>\n",
              "  <th>Method:</th>             <td>Least Squares</td>  <th>  F-statistic:       </th>  <td>1.097e+04</td>\n",
              "</tr>\n",
              "<tr>\n",
              "  <th>Date:</th>             <td>Sun, 21 Aug 2022</td> <th>  Prob (F-statistic):</th>   <td>  0.00</td>  \n",
              "</tr>\n",
              "<tr>\n",
              "  <th>Time:</th>                 <td>23:24:54</td>     <th>  Log-Likelihood:    </th> <td>1.2404e+05</td>\n",
              "</tr>\n",
              "<tr>\n",
              "  <th>No. Observations:</th>      <td>550068</td>      <th>  AIC:               </th> <td>-2.481e+05</td>\n",
              "</tr>\n",
              "<tr>\n",
              "  <th>Df Residuals:</th>          <td>550058</td>      <th>  BIC:               </th> <td>-2.480e+05</td>\n",
              "</tr>\n",
              "<tr>\n",
              "  <th>Df Model:</th>              <td>     9</td>      <th>                     </th>      <td> </td>    \n",
              "</tr>\n",
              "<tr>\n",
              "  <th>Covariance Type:</th>      <td>nonrobust</td>    <th>                     </th>      <td> </td>    \n",
              "</tr>\n",
              "</table>\n",
              "<table class=\"simpletable\">\n",
              "<tr>\n",
              "               <td></td>                 <th>coef</th>     <th>std err</th>      <th>t</th>      <th>P>|t|</th>  <th>[0.025</th>    <th>0.975]</th>  \n",
              "</tr>\n",
              "<tr>\n",
              "  <th>Intercept</th>                  <td>    0.3822</td> <td>    0.001</td> <td>  379.835</td> <td> 0.000</td> <td>    0.380</td> <td>    0.384</td>\n",
              "</tr>\n",
              "<tr>\n",
              "  <th>Gender</th>                     <td>    0.0199</td> <td>    0.001</td> <td>   32.622</td> <td> 0.000</td> <td>    0.019</td> <td>    0.021</td>\n",
              "</tr>\n",
              "<tr>\n",
              "  <th>Age</th>                        <td>    0.0266</td> <td>    0.001</td> <td>   21.650</td> <td> 0.000</td> <td>    0.024</td> <td>    0.029</td>\n",
              "</tr>\n",
              "<tr>\n",
              "  <th>Occupation</th>                 <td>    0.0048</td> <td>    0.001</td> <td>    5.924</td> <td> 0.000</td> <td>    0.003</td> <td>    0.006</td>\n",
              "</tr>\n",
              "<tr>\n",
              "  <th>City_Category</th>              <td>    0.0265</td> <td>    0.001</td> <td>   38.276</td> <td> 0.000</td> <td>    0.025</td> <td>    0.028</td>\n",
              "</tr>\n",
              "<tr>\n",
              "  <th>Stay_In_Current_City_Years</th> <td>    0.0014</td> <td>    0.001</td> <td>    1.767</td> <td> 0.077</td> <td>   -0.000</td> <td>    0.003</td>\n",
              "</tr>\n",
              "<tr>\n",
              "  <th>Marital_Status</th>             <td>   -0.0020</td> <td>    0.001</td> <td>   -3.631</td> <td> 0.000</td> <td>   -0.003</td> <td>   -0.001</td>\n",
              "</tr>\n",
              "<tr>\n",
              "  <th>Product_Category_1</th>         <td>   -0.2761</td> <td>    0.001</td> <td> -202.060</td> <td> 0.000</td> <td>   -0.279</td> <td>   -0.273</td>\n",
              "</tr>\n",
              "<tr>\n",
              "  <th>Product_Category_2</th>         <td>    0.0094</td> <td>    0.001</td> <td>   12.433</td> <td> 0.000</td> <td>    0.008</td> <td>    0.011</td>\n",
              "</tr>\n",
              "<tr>\n",
              "  <th>Product_Category_3</th>         <td>    0.1080</td> <td>    0.001</td> <td>  132.401</td> <td> 0.000</td> <td>    0.106</td> <td>    0.110</td>\n",
              "</tr>\n",
              "</table>\n",
              "<table class=\"simpletable\">\n",
              "<tr>\n",
              "  <th>Omnibus:</th>       <td>57263.559</td> <th>  Durbin-Watson:     </th> <td>   1.726</td> \n",
              "</tr>\n",
              "<tr>\n",
              "  <th>Prob(Omnibus):</th>  <td> 0.000</td>   <th>  Jarque-Bera (JB):  </th> <td>79655.860</td>\n",
              "</tr>\n",
              "<tr>\n",
              "  <th>Skew:</th>           <td> 0.833</td>   <th>  Prob(JB):          </th> <td>    0.00</td> \n",
              "</tr>\n",
              "<tr>\n",
              "  <th>Kurtosis:</th>       <td> 3.836</td>   <th>  Cond. No.          </th> <td>    9.93</td> \n",
              "</tr>\n",
              "</table><br/><br/>Notes:<br/>[1] Standard Errors assume that the covariance matrix of the errors is correctly specified."
            ]
          },
          "metadata": {},
          "execution_count": 35
        }
      ]
    },
    {
      "cell_type": "markdown",
      "source": [
        "P-Value for Stay_In_Current_City_Years is more than 0.05"
      ],
      "metadata": {
        "id": "xojARWcQvxi9"
      }
    },
    {
      "cell_type": "code",
      "source": [
        "# Check for Colinearity to decide to remove a variable using VIF\n",
        "# Assumption: VIF > 10 = colinearity\n",
        "# calculating VIF's values of independent variables\n",
        "rsq_gender = smf.ols('Gender ~  Age + Occupation + City_Category + Stay_In_Current_City_Years + Marital_Status + Product_Category_1 + Product_Category_2 + Product_Category_3', data = mlr_model_df).fit().rsquared  \n",
        "vif_gender = 1/(1 - rsq_gender) \n",
        "\n",
        "rsq_age = smf.ols('Age ~  Gender + Occupation + City_Category + Stay_In_Current_City_Years + Marital_Status + Product_Category_1 + Product_Category_2 + Product_Category_3', data = mlr_model_df).fit().rsquared  \n",
        "vif_age = 1/(1 - rsq_age)\n",
        "\n",
        "rsq_occupation = smf.ols('Occupation ~  Age + Gender + City_Category + Stay_In_Current_City_Years + Marital_Status + Product_Category_1 + Product_Category_2 + Product_Category_3', data = mlr_model_df).fit().rsquared  \n",
        "vif_occupation = 1/(1 - rsq_occupation) \n",
        "\n",
        "rsq_cc = smf.ols('City_Category ~  Age + Occupation + Gender + Stay_In_Current_City_Years + Marital_Status + Product_Category_1 + Product_Category_2 + Product_Category_3', data = mlr_model_df).fit().rsquared  \n",
        "vif_cc = 1/(1 - rsq_cc) \n",
        "\n",
        "rsq_siccy = smf.ols('Stay_In_Current_City_Years ~  Gender + Age + Occupation + City_Category + Marital_Status + Product_Category_1 + Product_Category_2 + Product_Category_3', data = mlr_model_df).fit().rsquared  \n",
        "vif_siccy = 1/(1 - rsq_siccy)\n",
        "\n",
        "rsq_ms = smf.ols('Marital_Status ~  Age + Gender + Occupation + City_Category + Stay_In_Current_City_Years + Product_Category_1 + Product_Category_2 + Product_Category_3', data = mlr_model_df).fit().rsquared  \n",
        "vif_ms = 1/(1 - rsq_ms)\n",
        "\n",
        "rsq_pc1 = smf.ols('Product_Category_1 ~  Age + Occupation + Gender + City_Category + Stay_In_Current_City_Years + Marital_Status + Product_Category_2 + Product_Category_3', data = mlr_model_df).fit().rsquared  \n",
        "vif_pc1 = 1/(1 - rsq_pc1) \n",
        "\n",
        "rsq_pc2 = smf.ols('Product_Category_2 ~  Gender + Age + Occupation + City_Category + Stay_In_Current_City_Years + Marital_Status + Product_Category_1 + Product_Category_3', data = mlr_model_df).fit().rsquared  \n",
        "vif_pc2 = 1/(1 - rsq_pc2)\n",
        "\n",
        "rsq_pc3 = smf.ols('Product_Category_3 ~  Age + Gender + Occupation + City_Category + Stay_In_Current_City_Years + Marital_Status + Product_Category_1 + Product_Category_2', data = mlr_model_df).fit().rsquared  \n",
        "vif_pc3 = 1/(1 - rsq_pc3)\n",
        "\n",
        "print('vif_gender',vif_gender,'vif_age',vif_age,'vif_occupation',vif_occupation)\n",
        "print('vif_cc',vif_cc,'vif_siccy',vif_siccy,'vif_ms',vif_ms)\n",
        "print('vif_pc1',vif_pc1,'vif_pc2',vif_pc2,'vif_pc3',vif_pc3)"
      ],
      "metadata": {
        "id": "UrGngg7MwCpX",
        "outputId": "099b9892-b687-476f-d732-188c62063fe4",
        "colab": {
          "base_uri": "https://localhost:8080/"
        }
      },
      "execution_count": 36,
      "outputs": [
        {
          "output_type": "stream",
          "name": "stdout",
          "text": [
            "vif_gender 1.0168815042735742 vif_age 1.1360670886551578 vif_occupation 1.0242614730441164\n",
            "vif_cc 1.017947433968261 vif_siccy 1.0016293962798941 vif_ms 1.107968827999873\n",
            "vif_pc1 1.1822948608980552 vif_pc2 1.0108877037649215 vif_pc3 1.1830277018939737\n"
          ]
        }
      ]
    },
    {
      "cell_type": "code",
      "source": [
        "final_mlr_model = smf.ols('Purchase ~ Gender + Age + Occupation + City_Category + Stay_In_Current_City_Years + Marital_Status + Product_Category_1 + Product_Category_2 + Product_Category_3', data = mlr_model_df).fit()\n",
        "final_mlr_model.summary() "
      ],
      "metadata": {
        "id": "IBdWKnnMzxWR",
        "outputId": "275161a9-51c9-4678-8c9c-e9cfca4a8b51",
        "colab": {
          "base_uri": "https://localhost:8080/",
          "height": 622
        }
      },
      "execution_count": 37,
      "outputs": [
        {
          "output_type": "execute_result",
          "data": {
            "text/plain": [
              "<class 'statsmodels.iolib.summary.Summary'>\n",
              "\"\"\"\n",
              "                            OLS Regression Results                            \n",
              "==============================================================================\n",
              "Dep. Variable:               Purchase   R-squared:                       0.152\n",
              "Model:                            OLS   Adj. R-squared:                  0.152\n",
              "Method:                 Least Squares   F-statistic:                 1.097e+04\n",
              "Date:                Sun, 21 Aug 2022   Prob (F-statistic):               0.00\n",
              "Time:                        23:25:01   Log-Likelihood:             1.2404e+05\n",
              "No. Observations:              550068   AIC:                        -2.481e+05\n",
              "Df Residuals:                  550058   BIC:                        -2.480e+05\n",
              "Df Model:                           9                                         \n",
              "Covariance Type:            nonrobust                                         \n",
              "==============================================================================================\n",
              "                                 coef    std err          t      P>|t|      [0.025      0.975]\n",
              "----------------------------------------------------------------------------------------------\n",
              "Intercept                      0.3822      0.001    379.835      0.000       0.380       0.384\n",
              "Gender                         0.0199      0.001     32.622      0.000       0.019       0.021\n",
              "Age                            0.0266      0.001     21.650      0.000       0.024       0.029\n",
              "Occupation                     0.0048      0.001      5.924      0.000       0.003       0.006\n",
              "City_Category                  0.0265      0.001     38.276      0.000       0.025       0.028\n",
              "Stay_In_Current_City_Years     0.0014      0.001      1.767      0.077      -0.000       0.003\n",
              "Marital_Status                -0.0020      0.001     -3.631      0.000      -0.003      -0.001\n",
              "Product_Category_1            -0.2761      0.001   -202.060      0.000      -0.279      -0.273\n",
              "Product_Category_2             0.0094      0.001     12.433      0.000       0.008       0.011\n",
              "Product_Category_3             0.1080      0.001    132.401      0.000       0.106       0.110\n",
              "==============================================================================\n",
              "Omnibus:                    57263.559   Durbin-Watson:                   1.726\n",
              "Prob(Omnibus):                  0.000   Jarque-Bera (JB):            79655.860\n",
              "Skew:                           0.833   Prob(JB):                         0.00\n",
              "Kurtosis:                       3.836   Cond. No.                         9.93\n",
              "==============================================================================\n",
              "\n",
              "Notes:\n",
              "[1] Standard Errors assume that the covariance matrix of the errors is correctly specified.\n",
              "\"\"\""
            ],
            "text/html": [
              "<table class=\"simpletable\">\n",
              "<caption>OLS Regression Results</caption>\n",
              "<tr>\n",
              "  <th>Dep. Variable:</th>        <td>Purchase</td>     <th>  R-squared:         </th>  <td>   0.152</td> \n",
              "</tr>\n",
              "<tr>\n",
              "  <th>Model:</th>                   <td>OLS</td>       <th>  Adj. R-squared:    </th>  <td>   0.152</td> \n",
              "</tr>\n",
              "<tr>\n",
              "  <th>Method:</th>             <td>Least Squares</td>  <th>  F-statistic:       </th>  <td>1.097e+04</td>\n",
              "</tr>\n",
              "<tr>\n",
              "  <th>Date:</th>             <td>Sun, 21 Aug 2022</td> <th>  Prob (F-statistic):</th>   <td>  0.00</td>  \n",
              "</tr>\n",
              "<tr>\n",
              "  <th>Time:</th>                 <td>23:25:01</td>     <th>  Log-Likelihood:    </th> <td>1.2404e+05</td>\n",
              "</tr>\n",
              "<tr>\n",
              "  <th>No. Observations:</th>      <td>550068</td>      <th>  AIC:               </th> <td>-2.481e+05</td>\n",
              "</tr>\n",
              "<tr>\n",
              "  <th>Df Residuals:</th>          <td>550058</td>      <th>  BIC:               </th> <td>-2.480e+05</td>\n",
              "</tr>\n",
              "<tr>\n",
              "  <th>Df Model:</th>              <td>     9</td>      <th>                     </th>      <td> </td>    \n",
              "</tr>\n",
              "<tr>\n",
              "  <th>Covariance Type:</th>      <td>nonrobust</td>    <th>                     </th>      <td> </td>    \n",
              "</tr>\n",
              "</table>\n",
              "<table class=\"simpletable\">\n",
              "<tr>\n",
              "               <td></td>                 <th>coef</th>     <th>std err</th>      <th>t</th>      <th>P>|t|</th>  <th>[0.025</th>    <th>0.975]</th>  \n",
              "</tr>\n",
              "<tr>\n",
              "  <th>Intercept</th>                  <td>    0.3822</td> <td>    0.001</td> <td>  379.835</td> <td> 0.000</td> <td>    0.380</td> <td>    0.384</td>\n",
              "</tr>\n",
              "<tr>\n",
              "  <th>Gender</th>                     <td>    0.0199</td> <td>    0.001</td> <td>   32.622</td> <td> 0.000</td> <td>    0.019</td> <td>    0.021</td>\n",
              "</tr>\n",
              "<tr>\n",
              "  <th>Age</th>                        <td>    0.0266</td> <td>    0.001</td> <td>   21.650</td> <td> 0.000</td> <td>    0.024</td> <td>    0.029</td>\n",
              "</tr>\n",
              "<tr>\n",
              "  <th>Occupation</th>                 <td>    0.0048</td> <td>    0.001</td> <td>    5.924</td> <td> 0.000</td> <td>    0.003</td> <td>    0.006</td>\n",
              "</tr>\n",
              "<tr>\n",
              "  <th>City_Category</th>              <td>    0.0265</td> <td>    0.001</td> <td>   38.276</td> <td> 0.000</td> <td>    0.025</td> <td>    0.028</td>\n",
              "</tr>\n",
              "<tr>\n",
              "  <th>Stay_In_Current_City_Years</th> <td>    0.0014</td> <td>    0.001</td> <td>    1.767</td> <td> 0.077</td> <td>   -0.000</td> <td>    0.003</td>\n",
              "</tr>\n",
              "<tr>\n",
              "  <th>Marital_Status</th>             <td>   -0.0020</td> <td>    0.001</td> <td>   -3.631</td> <td> 0.000</td> <td>   -0.003</td> <td>   -0.001</td>\n",
              "</tr>\n",
              "<tr>\n",
              "  <th>Product_Category_1</th>         <td>   -0.2761</td> <td>    0.001</td> <td> -202.060</td> <td> 0.000</td> <td>   -0.279</td> <td>   -0.273</td>\n",
              "</tr>\n",
              "<tr>\n",
              "  <th>Product_Category_2</th>         <td>    0.0094</td> <td>    0.001</td> <td>   12.433</td> <td> 0.000</td> <td>    0.008</td> <td>    0.011</td>\n",
              "</tr>\n",
              "<tr>\n",
              "  <th>Product_Category_3</th>         <td>    0.1080</td> <td>    0.001</td> <td>  132.401</td> <td> 0.000</td> <td>    0.106</td> <td>    0.110</td>\n",
              "</tr>\n",
              "</table>\n",
              "<table class=\"simpletable\">\n",
              "<tr>\n",
              "  <th>Omnibus:</th>       <td>57263.559</td> <th>  Durbin-Watson:     </th> <td>   1.726</td> \n",
              "</tr>\n",
              "<tr>\n",
              "  <th>Prob(Omnibus):</th>  <td> 0.000</td>   <th>  Jarque-Bera (JB):  </th> <td>79655.860</td>\n",
              "</tr>\n",
              "<tr>\n",
              "  <th>Skew:</th>           <td> 0.833</td>   <th>  Prob(JB):          </th> <td>    0.00</td> \n",
              "</tr>\n",
              "<tr>\n",
              "  <th>Kurtosis:</th>       <td> 3.836</td>   <th>  Cond. No.          </th> <td>    9.93</td> \n",
              "</tr>\n",
              "</table><br/><br/>Notes:<br/>[1] Standard Errors assume that the covariance matrix of the errors is correctly specified."
            ]
          },
          "metadata": {},
          "execution_count": 37
        }
      ]
    },
    {
      "cell_type": "code",
      "source": [
        "pred = final_mlr_model.predict(mlr_model_df)"
      ],
      "metadata": {
        "id": "Ripp5tKm0DM3"
      },
      "execution_count": 38,
      "outputs": []
    },
    {
      "cell_type": "code",
      "source": [
        "# pred_train_OLS= mlr_model_train.predict(x_train)\n",
        "# print(np.sqrt(mean_squared_error(y_train,pred_train_OLS)))\n",
        "# print('r2 train',r2_score(y_train, pred_train_OLS))\n",
        "\n",
        "# pred_test_OLS= mlr_model_train.predict(x_test)\n",
        "# print(np.sqrt(mean_squared_error(y_test,pred_test_OLS))) \n",
        "# print('r2 test',r2_score(y_test, pred_test_OLS))"
      ],
      "metadata": {
        "id": "jw2NGYlyD1z-"
      },
      "execution_count": null,
      "outputs": []
    },
    {
      "cell_type": "code",
      "source": [
        "res = final_mlr_model.resid\n",
        "sm.qqplot(res)\n",
        "plt.show()"
      ],
      "metadata": {
        "id": "VE3JlK1O0PuA",
        "outputId": "ffcbface-d6c8-435f-c6f8-d6ec78e47c08",
        "colab": {
          "base_uri": "https://localhost:8080/",
          "height": 283
        }
      },
      "execution_count": 39,
      "outputs": [
        {
          "output_type": "display_data",
          "data": {
            "text/plain": [
              "<Figure size 432x288 with 1 Axes>"
            ],
            "image/png": "[encoded data removed]"
          },
          "metadata": {
            "needs_background": "light"
          }
        }
      ]
    },
    {
      "cell_type": "code",
      "source": [
        "stats.probplot(res, dist = \"norm\", plot = pylab)\n",
        "plt.show()\n"
      ],
      "metadata": {
        "id": "XmsGmMQR0Tso",
        "outputId": "244262bd-92b6-43b7-b3d0-80890a7aa6cd",
        "colab": {
          "base_uri": "https://localhost:8080/",
          "height": 295
        }
      },
      "execution_count": 40,
      "outputs": [
        {
          "output_type": "display_data",
          "data": {
            "text/plain": [
              "<Figure size 432x288 with 1 Axes>"
            ],
            "image/png": "[encoded data removed]"
          },
          "metadata": {
            "needs_background": "light"
          }
        }
      ]
    },
    {
      "cell_type": "code",
      "source": [
        "mlr_df_train, mlr_df_test = train_test_split(mlr_model_df, shuffle=True,test_size = 0.2)"
      ],
      "metadata": {
        "id": "gxDbb3t60hQY"
      },
      "execution_count": 41,
      "outputs": []
    },
    {
      "cell_type": "code",
      "source": [
        "mlr_model_train = smf.ols('Purchase ~ Gender + Age + Occupation + City_Category + Stay_In_Current_City_Years + Marital_Status + Product_Category_1 + Product_Category_2 + Product_Category_3', data = mlr_df_train).fit()\n"
      ],
      "metadata": {
        "id": "8RrqH8GT12mv"
      },
      "execution_count": 42,
      "outputs": []
    },
    {
      "cell_type": "code",
      "source": [
        "mlr_test_pred = mlr_model_train.predict(mlr_df_test)\n"
      ],
      "metadata": {
        "id": "G6rJxsYw2A5I"
      },
      "execution_count": 43,
      "outputs": []
    },
    {
      "cell_type": "code",
      "source": [
        "test_resid =mlr_df_test.Purchase-mlr_test_pred\n",
        "# RMSE value for test data \n",
        "test_rmse = np.sqrt(np.mean(test_resid * test_resid))\n",
        "test_rmse"
      ],
      "metadata": {
        "id": "Gdps5FrD2GSQ",
        "outputId": "c3d51d88-1e28-4cac-e8de-9a8f1569785e",
        "colab": {
          "base_uri": "https://localhost:8080/"
        }
      },
      "execution_count": 44,
      "outputs": [
        {
          "output_type": "execute_result",
          "data": {
            "text/plain": [
              "0.1932645587657098"
            ]
          },
          "metadata": {},
          "execution_count": 44
        }
      ]
    },
    {
      "cell_type": "code",
      "source": [
        "mlr_train_pred = mlr_model_train.predict(mlr_df_train)"
      ],
      "metadata": {
        "id": "MBomwSyu2P4I"
      },
      "execution_count": 45,
      "outputs": []
    },
    {
      "cell_type": "code",
      "source": [
        "train_resid  = mlr_train_pred - mlr_df_train.Purchase\n",
        "# RMSE value for train data \n",
        "train_rmse = np.sqrt(np.mean(train_resid * train_resid))\n",
        "train_rmse"
      ],
      "metadata": {
        "id": "4U_dD9Ju2Z3Y",
        "outputId": "5558770e-fa55-4bd3-a82a-a0c257cdc230",
        "colab": {
          "base_uri": "https://localhost:8080/"
        }
      },
      "execution_count": 46,
      "outputs": [
        {
          "output_type": "execute_result",
          "data": {
            "text/plain": [
              "0.19308542985645755"
            ]
          },
          "metadata": {},
          "execution_count": 46
        }
      ]
    },
    {
      "cell_type": "code",
      "source": [
        "pred_train_OLS= mlr_model_train.predict(x_train)\n",
        "print(np.sqrt(mean_squared_error(y_train,pred_train_OLS)))\n",
        "print('r2 train',r2_score(y_train, pred_train_OLS))\n",
        "\n",
        "pred_test_OLS= mlr_model_train.predict(x_test)\n",
        "print(np.sqrt(mean_squared_error(y_test,pred_test_OLS)))\n",
        "print('r2 test',r2_score(y_test, pred_test_OLS))"
      ],
      "metadata": {
        "colab": {
          "base_uri": "https://localhost:8080/"
        },
        "id": "q5IE54rNAPxG",
        "outputId": "a24fbe38-8984-48ba-8a67-d37114521856"
      },
      "execution_count": 150,
      "outputs": [
        {
          "output_type": "stream",
          "name": "stdout",
          "text": [
            "0.19298593508979706\n",
            "r2 train 0.15274324561875896\n",
            "0.19365881605057286\n",
            "r2 test 0.14999898615618412\n"
          ]
        }
      ]
    },
    {
      "cell_type": "code",
      "source": [
        "olsAcc = 1-0.19298664774984747\n",
        "olsAcc"
      ],
      "metadata": {
        "id": "UgLdwd8P2fkh",
        "outputId": "8b9c73d7-1811-403c-9c0d-8ee128abd980",
        "colab": {
          "base_uri": "https://localhost:8080/"
        }
      },
      "execution_count": 129,
      "outputs": [
        {
          "output_type": "execute_result",
          "data": {
            "text/plain": [
              "0.8070133522501526"
            ]
          },
          "metadata": {},
          "execution_count": 129
        }
      ]
    },
    {
      "cell_type": "markdown",
      "source": [
        "Create dfs split by age"
      ],
      "metadata": {
        "id": "-bQ50TdMLvY_"
      }
    },
    {
      "cell_type": "code",
      "source": [
        "mlr_model_df_nn.Age.value_counts()"
      ],
      "metadata": {
        "id": "mhSlOYp138aC",
        "outputId": "3f63aed6-9e7c-4ffe-867f-e8f71c6636b9",
        "colab": {
          "base_uri": "https://localhost:8080/"
        }
      },
      "execution_count": 48,
      "outputs": [
        {
          "output_type": "execute_result",
          "data": {
            "text/plain": [
              "2    219587\n",
              "3    110013\n",
              "1     99660\n",
              "4     45701\n",
              "5     38501\n",
              "6     21504\n",
              "0     15102\n",
              "Name: Age, dtype: int64"
            ]
          },
          "metadata": {},
          "execution_count": 48
        }
      ]
    },
    {
      "cell_type": "code",
      "source": [
        "age_group=mlr_model_df_nn.groupby('Age')"
      ],
      "metadata": {
        "id": "3xqYiywzKBDv"
      },
      "execution_count": 49,
      "outputs": []
    },
    {
      "cell_type": "markdown",
      "source": [
        "'0-17':0,'18-25':1,'26-35':2,'36-45':3,'46-50':4,'51-55':5,'55+':6"
      ],
      "metadata": {
        "id": "mrjfSl8-LhMQ"
      }
    },
    {
      "cell_type": "code",
      "source": [
        "age0=age_group.get_group(0)"
      ],
      "metadata": {
        "id": "E4hwGnGdLLYS"
      },
      "execution_count": 50,
      "outputs": []
    },
    {
      "cell_type": "code",
      "source": [
        "age1=age_group.get_group(1)"
      ],
      "metadata": {
        "id": "T4B-bTnLL-M_"
      },
      "execution_count": 51,
      "outputs": []
    },
    {
      "cell_type": "code",
      "source": [
        "age2=age_group.get_group(2)"
      ],
      "metadata": {
        "id": "LEpoZkkRL-KD"
      },
      "execution_count": 52,
      "outputs": []
    },
    {
      "cell_type": "code",
      "source": [
        "age3=age_group.get_group(3)"
      ],
      "metadata": {
        "id": "PxnpyM_QL-E1"
      },
      "execution_count": 53,
      "outputs": []
    },
    {
      "cell_type": "code",
      "source": [
        "age4=age_group.get_group(4)"
      ],
      "metadata": {
        "id": "AwSqaKIzL95Y"
      },
      "execution_count": 54,
      "outputs": []
    },
    {
      "cell_type": "code",
      "source": [
        "age5=age_group.get_group(5)"
      ],
      "metadata": {
        "id": "XdRvI0I5MeAs"
      },
      "execution_count": 55,
      "outputs": []
    },
    {
      "cell_type": "code",
      "source": [
        "age6=age_group.get_group(6)"
      ],
      "metadata": {
        "id": "LfFJSwPbMd5j"
      },
      "execution_count": 56,
      "outputs": []
    },
    {
      "cell_type": "code",
      "source": [
        "agedf_list=[age0,age1,age2,age3,age4,age5,age6]"
      ],
      "metadata": {
        "id": "KyZuKzyRNA9I"
      },
      "execution_count": 57,
      "outputs": []
    },
    {
      "cell_type": "code",
      "source": [
        "for i in agedf_list:\n",
        "  i.pop('Age')\n",
        "  i=pd.DataFrame(nm.fit_transform(i))\n",
        "  i.columns=['Gender', 'Occupation', 'City_Category',\n",
        "       'Stay_In_Current_City_Years', 'Marital_Status', 'Product_Category_1',\n",
        "       'Product_Category_2', 'Product_Category_3', 'Purchase']\n",
        "  i"
      ],
      "metadata": {
        "id": "s8stZILZNkjd"
      },
      "execution_count": 58,
      "outputs": []
    },
    {
      "cell_type": "code",
      "source": [
        "age_summary=[]\n",
        "for i in range(len(agedf_list)):\n",
        "  mlr_age= smf.ols('Purchase ~ Gender + Occupation + City_Category + Stay_In_Current_City_Years + Marital_Status + Product_Category_1 + Product_Category_2 + Product_Category_3', data = agedf_list[i]).fit() # regression model\n",
        "  print('Age range: ',i,'\\n','Summary',mlr_age.summary())\n"
      ],
      "metadata": {
        "id": "MQ30nOITNzKC",
        "outputId": "af48cf44-c8c2-44bd-fe0d-5c061e1bb7c7",
        "colab": {
          "base_uri": "https://localhost:8080/"
        }
      },
      "execution_count": 59,
      "outputs": [
        {
          "output_type": "stream",
          "name": "stdout",
          "text": [
            "Age range:  0 \n",
            " Summary                             OLS Regression Results                            \n",
            "==============================================================================\n",
            "Dep. Variable:               Purchase   R-squared:                       0.142\n",
            "Model:                            OLS   Adj. R-squared:                  0.142\n",
            "Method:                 Least Squares   F-statistic:                     357.6\n",
            "Date:                Sun, 21 Aug 2022   Prob (F-statistic):               0.00\n",
            "Time:                        23:25:17   Log-Likelihood:            -1.4923e+05\n",
            "No. Observations:               15102   AIC:                         2.985e+05\n",
            "Df Residuals:                   15094   BIC:                         2.985e+05\n",
            "Df Model:                           7                                         \n",
            "Covariance Type:            nonrobust                                         \n",
            "==============================================================================================\n",
            "                                 coef    std err          t      P>|t|      [0.025      0.975]\n",
            "----------------------------------------------------------------------------------------------\n",
            "Intercept                   9591.0033    153.376     62.533      0.000    9290.368    9891.639\n",
            "Gender                       687.6429     83.297      8.255      0.000     524.370     850.916\n",
            "Occupation                   -37.6907      8.632     -4.366      0.000     -54.611     -20.770\n",
            "City_Category                 42.9802     53.095      0.809      0.418     -61.093     147.053\n",
            "Stay_In_Current_City_Years   -43.4228     31.708     -1.369      0.171    -105.575      18.730\n",
            "Marital_Status              1.685e-12   2.18e-13      7.726      0.000    1.26e-12    2.11e-12\n",
            "Product_Category_1          -321.2712     10.930    -29.393      0.000    -342.696    -299.847\n",
            "Product_Category_2            37.7716      6.463      5.845      0.000      25.104      50.439\n",
            "Product_Category_3           164.9932      6.859     24.055      0.000     151.549     178.438\n",
            "==============================================================================\n",
            "Omnibus:                     1266.715   Durbin-Watson:                   1.741\n",
            "Prob(Omnibus):                  0.000   Jarque-Bera (JB):             1650.920\n",
            "Skew:                           0.735   Prob(JB):                         0.00\n",
            "Kurtosis:                       3.680   Cond. No.                     2.61e+17\n",
            "==============================================================================\n",
            "\n",
            "Notes:\n",
            "[1] Standard Errors assume that the covariance matrix of the errors is correctly specified.\n",
            "[2] The smallest eigenvalue is 4.13e-29. This might indicate that there are\n",
            "strong multicollinearity problems or that the design matrix is singular.\n",
            "Age range:  1 \n",
            " Summary                             OLS Regression Results                            \n",
            "==============================================================================\n",
            "Dep. Variable:               Purchase   R-squared:                       0.168\n",
            "Model:                            OLS   Adj. R-squared:                  0.168\n",
            "Method:                 Least Squares   F-statistic:                     2510.\n",
            "Date:                Sun, 21 Aug 2022   Prob (F-statistic):               0.00\n",
            "Time:                        23:25:17   Log-Likelihood:            -9.8177e+05\n",
            "No. Observations:               99660   AIC:                         1.964e+06\n",
            "Df Residuals:                   99651   BIC:                         1.964e+06\n",
            "Df Model:                           8                                         \n",
            "Covariance Type:            nonrobust                                         \n",
            "==============================================================================================\n",
            "                                 coef    std err          t      P>|t|      [0.025      0.975]\n",
            "----------------------------------------------------------------------------------------------\n",
            "Intercept                   9366.1169     52.775    177.473      0.000    9262.679    9469.555\n",
            "Gender                       836.3739     33.966     24.624      0.000     769.800     902.948\n",
            "Occupation                    -1.0076      2.470     -0.408      0.683      -5.848       3.833\n",
            "City_Category                339.9478     19.428     17.498      0.000     301.869     378.027\n",
            "Stay_In_Current_City_Years    10.8378     10.996      0.986      0.324     -10.713      32.389\n",
            "Marital_Status               -71.0965     35.815     -1.985      0.047    -141.294      -0.899\n",
            "Product_Category_1          -374.7041      4.143    -90.436      0.000    -382.825    -366.583\n",
            "Product_Category_2            27.4427      2.390     11.482      0.000      22.758      32.127\n",
            "Product_Category_3           145.4282      2.542     57.212      0.000     140.446     150.410\n",
            "==============================================================================\n",
            "Omnibus:                     8974.643   Durbin-Watson:                   1.739\n",
            "Prob(Omnibus):                  0.000   Jarque-Bera (JB):            12021.755\n",
            "Skew:                           0.761   Prob(JB):                         0.00\n",
            "Kurtosis:                       3.760   Cond. No.                         50.5\n",
            "==============================================================================\n",
            "\n",
            "Notes:\n",
            "[1] Standard Errors assume that the covariance matrix of the errors is correctly specified.\n",
            "Age range:  2 \n",
            " Summary                             OLS Regression Results                            \n",
            "==============================================================================\n",
            "Dep. Variable:               Purchase   R-squared:                       0.145\n",
            "Model:                            OLS   Adj. R-squared:                  0.145\n",
            "Method:                 Least Squares   F-statistic:                     4668.\n",
            "Date:                Sun, 21 Aug 2022   Prob (F-statistic):               0.00\n",
            "Time:                        23:25:17   Log-Likelihood:            -2.1651e+06\n",
            "No. Observations:              219587   AIC:                         4.330e+06\n",
            "Df Residuals:                  219578   BIC:                         4.330e+06\n",
            "Df Model:                           8                                         \n",
            "Covariance Type:            nonrobust                                         \n",
            "==============================================================================================\n",
            "                                 coef    std err          t      P>|t|      [0.025      0.975]\n",
            "----------------------------------------------------------------------------------------------\n",
            "Intercept                   9884.2904     37.270    265.210      0.000    9811.243    9957.338\n",
            "Gender                       407.1547     23.649     17.216      0.000     360.802     453.507\n",
            "Occupation                     4.8309      1.488      3.246      0.001       1.914       7.748\n",
            "City_Category                301.8116     13.083     23.068      0.000     276.168     327.455\n",
            "Stay_In_Current_City_Years   -32.8354      7.674     -4.279      0.000     -47.876     -17.795\n",
            "Marital_Status               -36.7813     20.296     -1.812      0.070     -76.561       2.999\n",
            "Product_Category_1          -342.3950      2.763   -123.929      0.000    -347.810    -336.980\n",
            "Product_Category_2            14.6415      1.604      9.131      0.000      11.499      17.784\n",
            "Product_Category_3           140.1013      1.722     81.377      0.000     136.727     143.476\n",
            "==============================================================================\n",
            "Omnibus:                    22119.058   Durbin-Watson:                   1.711\n",
            "Prob(Omnibus):                  0.000   Jarque-Bera (JB):            30203.954\n",
            "Skew:                           0.824   Prob(JB):                         0.00\n",
            "Kurtosis:                       3.764   Cond. No.                         56.1\n",
            "==============================================================================\n",
            "\n",
            "Notes:\n",
            "[1] Standard Errors assume that the covariance matrix of the errors is correctly specified.\n",
            "Age range:  3 \n",
            " Summary                             OLS Regression Results                            \n",
            "==============================================================================\n",
            "Dep. Variable:               Purchase   R-squared:                       0.154\n",
            "Model:                            OLS   Adj. R-squared:                  0.154\n",
            "Method:                 Least Squares   F-statistic:                     2505.\n",
            "Date:                Sun, 21 Aug 2022   Prob (F-statistic):               0.00\n",
            "Time:                        23:25:18   Log-Likelihood:            -1.0844e+06\n",
            "No. Observations:              110013   AIC:                         2.169e+06\n",
            "Df Residuals:                  110004   BIC:                         2.169e+06\n",
            "Df Model:                           8                                         \n",
            "Covariance Type:            nonrobust                                         \n",
            "==============================================================================================\n",
            "                                 coef    std err          t      P>|t|      [0.025      0.975]\n",
            "----------------------------------------------------------------------------------------------\n",
            "Intercept                   9824.1844     53.389    184.013      0.000    9719.543    9928.825\n",
            "Gender                       317.2278     32.472      9.769      0.000     253.583     380.873\n",
            "Occupation                    10.9413      2.127      5.145      0.000       6.773      15.109\n",
            "City_Category                378.9627     18.669     20.299      0.000     342.373     415.553\n",
            "Stay_In_Current_City_Years    59.6342     11.132      5.357      0.000      37.816      81.453\n",
            "Marital_Status              -119.9564     28.604     -4.194      0.000    -176.019     -63.894\n",
            "Product_Category_1          -348.3318      3.793    -91.839      0.000    -355.766    -340.898\n",
            "Product_Category_2             8.9225      2.239      3.985      0.000       4.534      13.311\n",
            "Product_Category_3           142.2510      2.416     58.874      0.000     137.515     146.987\n",
            "==============================================================================\n",
            "Omnibus:                    12123.373   Durbin-Watson:                   1.737\n",
            "Prob(Omnibus):                  0.000   Jarque-Bera (JB):            17248.238\n",
            "Skew:                           0.858   Prob(JB):                         0.00\n",
            "Kurtosis:                       3.904   Cond. No.                         59.1\n",
            "==============================================================================\n",
            "\n",
            "Notes:\n",
            "[1] Standard Errors assume that the covariance matrix of the errors is correctly specified.\n",
            "Age range:  4 \n",
            " Summary                             OLS Regression Results                            \n",
            "==============================================================================\n",
            "Dep. Variable:               Purchase   R-squared:                       0.157\n",
            "Model:                            OLS   Adj. R-squared:                  0.157\n",
            "Method:                 Least Squares   F-statistic:                     1067.\n",
            "Date:                Sun, 21 Aug 2022   Prob (F-statistic):               0.00\n",
            "Time:                        23:25:18   Log-Likelihood:            -4.4988e+05\n",
            "No. Observations:               45701   AIC:                         8.998e+05\n",
            "Df Residuals:                   45692   BIC:                         8.998e+05\n",
            "Df Model:                           8                                         \n",
            "Covariance Type:            nonrobust                                         \n",
            "==============================================================================================\n",
            "                                 coef    std err          t      P>|t|      [0.025      0.975]\n",
            "----------------------------------------------------------------------------------------------\n",
            "Intercept                   9173.5166     89.314    102.711      0.000    8998.460    9348.574\n",
            "Gender                       411.3389     48.712      8.444      0.000     315.862     506.816\n",
            "Occupation                    14.3034      3.297      4.338      0.000       7.841      20.766\n",
            "City_Category                527.8784     30.231     17.462      0.000     468.625     587.132\n",
            "Stay_In_Current_City_Years    79.7149     16.639      4.791      0.000      47.102     112.328\n",
            "Marital_Status               314.9307     47.962      6.566      0.000     220.924     408.938\n",
            "Product_Category_1          -328.7132      5.727    -57.402      0.000    -339.937    -317.489\n",
            "Product_Category_2           -10.9134      3.406     -3.204      0.001     -17.589      -4.238\n",
            "Product_Category_3           150.9192      3.702     40.768      0.000     143.663     158.175\n",
            "==============================================================================\n",
            "Omnibus:                     5431.028   Durbin-Watson:                   1.728\n",
            "Prob(Omnibus):                  0.000   Jarque-Bera (JB):             7959.566\n",
            "Skew:                           0.895   Prob(JB):                         0.00\n",
            "Kurtosis:                       3.989   Cond. No.                         64.7\n",
            "==============================================================================\n",
            "\n",
            "Notes:\n",
            "[1] Standard Errors assume that the covariance matrix of the errors is correctly specified.\n",
            "Age range:  5 \n",
            " Summary                             OLS Regression Results                            \n",
            "==============================================================================\n",
            "Dep. Variable:               Purchase   R-squared:                       0.153\n",
            "Model:                            OLS   Adj. R-squared:                  0.153\n",
            "Method:                 Least Squares   F-statistic:                     869.8\n",
            "Date:                Sun, 21 Aug 2022   Prob (F-statistic):               0.00\n",
            "Time:                        23:25:18   Log-Likelihood:            -3.8002e+05\n",
            "No. Observations:               38501   AIC:                         7.601e+05\n",
            "Df Residuals:                   38492   BIC:                         7.601e+05\n",
            "Df Model:                           8                                         \n",
            "Covariance Type:            nonrobust                                         \n",
            "==============================================================================================\n",
            "                                 coef    std err          t      P>|t|      [0.025      0.975]\n",
            "----------------------------------------------------------------------------------------------\n",
            "Intercept                    1.04e+04     99.698    104.343      0.000    1.02e+04    1.06e+04\n",
            "Gender                       390.1765     55.854      6.986      0.000     280.702     499.651\n",
            "Occupation                    25.4364      3.670      6.931      0.000      18.244      32.629\n",
            "City_Category                187.8490     34.317      5.474      0.000     120.587     255.111\n",
            "Stay_In_Current_City_Years   -20.6896     18.904     -1.094      0.274     -57.742      16.363\n",
            "Marital_Status              -213.3133     53.551     -3.983      0.000    -318.275    -108.351\n",
            "Product_Category_1          -341.7118      6.314    -54.116      0.000    -354.088    -329.335\n",
            "Product_Category_2            -0.9291      3.787     -0.245      0.806      -8.351       6.493\n",
            "Product_Category_3           146.8032      4.108     35.739      0.000     138.752     154.854\n",
            "==============================================================================\n",
            "Omnibus:                     4601.926   Durbin-Watson:                   1.737\n",
            "Prob(Omnibus):                  0.000   Jarque-Bera (JB):             6723.025\n",
            "Skew:                           0.902   Prob(JB):                         0.00\n",
            "Kurtosis:                       3.969   Cond. No.                         64.5\n",
            "==============================================================================\n",
            "\n",
            "Notes:\n",
            "[1] Standard Errors assume that the covariance matrix of the errors is correctly specified.\n",
            "Age range:  6 \n",
            " Summary                             OLS Regression Results                            \n",
            "==============================================================================\n",
            "Dep. Variable:               Purchase   R-squared:                       0.159\n",
            "Model:                            OLS   Adj. R-squared:                  0.159\n",
            "Method:                 Least Squares   F-statistic:                     508.5\n",
            "Date:                Sun, 21 Aug 2022   Prob (F-statistic):               0.00\n",
            "Time:                        23:25:18   Log-Likelihood:            -2.1185e+05\n",
            "No. Observations:               21504   AIC:                         4.237e+05\n",
            "Df Residuals:                   21495   BIC:                         4.238e+05\n",
            "Df Model:                           8                                         \n",
            "Covariance Type:            nonrobust                                         \n",
            "==============================================================================================\n",
            "                                 coef    std err          t      P>|t|      [0.025      0.975]\n",
            "----------------------------------------------------------------------------------------------\n",
            "Intercept                   1.042e+04    136.283     76.470      0.000    1.02e+04    1.07e+04\n",
            "Gender                       332.5192     75.902      4.381      0.000     183.746     481.292\n",
            "Occupation                   -13.2634      5.029     -2.638      0.008     -23.120      -3.407\n",
            "City_Category                343.0585     41.789      8.209      0.000     261.149     424.968\n",
            "Stay_In_Current_City_Years    61.4214     24.194      2.539      0.011      14.000     108.843\n",
            "Marital_Status              -207.6665     65.628     -3.164      0.002    -336.302     -79.031\n",
            "Product_Category_1          -362.0419      8.293    -43.657      0.000    -378.296    -345.787\n",
            "Product_Category_2             1.7512      4.955      0.353      0.724      -7.962      11.464\n",
            "Product_Category_3           138.1512      5.472     25.248      0.000     127.426     148.876\n",
            "==============================================================================\n",
            "Omnibus:                     2767.062   Durbin-Watson:                   1.747\n",
            "Prob(Omnibus):                  0.000   Jarque-Bera (JB):             4255.583\n",
            "Skew:                           0.925   Prob(JB):                         0.00\n",
            "Kurtosis:                       4.151   Cond. No.                         69.3\n",
            "==============================================================================\n",
            "\n",
            "Notes:\n",
            "[1] Standard Errors assume that the covariance matrix of the errors is correctly specified.\n"
          ]
        }
      ]
    },
    {
      "cell_type": "markdown",
      "source": [
        "### **ANN Model**"
      ],
      "metadata": {
        "id": "3sToV1o6ssAc"
      }
    },
    {
      "cell_type": "code",
      "source": [
        "from tensorflow import keras\n",
        "from tensorflow.keras import layers\n",
        "from tensorflow.keras.models import Sequential"
      ],
      "metadata": {
        "id": "XfZstqYestKw"
      },
      "execution_count": 63,
      "outputs": []
    },
    {
      "cell_type": "code",
      "source": [
        "annDf = mlr_model_df.copy()"
      ],
      "metadata": {
        "id": "9VEtF6SDNB3p"
      },
      "execution_count": 64,
      "outputs": []
    },
    {
      "cell_type": "code",
      "source": [
        "annDf.info()"
      ],
      "metadata": {
        "id": "fezapMdv2p3i",
        "outputId": "89cfe9fb-7084-4fc2-f5f9-71caea2971db",
        "colab": {
          "base_uri": "https://localhost:8080/"
        }
      },
      "execution_count": 95,
      "outputs": [
        {
          "output_type": "stream",
          "name": "stdout",
          "text": [
            "<class 'pandas.core.frame.DataFrame'>\n",
            "RangeIndex: 550068 entries, 0 to 550067\n",
            "Data columns (total 10 columns):\n",
            " #   Column                      Non-Null Count   Dtype  \n",
            "---  ------                      --------------   -----  \n",
            " 0   Gender                      550068 non-null  float64\n",
            " 1   Age                         550068 non-null  float64\n",
            " 2   Occupation                  550068 non-null  float64\n",
            " 3   City_Category               550068 non-null  float64\n",
            " 4   Stay_In_Current_City_Years  550068 non-null  float64\n",
            " 5   Marital_Status              550068 non-null  float64\n",
            " 6   Product_Category_1          550068 non-null  float64\n",
            " 7   Product_Category_2          550068 non-null  float64\n",
            " 8   Product_Category_3          550068 non-null  float64\n",
            " 9   Purchase                    550068 non-null  float64\n",
            "dtypes: float64(10)\n",
            "memory usage: 42.0 MB\n"
          ]
        }
      ]
    },
    {
      "cell_type": "code",
      "source": [
        "from tensorflow.keras.layers import Dropout"
      ],
      "metadata": {
        "id": "kjOjEBuQRrGS"
      },
      "execution_count": 96,
      "outputs": []
    },
    {
      "cell_type": "code",
      "source": [
        "from tensorflow.keras.optimizers import Adam"
      ],
      "metadata": {
        "id": "B2dOyEkXef6O"
      },
      "execution_count": 97,
      "outputs": []
    },
    {
      "cell_type": "code",
      "source": [
        "annModel = keras.Sequential()\n",
        "\n",
        "#\n",
        "annModel.add(keras.layers.Dense(9, activation=\"relu\"))\n",
        "#annModel.add(keras.layers.Dense(1000, activation=\"relu\"))\n",
        "#annModel.add(keras.layers.Dense(610, activation=\"relu\"))\n",
        "#annModel.add(keras.layers.Dense(220, activation=\"relu\"))\n",
        "annModel.add(keras.layers.Dense(16, activation=\"relu\"))\n",
        "annModel.add(Dropout(0.2))\n",
        "annModel.add(keras.layers.Dense(8, activation=\"relu\"))\n",
        "annModel.add(keras.layers.Dense(1, activation=\"linear\"))"
      ],
      "metadata": {
        "id": "U74bII46s0PD"
      },
      "execution_count": 98,
      "outputs": []
    },
    {
      "cell_type": "code",
      "source": [
        "from tensorflow.keras.optimizers import SGD\n",
        "opt = SGD(learning_rate=0.1, momentum=0.9)\n",
        "annModel.compile(loss=\"mean_squared_error\",\n",
        "              optimizer=\"Adam\",\n",
        "              metrics=[\"mse\"])"
      ],
      "metadata": {
        "id": "N7pFfMxeD5nE"
      },
      "execution_count": 99,
      "outputs": []
    },
    {
      "cell_type": "code",
      "source": [
        "#annModel.summary()"
      ],
      "metadata": {
        "id": "7oIC6gSJtOFy"
      },
      "execution_count": 100,
      "outputs": []
    },
    {
      "cell_type": "code",
      "source": [
        "from sklearn.model_selection import train_test_split"
      ],
      "metadata": {
        "id": "ejHppPdQyJJa"
      },
      "execution_count": 101,
      "outputs": []
    },
    {
      "cell_type": "markdown",
      "source": [
        ""
      ],
      "metadata": {
        "id": "TZwxf54bum6N"
      }
    },
    {
      "cell_type": "code",
      "source": [
        ""
      ],
      "metadata": {
        "id": "QkFHnIPHuiuN"
      },
      "execution_count": 101,
      "outputs": []
    },
    {
      "cell_type": "code",
      "source": [
        "target = annDf[\"Purchase\"]\n",
        "train = annDf.drop(columns = \"Purchase\")"
      ],
      "metadata": {
        "id": "IbfcMNlCetbV"
      },
      "execution_count": 102,
      "outputs": []
    },
    {
      "cell_type": "code",
      "source": [
        "x_train,x_test,y_train,y_test = train_test_split(train,target,test_size=0.2,shuffle=True,random_state=14)"
      ],
      "metadata": {
        "id": "l3dLk0m3fCob"
      },
      "execution_count": 103,
      "outputs": []
    },
    {
      "cell_type": "code",
      "source": [
        "#annTrain, annTest = train_test_split(annDf, test_size=.30, random_state=42)"
      ],
      "metadata": {
        "id": "xG_AT3XpTuKt"
      },
      "execution_count": 104,
      "outputs": []
    },
    {
      "cell_type": "code",
      "source": [
        "#trainTarger = annTrain.Purchase"
      ],
      "metadata": {
        "id": "xvPV5NQdUN_d"
      },
      "execution_count": 105,
      "outputs": []
    },
    {
      "cell_type": "code",
      "source": [
        "#annTrain.drop(columns = 'Purchase', inplace=True)"
      ],
      "metadata": {
        "id": "CswihlGXUXBW"
      },
      "execution_count": 106,
      "outputs": []
    },
    {
      "cell_type": "code",
      "source": [
        "#testTarget = annTest.Purchase"
      ],
      "metadata": {
        "id": "asHW5jRmUbh2"
      },
      "execution_count": 107,
      "outputs": []
    },
    {
      "cell_type": "code",
      "source": [
        "#nnTest.drop(columns = 'Purchase', inplace=True)"
      ],
      "metadata": {
        "id": "uan9Y4nIUe9F"
      },
      "execution_count": 110,
      "outputs": []
    },
    {
      "cell_type": "code",
      "source": [
        "print(x_train.shape)\n",
        "print(y_train.shape) \n",
        "print(x_test.shape) \n",
        "print(y_test.shape)"
      ],
      "metadata": {
        "colab": {
          "base_uri": "https://localhost:8080/"
        },
        "id": "Es7BuibNuvAq",
        "outputId": "3c892701-4be4-4cf7-bc12-476bcfb025d6"
      },
      "execution_count": 111,
      "outputs": [
        {
          "output_type": "stream",
          "name": "stdout",
          "text": [
            "(440054, 9)\n",
            "(440054,)\n",
            "(110014, 9)\n",
            "(110014,)\n"
          ]
        }
      ]
    },
    {
      "cell_type": "code",
      "source": [
        "# \"annxTrain, annxTest, annyTrain, annyTest = train_test_split(annDf.iloc[:,:-1], annDf.Purchase, test_size=.30, random_state=42)\n",
        "# print(annTrain.shape)\n",
        "# print(trainTarger.shape) \n",
        "# print(annTest.shape) \n",
        "# print(testTarget.shape)"
      ],
      "metadata": {
        "id": "pi73izniyPlS"
      },
      "execution_count": 112,
      "outputs": []
    },
    {
      "cell_type": "code",
      "source": [
        "# annModelHistory = annModel.fit(annTrain, trainTarger, epochs=3, validation_data=(annTest,testTarget))\n",
        "annModelHistory = annModel.fit(x_train, y_train, batch_size=128,epochs=20)"
      ],
      "metadata": {
        "id": "8uo5I-qlzryT",
        "outputId": "13a9898f-289f-4815-9c90-aeaa90ca329b",
        "colab": {
          "base_uri": "https://localhost:8080/"
        }
      },
      "execution_count": 113,
      "outputs": [
        {
          "output_type": "stream",
          "name": "stdout",
          "text": [
            "Epoch 1/20\n",
            "3438/3438 [==============================] - 10s 2ms/step - loss: 0.0361 - mse: 0.0361\n",
            "Epoch 2/20\n",
            "3438/3438 [==============================] - 9s 3ms/step - loss: 0.0288 - mse: 0.0288\n",
            "Epoch 3/20\n",
            "3438/3438 [==============================] - 6s 2ms/step - loss: 0.0258 - mse: 0.0258\n",
            "Epoch 4/20\n",
            "3438/3438 [==============================] - 6s 2ms/step - loss: 0.0236 - mse: 0.0236\n",
            "Epoch 5/20\n",
            "3438/3438 [==============================] - 6s 2ms/step - loss: 0.0228 - mse: 0.0228\n",
            "Epoch 6/20\n",
            "3438/3438 [==============================] - 6s 2ms/step - loss: 0.0222 - mse: 0.0222\n",
            "Epoch 7/20\n",
            "3438/3438 [==============================] - 7s 2ms/step - loss: 0.0217 - mse: 0.0217\n",
            "Epoch 8/20\n",
            "3438/3438 [==============================] - 6s 2ms/step - loss: 0.0213 - mse: 0.0213\n",
            "Epoch 9/20\n",
            "3438/3438 [==============================] - 6s 2ms/step - loss: 0.0203 - mse: 0.0203\n",
            "Epoch 10/20\n",
            "3438/3438 [==============================] - 6s 2ms/step - loss: 0.0199 - mse: 0.0199\n",
            "Epoch 11/20\n",
            "3438/3438 [==============================] - 7s 2ms/step - loss: 0.0198 - mse: 0.0198\n",
            "Epoch 12/20\n",
            "3438/3438 [==============================] - 6s 2ms/step - loss: 0.0196 - mse: 0.0196\n",
            "Epoch 13/20\n",
            "3438/3438 [==============================] - 6s 2ms/step - loss: 0.0195 - mse: 0.0195\n",
            "Epoch 14/20\n",
            "3438/3438 [==============================] - 7s 2ms/step - loss: 0.0193 - mse: 0.0193\n",
            "Epoch 15/20\n",
            "3438/3438 [==============================] - 6s 2ms/step - loss: 0.0192 - mse: 0.0192\n",
            "Epoch 16/20\n",
            "3438/3438 [==============================] - 7s 2ms/step - loss: 0.0191 - mse: 0.0191\n",
            "Epoch 17/20\n",
            "3438/3438 [==============================] - 7s 2ms/step - loss: 0.0191 - mse: 0.0191\n",
            "Epoch 18/20\n",
            "3438/3438 [==============================] - 7s 2ms/step - loss: 0.0191 - mse: 0.0191\n",
            "Epoch 19/20\n",
            "3438/3438 [==============================] - 7s 2ms/step - loss: 0.0190 - mse: 0.0190\n",
            "Epoch 20/20\n",
            "3438/3438 [==============================] - 7s 2ms/step - loss: 0.0190 - mse: 0.0190\n"
          ]
        }
      ]
    },
    {
      "cell_type": "code",
      "source": [
        "from sklearn.metrics import r2_score"
      ],
      "metadata": {
        "id": "5HzYRiNlSCW3"
      },
      "execution_count": 114,
      "outputs": []
    },
    {
      "cell_type": "code",
      "source": [
        "pred=annModel.predict(x_test)"
      ],
      "metadata": {
        "id": "wccoQC85SCxF"
      },
      "execution_count": 115,
      "outputs": []
    },
    {
      "cell_type": "code",
      "source": [
        "print(pred)"
      ],
      "metadata": {
        "id": "ZTfxoFduSlt9",
        "outputId": "37476b29-4aa4-47ac-f040-7c9647564d76",
        "colab": {
          "base_uri": "https://localhost:8080/"
        }
      },
      "execution_count": 116,
      "outputs": [
        {
          "output_type": "stream",
          "name": "stdout",
          "text": [
            "[[0.36172017]\n",
            " [0.21769884]\n",
            " [0.6685997 ]\n",
            " ...\n",
            " [0.21718606]\n",
            " [0.21446523]\n",
            " [0.2086936 ]]\n"
          ]
        }
      ]
    },
    {
      "cell_type": "code",
      "source": [
        "r2_score(y_test, pred)"
      ],
      "metadata": {
        "id": "6tyZBA3iSx_W",
        "outputId": "d2e70d34-34cf-44f7-add1-09f627f5f818",
        "colab": {
          "base_uri": "https://localhost:8080/"
        }
      },
      "execution_count": 117,
      "outputs": [
        {
          "output_type": "execute_result",
          "data": {
            "text/plain": [
              "0.5517060301112471"
            ]
          },
          "metadata": {},
          "execution_count": 117
        }
      ]
    },
    {
      "cell_type": "code",
      "source": [
        "pred_train_ann= annModel.predict(x_train)\n",
        "print(mean_squared_error(y_train,pred_train_ann))\n",
        "print('r2 train',r2_score(y_train, pred_train_ann))\n",
        "\n",
        "pred_test_ann= annModel.predict(x_test)\n",
        "print(mean_squared_error(y_test,pred_test_ann))\n",
        "print('r2 test',r2_score(y_test, pred_test_ann))"
      ],
      "metadata": {
        "id": "hVaLnSvDS4HF",
        "colab": {
          "base_uri": "https://localhost:8080/"
        },
        "outputId": "98ce904d-acde-4c10-8ab4-24ed4b310d8d"
      },
      "execution_count": 143,
      "outputs": [
        {
          "output_type": "stream",
          "name": "stdout",
          "text": [
            "0.01981294754047054\n",
            "r2 train 0.549273791075408\n",
            "0.019779622479102248\n",
            "r2 test 0.5517060301112471\n"
          ]
        }
      ]
    },
    {
      "cell_type": "markdown",
      "source": [
        "### **REDUCE MEMORY USAGE**"
      ],
      "metadata": {
        "id": "YdjRuDDSjFBe"
      }
    },
    {
      "cell_type": "code",
      "source": [
        "def reduce_mem_usage(df, verbose=True):\n",
        "    numerics = ['int8','int16', 'int32', 'int64', 'float16', 'float32', 'float64']\n",
        "    start_mem = df.memory_usage().sum() / 1024**2    \n",
        "    for col in df.columns:\n",
        "        col_type = df[col].dtypes\n",
        "        if col_type in numerics:\n",
        "            c_min = df[col].min()\n",
        "            c_max = df[col].max()\n",
        "            if str(col_type)[:3] == 'int':\n",
        "                if c_min > np.iinfo(np.int8).min and c_max < np.iinfo(np.int8).max:\n",
        "                    df[col] = df[col].astype(np.int8)\n",
        "                elif c_min > np.iinfo(np.int16).min and c_max < np.iinfo(np.int16).max:\n",
        "                    df[col] = df[col].astype(np.int16)\n",
        "                elif c_min > np.iinfo(np.int32).min and c_max < np.iinfo(np.int32).max:\n",
        "                    df[col] = df[col].astype(np.int32)\n",
        "                elif c_min > np.iinfo(np.int64).min and c_max < np.iinfo(np.int64).max:\n",
        "                    df[col] = df[col].astype(np.int64)  \n",
        "            else:\n",
        "                if c_min > np.finfo(np.float16).min and c_max < np.finfo(np.float16).max:\n",
        "                    df[col] = df[col].astype(np.float16)\n",
        "                elif c_min > np.finfo(np.float32).min and c_max < np.finfo(np.float32).max:\n",
        "                    df[col] = df[col].astype(np.float32)\n",
        "                else:\n",
        "                    df[col] = df[col].astype(np.float64)    \n",
        "    end_mem = df.memory_usage().sum() / 1024**2\n",
        "    if verbose: print('Mem. usage decreased to {:5.2f} Mb ({:.1f}% reduction)'.format(end_mem, 100 * (start_mem - end_mem) / start_mem))\n",
        "    return df\n",
        "\n"
      ],
      "metadata": {
        "id": "1c-RALTU29Pn"
      },
      "execution_count": 132,
      "outputs": []
    },
    {
      "cell_type": "code",
      "source": [
        "X = reduce_mem_usage(x_train)\n",
        "y= y_train"
      ],
      "metadata": {
        "id": "ZoTALrMv4ruB",
        "outputId": "456b766b-78ad-493a-c5b0-a70a22c1ac34",
        "colab": {
          "base_uri": "https://localhost:8080/"
        }
      },
      "execution_count": 133,
      "outputs": [
        {
          "output_type": "stream",
          "name": "stdout",
          "text": [
            "Mem. usage decreased to 10.91 Mb (67.5% reduction)\n"
          ]
        }
      ]
    },
    {
      "cell_type": "code",
      "source": [
        "model = lgb.LGBMRegressor()"
      ],
      "metadata": {
        "id": "4zCWKwbN4vCu"
      },
      "execution_count": 134,
      "outputs": []
    },
    {
      "cell_type": "code",
      "source": [
        "model.fit(X,y_train)"
      ],
      "metadata": {
        "id": "HJ60Oea_47Gz",
        "outputId": "afc5f49d-bef3-4a6f-e8a3-8547d7ceefd4",
        "colab": {
          "base_uri": "https://localhost:8080/"
        }
      },
      "execution_count": 135,
      "outputs": [
        {
          "output_type": "execute_result",
          "data": {
            "text/plain": [
              "LGBMRegressor()"
            ]
          },
          "metadata": {},
          "execution_count": 135
        }
      ]
    },
    {
      "cell_type": "code",
      "source": [
        "x_pred = model.predict(x_test)\n",
        "r2_score(y_test,x_pred)"
      ],
      "metadata": {
        "id": "e5ll3I-l5CCu",
        "outputId": "724ea1c9-9ce8-41ca-f56f-c633b98d1794",
        "colab": {
          "base_uri": "https://localhost:8080/"
        }
      },
      "execution_count": 136,
      "outputs": [
        {
          "output_type": "execute_result",
          "data": {
            "text/plain": [
              "0.6676031306973145"
            ]
          },
          "metadata": {},
          "execution_count": 136
        }
      ]
    },
    {
      "cell_type": "code",
      "source": [
        "pred_train_mod= model.predict(x_train)\n",
        "print(np.sqrt(mean_squared_error(y_train,pred_train_mod)))\n",
        "print('r2 train',r2_score(y_train, pred_train_mod))\n",
        "\n",
        "pred_test_mod= model.predict(x_test)\n",
        "print(np.sqrt(mean_squared_error(y_test,pred_test_mod))) \n",
        "print('r2 test',r2_score(y_test, pred_test_mod))"
      ],
      "metadata": {
        "colab": {
          "base_uri": "https://localhost:8080/"
        },
        "id": "YJW-Sf6xLMtW",
        "outputId": "ed63164d-899a-42da-c048-0f5222fa87b3"
      },
      "execution_count": 138,
      "outputs": [
        {
          "output_type": "stream",
          "name": "stdout",
          "text": [
            "0.12107225627185056\n",
            "r2 train 0.6665328986964942\n",
            "0.12110330985054721\n",
            "r2 test 0.6676031306973145\n"
          ]
        }
      ]
    },
    {
      "cell_type": "code",
      "source": [
        "1-0.12107225627185056"
      ],
      "metadata": {
        "colab": {
          "base_uri": "https://localhost:8080/"
        },
        "id": "ICOliyH7Ls7F",
        "outputId": "6ca4d2a8-51b0-42f5-b65a-ecc8fd9c7c46"
      },
      "execution_count": 139,
      "outputs": [
        {
          "output_type": "execute_result",
          "data": {
            "text/plain": [
              "0.8789277437281494"
            ]
          },
          "metadata": {},
          "execution_count": 139
        }
      ]
    },
    {
      "cell_type": "markdown",
      "source": [
        "### **RIDGE AND LASSO REGRESSION**"
      ],
      "metadata": {
        "id": "omjeJSaut_i8"
      }
    },
    {
      "cell_type": "code",
      "source": [
        "from sklearn.linear_model import Ridge, RidgeCV, Lasso"
      ],
      "metadata": {
        "id": "Gk57El6guGoj"
      },
      "execution_count": 3,
      "outputs": []
    },
    {
      "cell_type": "code",
      "source": [
        "ridgeReg = Ridge(alpha=10)\n",
        "\n",
        "ridgeReg.fit(x_train,y_train)\n",
        "\n",
        "#train and test scorefor ridge regression\n",
        "train_score_ridge = ridgeReg.score(x_train, y_train)\n",
        "test_score_ridge = ridgeReg.score(x_test, y_test)\n",
        "\n",
        "print(\"\\nRidge Model............................................\\n\")\n",
        "print(\"The train score for ridge model is {}\".format(train_score_ridge))\n",
        "print(\"The test score for ridge model is {}\".format(test_score_ridge))"
      ],
      "metadata": {
        "colab": {
          "base_uri": "https://localhost:8080/"
        },
        "id": "jC9Ufx_LuAez",
        "outputId": "0565e941-5eb2-4a89-951a-ce99634151f2"
      },
      "execution_count": 71,
      "outputs": [
        {
          "output_type": "stream",
          "name": "stdout",
          "text": [
            "\n",
            "Ridge Model............................................\n",
            "\n",
            "The train score for ridge model is 0.1527453362968324\n",
            "The test score for ridge model is 0.14996789007628197\n"
          ]
        }
      ]
    },
    {
      "cell_type": "code",
      "source": [
        "from sklearn.metrics import mean_squared_error\n",
        "from sklearn.metrics import r2_score"
      ],
      "metadata": {
        "id": "Kxbl64ocwpZ6"
      },
      "execution_count": 81,
      "outputs": []
    },
    {
      "cell_type": "code",
      "source": [
        "pred_train_rr= ridgeReg.predict(x_train)\n",
        "print(np.sqrt(mean_squared_error(y_train,pred_train_rr)))\n",
        "print('r2 train',r2_score(y_train, pred_train_rr))\n",
        "\n",
        "pred_test_rr= ridgeReg.predict(x_test)\n",
        "print(np.sqrt(mean_squared_error(y_test,pred_test_rr))) \n",
        "print('r2 test',r2_score(y_test, pred_test_rr))"
      ],
      "metadata": {
        "colab": {
          "base_uri": "https://localhost:8080/"
        },
        "id": "UD0eCobmwFqL",
        "outputId": "09f8f06e-2dbd-4e8b-a8ec-583189cb5b23"
      },
      "execution_count": 86,
      "outputs": [
        {
          "output_type": "stream",
          "name": "stdout",
          "text": [
            "0.1929856969850491\n",
            "r2 train 0.1527453362968324\n",
            "0.1936623583845488\n",
            "r2 test 0.14996789007628197\n"
          ]
        }
      ]
    },
    {
      "cell_type": "code",
      "source": [
        "from sklearn.linear_model import RidgeCV\n",
        "\n",
        "#Lasso Cross validation\n",
        "ridge_cv = RidgeCV(alphas = [0.0001, 0.001,0.01, 0.1, 1, 10]).fit(x_train, y_train)\n",
        "\n",
        "#score\n",
        "print(\"The train score for ridge model is {}\".format(ridge_cv.score(x_train, y_train)))\n",
        "print(\"The train score for ridge model is {}\".format(ridge_cv.score(x_test, y_test))) "
      ],
      "metadata": {
        "colab": {
          "base_uri": "https://localhost:8080/"
        },
        "id": "VTPUt0ehuKer",
        "outputId": "64a7a2f2-d1c2-4169-8593-e615ff4d8f48"
      },
      "execution_count": 72,
      "outputs": [
        {
          "output_type": "stream",
          "name": "stdout",
          "text": [
            "The train score for ridge model is 0.1527453579263267\n",
            "The train score for ridge model is 0.14996848229955295\n"
          ]
        }
      ]
    },
    {
      "cell_type": "code",
      "source": [
        "pred_train_cv= ridge_cv.predict(x_train)\n",
        "print(np.sqrt(mean_squared_error(y_train,pred_train_cv)))\n",
        "print('r2 train',r2_score(y_train, pred_train_cv))\n",
        "\n",
        "pred_test_cv= ridge_cv.predict(x_test)\n",
        "print(np.sqrt(mean_squared_error(y_test,pred_test_cv))) \n",
        "print('r2 test',r2_score(y_test, pred_test_cv))"
      ],
      "metadata": {
        "colab": {
          "base_uri": "https://localhost:8080/"
        },
        "id": "hmJLVv1CxSsJ",
        "outputId": "e10d111c-2b62-47a0-c8bd-91f9fe974c69"
      },
      "execution_count": 87,
      "outputs": [
        {
          "output_type": "stream",
          "name": "stdout",
          "text": [
            "0.19298569452169115\n",
            "r2 train 0.1527453579263267\n",
            "0.19366229092158238\n",
            "r2 test 0.14996848229955295\n"
          ]
        }
      ]
    },
    {
      "cell_type": "code",
      "source": [
        "print(\"\\nLasso Model............................................\\n\")\n",
        "lasso = Lasso(alpha = 10)\n",
        "lasso.fit(x_train,y_train)\n",
        "train_score_ls =lasso.score(x_train,y_train)\n",
        "test_score_ls =lasso.score(x_test,y_test)\n",
        "\n",
        "print(\"The train score for ls model is {}\".format(train_score_ls))\n",
        "print(\"The test score for ls model is {}\".format(test_score_ls))"
      ],
      "metadata": {
        "colab": {
          "base_uri": "https://localhost:8080/"
        },
        "id": "r4NMQkJSvamD",
        "outputId": "11a79f1d-2cc7-4bde-83d6-c92b31db531c"
      },
      "execution_count": 73,
      "outputs": [
        {
          "output_type": "stream",
          "name": "stdout",
          "text": [
            "\n",
            "Lasso Model............................................\n",
            "\n",
            "The train score for ls model is 0.0\n",
            "The test score for ls model is -2.2675827455298503e-05\n"
          ]
        }
      ]
    },
    {
      "cell_type": "code",
      "source": [
        "pred_train_l= lasso.predict(x_train)\n",
        "print(np.sqrt(mean_squared_error(y_train,pred_train_l)))\n",
        "print('r2 train',r2_score(y_train, pred_train_l))\n",
        "\n",
        "pred_test_l= lasso.predict(x_test)\n",
        "print(np.sqrt(mean_squared_error(y_test,pred_test_l))) \n",
        "print('r2 test',r2_score(y_test, pred_test_l))"
      ],
      "metadata": {
        "colab": {
          "base_uri": "https://localhost:8080/"
        },
        "id": "B1FL3mU9xf9S",
        "outputId": "0fe6b93b-269f-42dc-c1c0-ba2268f764b6"
      },
      "execution_count": 148,
      "outputs": [
        {
          "output_type": "stream",
          "name": "stdout",
          "text": [
            "0.20966123453295438\n",
            "r2 train 0.0\n",
            "0.21005473440358774\n",
            "r2 test -2.2675827455298503e-05\n"
          ]
        }
      ]
    },
    {
      "cell_type": "code",
      "source": [
        "from sklearn.linear_model import LassoCV\n",
        "\n",
        "#Lasso Cross validation\n",
        "lasso_cv = LassoCV(alphas = [0.0001, 0.001,0.01, 0.1, 1, 10], random_state=0).fit(x_train, y_train)\n",
        "\n",
        "\n",
        "#score\n",
        "print(lasso_cv.score(x_train, y_train))\n",
        "print(lasso_cv.score(x_test, y_test))"
      ],
      "metadata": {
        "colab": {
          "base_uri": "https://localhost:8080/"
        },
        "id": "tG7rkL3Lvk1C",
        "outputId": "463fe5db-bb0f-40ce-f185-4fed1899e339"
      },
      "execution_count": 76,
      "outputs": [
        {
          "output_type": "stream",
          "name": "stdout",
          "text": [
            "0.1527255422346223\n",
            "0.14995564970275654\n"
          ]
        }
      ]
    },
    {
      "cell_type": "code",
      "source": [
        "pred_train_lcv= lasso_cv.predict(x_train)\n",
        "print(np.sqrt(mean_squared_error(y_train,pred_train_lcv)))\n",
        "print('r2 train',r2_score(y_train, pred_train_lcv))\n",
        "\n",
        "pred_test_lcv= lasso_cv.predict(x_test)\n",
        "print(np.sqrt(mean_squared_error(y_test,pred_test_lcv)))\n",
        "print('r2 test',r2_score(y_test, pred_test_lcv))"
      ],
      "metadata": {
        "colab": {
          "base_uri": "https://localhost:8080/"
        },
        "id": "V7wGoQizvs37",
        "outputId": "a7a6810a-37f4-4480-f29c-17d79c907c4a"
      },
      "execution_count": 147,
      "outputs": [
        {
          "output_type": "stream",
          "name": "stdout",
          "text": [
            "0.1929872295758957\n",
            "r2 train 0.15273187934205712\n",
            "0.19366375273838735\n",
            "r2 test 0.14995564970275654\n"
          ]
        }
      ]
    },
    {
      "cell_type": "code",
      "source": [
        ""
      ],
      "metadata": {
        "id": "PQjIe6-8AvRn"
      },
      "execution_count": null,
      "outputs": []
    }
  ]
}